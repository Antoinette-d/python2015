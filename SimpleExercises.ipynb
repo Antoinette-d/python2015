{
 "metadata": {
  "name": "",
  "signature": "sha256:ec6ae4802c21f7240fb8ee48efab9464c8a6a8a516f6f285252eb926721e2fa1"
 },
 "nbformat": 3,
 "nbformat_minor": 0,
 "worksheets": [
  {
   "cells": [
    {
     "cell_type": "markdown",
     "metadata": {},
     "source": [
      "These exercises are taken from http://www.ling.gu.se/~lager/python_exercises.html\n",
      "\n",
      "1) Define a function **max()** that takes two numbers as arguments and returns the largest of them. Use the if-then-else construct available in Python. (It is true that Python has the **max()** function built in, but writing it yourself is nevertheless a good exercise.)"
     ]
    },
    {
     "cell_type": "code",
     "collapsed": false,
     "input": [
      "def max(num1, num2):\n",
      "    if num1 > num2:\n",
      "        return num1\n",
      "    else:\n",
      "        return num2"
     ],
     "language": "python",
     "metadata": {},
     "outputs": [],
     "prompt_number": 1
    },
    {
     "cell_type": "code",
     "collapsed": false,
     "input": [
      "# usage\n",
      "print max(7,5) # this prints 7\n",
      "assert max(10,1) == 10\n",
      "assert max(5,7) == 7"
     ],
     "language": "python",
     "metadata": {},
     "outputs": [
      {
       "output_type": "stream",
       "stream": "stdout",
       "text": [
        "7\n"
       ]
      }
     ],
     "prompt_number": 4
    },
    {
     "cell_type": "markdown",
     "metadata": {},
     "source": [
      "2) Define a function **max_of_three()** that takes three numbers as arguments and returns the largest of them."
     ]
    },
    {
     "cell_type": "code",
     "collapsed": false,
     "input": [
      "def max_of_three(num1, num2, num3):\n",
      "    max1 = max(num1, num2)\n",
      "    result = max(max1, num3)\n",
      "    return result"
     ],
     "language": "python",
     "metadata": {},
     "outputs": [],
     "prompt_number": 7
    },
    {
     "cell_type": "code",
     "collapsed": false,
     "input": [
      "def max_of_three(num1, num2, num3):\n",
      "    return max(num1, max(num2, num3))"
     ],
     "language": "python",
     "metadata": {},
     "outputs": [],
     "prompt_number": 8
    },
    {
     "cell_type": "code",
     "collapsed": false,
     "input": [
      "# test of max_of_three\n",
      "print max_of_three(1,2,3) # this will print 3\n",
      "print max_of_three(3,2,1) # this will print 3\n",
      "print max_of_three(2,3,1) # this will print 3\n",
      "assert max_of_three(5,6,7) == 7\n",
      "assert max_of_three(6,7,8) == 8\n",
      "assert max_of_three(9,10,11) == 11"
     ],
     "language": "python",
     "metadata": {},
     "outputs": [
      {
       "output_type": "stream",
       "stream": "stdout",
       "text": [
        "3\n",
        "3\n",
        "3\n"
       ]
      }
     ],
     "prompt_number": 11
    },
    {
     "cell_type": "markdown",
     "metadata": {},
     "source": [
      "3) Define a function that computes the length of a given list or string. (It is true that Python has the **len()** function built in, but writing it yourself is nevertheless a good exercise.)"
     ]
    },
    {
     "cell_type": "code",
     "collapsed": false,
     "input": [
      "def length(sequence):\n",
      "    count = 0\n",
      "    for element in sequence:\n",
      "        count += 1\n",
      "    return count"
     ],
     "language": "python",
     "metadata": {},
     "outputs": [],
     "prompt_number": 12
    },
    {
     "cell_type": "code",
     "collapsed": false,
     "input": [
      "# test of length\n",
      "print length(\"word\") # prints 4\n",
      "print length([7,7,7,9,10,11]) # prints 6\n",
      "assert length(\"abc\") == 3\n",
      "assert length([]) == 0"
     ],
     "language": "python",
     "metadata": {},
     "outputs": [
      {
       "output_type": "stream",
       "stream": "stdout",
       "text": [
        "4\n",
        "6\n"
       ]
      }
     ],
     "prompt_number": 13
    },
    {
     "cell_type": "markdown",
     "metadata": {},
     "source": [
      "4) Write a function that takes a character (i.e. a string of length 1) and returns True if it is a vowel, False otherwise."
     ]
    },
    {
     "cell_type": "code",
     "collapsed": false,
     "input": [
      "def is_vowel(letter):\n",
      "    if letter == 'a':\n",
      "        return True\n",
      "    elif letter == 'e':\n",
      "        return True\n",
      "    elif letter == 'i':\n",
      "        return True\n",
      "    elif letter == 'o':\n",
      "        return True\n",
      "    elif letter == 'u':\n",
      "        return True\n",
      "    else:\n",
      "        return False"
     ],
     "language": "python",
     "metadata": {},
     "outputs": [],
     "prompt_number": 15
    },
    {
     "cell_type": "code",
     "collapsed": false,
     "input": [
      "def is_vowel(letter):\n",
      "    return letter in 'aeiou'"
     ],
     "language": "python",
     "metadata": {},
     "outputs": [],
     "prompt_number": 16
    },
    {
     "cell_type": "code",
     "collapsed": false,
     "input": [
      "# test is_vowel\n",
      "print is_vowel('a') # this prints True\n",
      "print is_vowel('z') # this prints False\n",
      "assert is_vowel('e') == True\n",
      "assert is_vowel('p') == False"
     ],
     "language": "python",
     "metadata": {},
     "outputs": [
      {
       "output_type": "stream",
       "stream": "stdout",
       "text": [
        "True\n",
        "False\n"
       ]
      }
     ],
     "prompt_number": 18
    },
    {
     "cell_type": "markdown",
     "metadata": {},
     "source": [
      "5) Write a function **translate()** that will translate a text into \"r\u00f6varspr\u00e5ket\" (Swedish for \"robber's language\"). That is, double every consonant and place an occurrence of \"o\" in between. For example, **translate(\"this is fun\")** should return the string \"tothohisos isos fofunon\"."
     ]
    },
    {
     "cell_type": "code",
     "collapsed": false,
     "input": [
      "def translate(text):\n",
      "    translation = ''\n",
      "    for letter in text:\n",
      "        if letter.isalpha() and not is_vowel(letter):\n",
      "            translation += letter + 'o' + letter\n",
      "        else:\n",
      "            translation += letter\n",
      "    return translation"
     ],
     "language": "python",
     "metadata": {},
     "outputs": [],
     "prompt_number": 19
    },
    {
     "cell_type": "code",
     "collapsed": false,
     "input": [
      "# test translate\n",
      "print translate('frog') # prints 'fofrorogog'\n",
      "assert translate(\"this is fun\") == \"tothohisos isos fofunon\""
     ],
     "language": "python",
     "metadata": {},
     "outputs": [
      {
       "output_type": "stream",
       "stream": "stdout",
       "text": [
        "fofrorogog\n"
       ]
      }
     ],
     "prompt_number": 21
    },
    {
     "cell_type": "markdown",
     "metadata": {},
     "source": [
      "6) Define a function **sumlist()** and a function **multiplylist()** that sums and multiplies (respectively) all the numbers in a list of numbers. For example, **sumlist([1, 2, 3, 4])** should return 10, and **multiplylist([1, 2, 3, 4])** should return 24."
     ]
    },
    {
     "cell_type": "code",
     "collapsed": false,
     "input": [
      "def sumlist(thelist):\n",
      "    total = 0\n",
      "    for number in thelist:\n",
      "        total += number\n",
      "    return total"
     ],
     "language": "python",
     "metadata": {},
     "outputs": [],
     "prompt_number": 22
    },
    {
     "cell_type": "code",
     "collapsed": false,
     "input": [
      "def multiplylist(thelist):\n",
      "    total = 1\n",
      "    for number in thelist:\n",
      "        total *= number\n",
      "    return total"
     ],
     "language": "python",
     "metadata": {},
     "outputs": [],
     "prompt_number": 23
    },
    {
     "cell_type": "code",
     "collapsed": false,
     "input": [
      "# test sumlist and multiplylist\n",
      "print sumlist([1,2,3,4]) # prints 10\n",
      "print multiplylist([1,2,3,4]) # prints 24\n",
      "assert sumlist([1,1,2,3]) == 7\n",
      "assert multiplylist([10,9,8,7,6,5,4,3,2,1,0]) == 0"
     ],
     "language": "python",
     "metadata": {},
     "outputs": [
      {
       "output_type": "stream",
       "stream": "stdout",
       "text": [
        "10\n",
        "24\n"
       ]
      }
     ],
     "prompt_number": 26
    },
    {
     "cell_type": "markdown",
     "metadata": {},
     "source": [
      "7) Define a function **reverse()** that computes the reversal of a string. For example, **reverse(\"I am testing\")** should return the string \"gnitset ma I\"."
     ]
    },
    {
     "cell_type": "code",
     "collapsed": false,
     "input": [
      "def reverse(thestring):\n",
      "    newstring = ''\n",
      "    for letter in thestring[::-1]:\n",
      "        newstring += letter\n",
      "    return newstring"
     ],
     "language": "python",
     "metadata": {},
     "outputs": [],
     "prompt_number": 27
    },
    {
     "cell_type": "code",
     "collapsed": false,
     "input": [
      "# test reverse\n",
      "print reverse(\"hello\") # prints elloh\n",
      "assert reverse(\"I am testing\") == \"gnitset ma I\""
     ],
     "language": "python",
     "metadata": {},
     "outputs": [
      {
       "output_type": "stream",
       "stream": "stdout",
       "text": [
        "olleh\n"
       ]
      }
     ],
     "prompt_number": 30
    },
    {
     "cell_type": "markdown",
     "metadata": {},
     "source": [
      "8) Define a function **is_palindrome()** that recognizes palindromes (i.e. words that look the same written backwards). For example, **is_palindrome(\"radar\")** should return `True`."
     ]
    },
    {
     "cell_type": "code",
     "collapsed": false,
     "input": [
      "def is_palindrome(astring):\n",
      "    if astring == reverse(astring):\n",
      "        return True\n",
      "    else:\n",
      "        return False"
     ],
     "language": "python",
     "metadata": {},
     "outputs": [],
     "prompt_number": 31
    },
    {
     "cell_type": "code",
     "collapsed": false,
     "input": [
      "def is_palindrome(astring):\n",
      "    return astring == reverse(astring)"
     ],
     "language": "python",
     "metadata": {},
     "outputs": [],
     "prompt_number": 32
    },
    {
     "cell_type": "code",
     "collapsed": false,
     "input": [
      "# test is_palindrome\n",
      "print is_palindrome(\"kayak\") # prints True\n",
      "print is_palindrome(\"octopus\") # prints False\n",
      "assert is_palindrome(\"radar\") == True\n",
      "assert is_palindrome(\"eggplant\") == False"
     ],
     "language": "python",
     "metadata": {},
     "outputs": [
      {
       "output_type": "stream",
       "stream": "stdout",
       "text": [
        "True\n",
        "False\n"
       ]
      }
     ],
     "prompt_number": 35
    },
    {
     "cell_type": "markdown",
     "metadata": {},
     "source": [
      "9) Write a function **is_member()** that takes a value (i.e. a number, string, etc) *x* and a list of values *a*, and returns `True` if *x* is a member of *a*, `False` otherwise. (Note that this is exactly what the **in** operator does, but for the sake of the exercise you should pretend Python did not have this operator.)"
     ]
    },
    {
     "cell_type": "code",
     "collapsed": false,
     "input": [
      "def is_member(element, alist):\n",
      "    for other_element in alist:\n",
      "        if other_element == element:\n",
      "            return True\n",
      "    return False"
     ],
     "language": "python",
     "metadata": {},
     "outputs": [],
     "prompt_number": 50
    },
    {
     "cell_type": "markdown",
     "metadata": {},
     "source": [
      "10) Define a function **overlapping()** that takes two lists and returns True if they have at least one member in common, False otherwise. You may use your **is_member()** function, or the **in** operator, but for the sake of the exercise, you should (also) write it using two nested for-loops."
     ]
    },
    {
     "cell_type": "code",
     "collapsed": false,
     "input": [
      "def overlapping(list1, list2):\n",
      "    for element in list1:\n",
      "        if is_member(element, list2):\n",
      "            return True\n",
      "    return False"
     ],
     "language": "python",
     "metadata": {},
     "outputs": [],
     "prompt_number": 51
    },
    {
     "cell_type": "code",
     "collapsed": false,
     "input": [
      "def overlapping(list1, list2):\n",
      "    for element in list1:\n",
      "        for other_element in list2:\n",
      "            if element == other_element:\n",
      "                return True\n",
      "    return False"
     ],
     "language": "python",
     "metadata": {},
     "outputs": [],
     "prompt_number": 55
    },
    {
     "cell_type": "code",
     "collapsed": false,
     "input": [
      "print overlapping([1,2,3],[3,4,5])\n",
      "print overlapping([1,2,3],[4,5,6])"
     ],
     "language": "python",
     "metadata": {},
     "outputs": [
      {
       "output_type": "stream",
       "stream": "stdout",
       "text": [
        "True\n",
        "False\n"
       ]
      }
     ],
     "prompt_number": 56
    },
    {
     "cell_type": "markdown",
     "metadata": {},
     "source": [
      "11) Write a function **is_subseq(alist, anotherlist)** that returns `True` if *alist* is a subset of *anotherlist*, `False` if it isn't."
     ]
    },
    {
     "cell_type": "code",
     "collapsed": false,
     "input": [
      "def is_subseq(alist, anotherlist):\n",
      "    al_length = len(alist)\n",
      "    for pos in range(0, len(anotherlist) - al_length + 1):\n",
      "        sub_list = anotherlist[pos:pos+al_length]\n",
      "        if alist == sub_list:\n",
      "            return True\n",
      "    return False"
     ],
     "language": "python",
     "metadata": {},
     "outputs": [],
     "prompt_number": 57
    },
    {
     "cell_type": "code",
     "collapsed": false,
     "input": [
      "# test is_subseq\n",
      "print is_subseq([1,2], [5,4,1,2]) # prints True\n",
      "print is_subseq([1,1], [5,4,1,2]) # prints False\n",
      "assert is_subseq([1,2], [1,2,3,4]) == True\n",
      "assert is_subseq([0,1], [1,2,3,4]) == False"
     ],
     "language": "python",
     "metadata": {},
     "outputs": [
      {
       "output_type": "stream",
       "stream": "stdout",
       "text": [
        "True\n",
        "False\n"
       ]
      }
     ],
     "prompt_number": 58
    },
    {
     "cell_type": "code",
     "collapsed": false,
     "input": [],
     "language": "python",
     "metadata": {},
     "outputs": []
    }
   ],
   "metadata": {}
  }
 ]
}