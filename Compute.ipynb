{
 "metadata": {
  "name": "",
  "signature": "sha256:fe1ffa4dc03c0240c20e430889240e0838255fc872945f58d1ece8d8e0a3de1c"
 },
 "nbformat": 3,
 "nbformat_minor": 0,
 "worksheets": [
  {
   "cells": [
    {
     "cell_type": "markdown",
     "metadata": {},
     "source": [
      "Stored in github at: https://github.com/pvanheus/python2015"
     ]
    },
    {
     "cell_type": "markdown",
     "metadata": {},
     "source": [
      "1) Given a string of the form:\n",
      "\n",
      "        \"1 + 6\"\n",
      "\n",
      "write a Python function **compute(thestring)** that will compute the sum and return its value, e.g. \n",
      "\n",
      "        mystring = \"1 + 6\"\n",
      "        print compute(mystring)\n",
      "        7"
     ]
    },
    {
     "cell_type": "markdown",
     "metadata": {},
     "source": [
      "2) Make your **compute** function handle the basic arithmetic operators: + (add), - (subtract), * (multiply) and / (divide). Division should be floating point division. So now e.g.\n",
      "\n",
      "        mystring = \"2 * 4\"\n",
      "        print compute(mystring)\n",
      "        8\n",
      "\n",
      "        mystring = \"7 - 9\"\n",
      "        print compute(mystring)\n",
      "        -2"
     ]
    },
    {
     "cell_type": "markdown",
     "metadata": {},
     "source": [
      "3) Use **compute** in a script so that you can process a file containing these mathematical expressions and print an answer for each line. E.g. if `myfile.txt` contains:\n",
      "\n",
      "        2 * 4\n",
      "        7 - 9\n",
      "        8 + 1\n",
      "        9 / 2\n",
      "\n",
      "If your script is called **compute.py** then running it should look like:\n",
      "\n",
      "        compute.py myfile.txt\n",
      "        8\n",
      "        -2\n",
      "        9\n",
      "        4.5"
     ]
    },
    {
     "cell_type": "markdown",
     "metadata": {},
     "source": [
      "4) Make your **compute.py** script write the results into a file, so now the **compute.py** script will take two command line arguments, the input file and the output file, and running it will look like:\n",
      "\n",
      "        compute.py myfile.txt results.txt\n",
      "\n",
      "where for the example given above the results (8, -2, 9, 4.5) should be written to `results.txt`. "
     ]
    },
    {
     "cell_type": "markdown",
     "metadata": {},
     "source": [
      "5) Expand the **compute** function so that it can process more than 2 numbers. Operations should be processed left to right without concern for the normal rules of arithmetic (i.e. the BODMAS rule doesn't apply). So e.g. \n",
      "\n",
      "    mystring = \"2 + 7 - 8 * 3\"\n",
      "    print compute(mystring)\n",
      "    3"
     ]
    },
    {
     "cell_type": "markdown",
     "metadata": {},
     "source": [
      "Tools in your toolbox:\n",
      "\n",
      "Remember that:\n",
      "\n",
      "1. You can split a string into a list of strings with `mystring.split()`\n",
      "\n",
      "1. A string can be converted to a number with `int()` or `float()`\n",
      "\n",
      "1. The conditional statement `if` lets you choose what to do in your code, e.g.:\n",
      "\n",
      "        if fruit == 'lemon':\n",
      "            print \"sour\"\n",
      "        elif fruit == 'strawberry':\n",
      "            print \"sweet\"\n",
      "        else:\n",
      "            print \"I don't know\"\n",
      "\n",
      "1. The `open()` built in function, when given a filename, returns a file open for reading or writing e.g. \n",
      "\n",
      "        myfilename = 'myfile.txt'\n",
      "        myfile = open(myfilename)\n",
      "    \n",
      "        myfilename = 'output.txt'\n",
      "        myfile = open(myfilename, 'w')\n",
      "        \n",
      "1. You can loop through the lines in a file or the elements of a list with `for`:\n",
      "\n",
      "        for line in myfile:\n",
      "            print \"the line is:\", line\n",
      "\n",
      "1. The command line arguments to a script are in `sys.argv`:\n",
      "\n",
      "        import sys\n",
      "        \n",
      "        print \"I got:\", sys.argv"
     ]
    },
    {
     "cell_type": "code",
     "collapsed": false,
     "input": [],
     "language": "python",
     "metadata": {},
     "outputs": []
    }
   ],
   "metadata": {}
  }
 ]
}