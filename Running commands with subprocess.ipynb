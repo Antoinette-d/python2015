{
 "metadata": {
  "name": "",
  "signature": "sha256:5f1b852a27a888143cd69995c78896c71d57ec35209dd5a82658490a95119c0a"
 },
 "nbformat": 3,
 "nbformat_minor": 0,
 "worksheets": [
  {
   "cells": [
    {
     "cell_type": "markdown",
     "metadata": {},
     "source": [
      "The Python `subprocess` module supports running programs from within Python. It has a variety of functions for running programs in different ways, as described in the Python [subprocess module documentation](https://docs.python.org/2/library/subprocess.html). The [`shlex`](https://docs.python.org/2/library/shlex.html) module is a useful companion for splitting up command lines to use with the subprocess module."
     ]
    },
    {
     "cell_type": "code",
     "collapsed": false,
     "input": [
      "import subprocess\n",
      "import shlex\n",
      "import sys\n",
      "import os\n",
      "\n",
      "print \"working directory:\", os.getcwd()\n",
      "cmd_str = 'echo Hello World'\n",
      "cmd = shlex.split(cmd_str)\n",
      "subprocess.check_output(cmd)"
     ],
     "language": "python",
     "metadata": {},
     "outputs": [
      {
       "output_type": "stream",
       "stream": "stdout",
       "text": [
        "working directory: /home/pvh/Documents/python\n"
       ]
      },
      {
       "metadata": {},
       "output_type": "pyout",
       "prompt_number": 9,
       "text": [
        "'Hello World\\n'"
       ]
      }
     ],
     "prompt_number": 9
    },
    {
     "cell_type": "code",
     "collapsed": false,
     "input": [],
     "language": "python",
     "metadata": {},
     "outputs": []
    }
   ],
   "metadata": {}
  }
 ]
}