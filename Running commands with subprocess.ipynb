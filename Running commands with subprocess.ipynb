{
 "metadata": {
  "name": "",
  "signature": "sha256:555ababd7345f191d476049914e5a3eb80846b244396622d99df3135c5a11330"
 },
 "nbformat": 3,
 "nbformat_minor": 0,
 "worksheets": [
  {
   "cells": [
    {
     "cell_type": "markdown",
     "metadata": {},
     "source": [
      "The Python `subprocess` module supports running programs from within Python. It has a variety of functions for running programs in different ways, as described in the Python [subprocess module documentation](https://docs.python.org/2/library/subprocess.html). The [`shlex`](https://docs.python.org/2/library/shlex.html) module is a useful companion for splitting up command lines to use with the subprocess module."
     ]
    },
    {
     "cell_type": "code",
     "collapsed": false,
     "input": [
      "import os\n",
      "print os.environ['PATH']"
     ],
     "language": "python",
     "metadata": {},
     "outputs": [
      {
       "output_type": "stream",
       "stream": "stdout",
       "text": [
        "/home/pvh/anaconda/bin:/home/pvh/bin:/usr/local/sbin:/usr/local/bin:/usr/sbin:/usr/bin:/sbin:/bin:/usr/games:/usr/local/games:/home/pvh/Documents/eclipse_cl/bin/x86_64_linux:/home/pvh/Documents/pycharm-community-3.1.1/bin:/usr/local/cuda-6.0/bin:/home/pvh/.rvm/bin:/home/pvh/.rvm/bin\n"
       ]
      }
     ],
     "prompt_number": 15
    },
    {
     "cell_type": "code",
     "collapsed": false,
     "input": [
      "import subprocess\n",
      "import shlex\n",
      "import sys\n",
      "import os\n",
      "\n",
      "print \"working directory:\", os.getcwd()\n",
      "cmd_str = 'echo \"Hello   World\"'\n",
      "cmd = shlex.split(cmd_str)\n",
      "print cmd\n",
      "subprocess.check_output(cmd)"
     ],
     "language": "python",
     "metadata": {},
     "outputs": [
      {
       "output_type": "stream",
       "stream": "stdout",
       "text": [
        "working directory: /home/pvh/Documents/python\n",
        "['echo', 'Hello   World']\n"
       ]
      },
      {
       "metadata": {},
       "output_type": "pyout",
       "prompt_number": 11,
       "text": [
        "'Hello   World\\n'"
       ]
      }
     ],
     "prompt_number": 11
    },
    {
     "cell_type": "code",
     "collapsed": false,
     "input": [
      "subprocess.call(['echo', 'Hello World'])"
     ],
     "language": "python",
     "metadata": {},
     "outputs": [
      {
       "metadata": {},
       "output_type": "pyout",
       "prompt_number": 12,
       "text": [
        "0"
       ]
      }
     ],
     "prompt_number": 12
    },
    {
     "cell_type": "code",
     "collapsed": false,
     "input": [
      "output_file = open('/home/pvh/Documents/python/grep_output.txt', 'w')\n",
      "print output_file\n",
      "with output_file:\n",
      "    exit_code = subprocess.call(['grep','pvh','/etc/passwd'], stdout=output_file)\n",
      "print \"Done\", exit_code"
     ],
     "language": "python",
     "metadata": {},
     "outputs": [
      {
       "output_type": "stream",
       "stream": "stdout",
       "text": [
        "<open file '/home/pvh/Documents/python/grep_output.txt', mode 'w' at 0x7f2534347930>\n",
        "Done\n"
       ]
      }
     ],
     "prompt_number": 21
    },
    {
     "cell_type": "code",
     "collapsed": false,
     "input": [
      "output_file = open('/home/pvh/Documents/python/grep_output.txt', 'w')\n",
      "err_out_file = open('/home/pvh/Documents/python/grep_error.txt', 'w')\n",
      "exit_code = subprocess.call(['grep','pvh','/etc/passssswd'], \n",
      "                            stdout=output_file, \n",
      "                            stderr=err_out_file)\n",
      "output_file.close()\n",
      "err_out_file.close()\n",
      "print \"Done\", exit_code"
     ],
     "language": "python",
     "metadata": {},
     "outputs": [
      {
       "output_type": "stream",
       "stream": "stdout",
       "text": [
        "Done 2\n"
       ]
      }
     ],
     "prompt_number": 41
    },
    {
     "cell_type": "code",
     "collapsed": false,
     "input": [
      "output_file = open('/home/pvh/Documents/python/grep_output.txt', 'w')\n",
      "err_out_file = open('/home/pvh/Documents/python/grep_error.txt', 'w')\n",
      "exit_code = subprocess.call(['grep','pvh','/etc/passssswd'], \n",
      "                            stdout=output_file, \n",
      "                            stderr=subprocess.STDOUT)\n",
      "output_file.close()\n",
      "err_out_file.close()\n",
      "print \"Done\", exit_code"
     ],
     "language": "python",
     "metadata": {},
     "outputs": []
    },
    {
     "cell_type": "code",
     "collapsed": false,
     "input": [
      "subprocess.call(['/opt/Zotero_linux-x86_64/zotero'])\n",
      "print \"Hello Everyone\""
     ],
     "language": "python",
     "metadata": {},
     "outputs": [
      {
       "output_type": "stream",
       "stream": "stdout",
       "text": [
        "Hello Everyone\n"
       ]
      }
     ],
     "prompt_number": 17
    },
    {
     "cell_type": "code",
     "collapsed": false,
     "input": [
      "input_file = open('python.fasta')\n",
      "output_file = open('one_orchid.txt', 'w')\n",
      "cmd_str = 'grep \"P.villosum\"'\n",
      "cmd = shlex.split(cmd_str)\n",
      "subprocess.call(cmd, stdin=input_file, stdout=output_file)\n"
     ],
     "language": "python",
     "metadata": {},
     "outputs": [
      {
       "metadata": {},
       "output_type": "pyout",
       "prompt_number": 26,
       "text": [
        "0"
       ]
      }
     ],
     "prompt_number": 26
    },
    {
     "cell_type": "code",
     "collapsed": false,
     "input": [
      "input_file = open('python.fasta')\n",
      "cmd_str = 'grep \"P.villosum\"'\n",
      "cmd = shlex.split(cmd_str)\n",
      "results = subprocess.check_output(cmd, stdin=input_file)\n",
      "print \"I found P.villosum in {}\".format(results.split()[0][1:])"
     ],
     "language": "python",
     "metadata": {},
     "outputs": [
      {
       "output_type": "stream",
       "stream": "stdout",
       "text": [
        "I found P.villosum in gi|2765608|emb|Z78483.1|PVZ78483\n"
       ]
      }
     ],
     "prompt_number": 36
    },
    {
     "cell_type": "code",
     "collapsed": false,
     "input": [
      "cmd_str = 'grep \"P.villosum\" /etc/fishfishfish'\n",
      "cmd = shlex.split(cmd_str)\n",
      "try:\n",
      "    results = subprocess.check_output(cmd)\n",
      "except subprocess.CalledProcessError:\n",
      "    print >>sys.stderr,\"Running the command ({}) failed\".format(cmd_str)\n",
      "else:\n",
      "    print \"I got a result:\", results"
     ],
     "language": "python",
     "metadata": {},
     "outputs": [
      {
       "output_type": "stream",
       "stream": "stderr",
       "text": [
        "Running the command (grep \"P.villosum\" /etc/fishfishfish) failed\n"
       ]
      }
     ],
     "prompt_number": 38
    },
    {
     "cell_type": "code",
     "collapsed": false,
     "input": [
      "name = \"Peter\"\n",
      "cmd = \"echo Hello {}\".format(name)\n",
      "subprocess.check_output(cmd, shell=True)"
     ],
     "language": "python",
     "metadata": {},
     "outputs": [
      {
       "metadata": {},
       "output_type": "pyout",
       "prompt_number": 44,
       "text": [
        "'Hello Peter\\n'"
       ]
      }
     ],
     "prompt_number": 44
    },
    {
     "cell_type": "code",
     "collapsed": false,
     "input": [
      "name = \"Peter ; echo And now for something evil\"\n",
      "cmd = \"echo Hello {}\".format(name)\n",
      "subprocess.check_output(cmd, shell=True)"
     ],
     "language": "python",
     "metadata": {},
     "outputs": [
      {
       "metadata": {},
       "output_type": "pyout",
       "prompt_number": 45,
       "text": [
        "'Hello Peter\\nAnd now for something evil\\n'"
       ]
      }
     ],
     "prompt_number": 45
    },
    {
     "cell_type": "code",
     "collapsed": false,
     "input": [
      "proc1 = subprocess.Popen(['/opt/Zotero_linux-x86_64/zotero'])\n",
      "proc2 = subprocess.Popen(['/usr/bin/gedit'])\n",
      "proc1.wait()\n",
      "proc2.wait()"
     ],
     "language": "python",
     "metadata": {},
     "outputs": [
      {
       "metadata": {},
       "output_type": "pyout",
       "prompt_number": 51,
       "text": [
        "0"
       ]
      }
     ],
     "prompt_number": 51
    },
    {
     "cell_type": "code",
     "collapsed": false,
     "input": [
      "subprocess.call(['/opt/Zotero_linux-x86_64/zotero'])\n",
      "subprocess.call(['/usr/bin/gedit'])"
     ],
     "language": "python",
     "metadata": {},
     "outputs": [
      {
       "metadata": {},
       "output_type": "pyout",
       "prompt_number": 50,
       "text": [
        "0"
       ]
      }
     ],
     "prompt_number": 50
    },
    {
     "cell_type": "code",
     "collapsed": false,
     "input": [
      "proc1 = subprocess.Popen(['/opt/Zotero_linux-x86_64/zotero'])\n",
      "proc2 = subprocess.Popen(['/usr/bin/gedit'])\n",
      "proc1.wait()\n",
      "proc2.wait()"
     ],
     "language": "python",
     "metadata": {},
     "outputs": []
    },
    {
     "cell_type": "code",
     "collapsed": false,
     "input": [
      "cmd_str = 'grep \"P.villosum\" python.fasta'\n",
      "cmd = shlex.split(cmd_str)\n",
      "proc = subprocess.Popen(cmd, stdout=subprocess.PIPE,\n",
      "                        stderr=subprocess.PIPE)\n",
      "(proc_output, proc_error) = proc.communicate()\n",
      "exit_code = proc.wait()\n",
      "print \"output:\", proc_output\n",
      "print \"error:\", proc_error\n",
      "print \"exit code:\", exit_code"
     ],
     "language": "python",
     "metadata": {},
     "outputs": [
      {
       "output_type": "stream",
       "stream": "stdout",
       "text": [
        "output: >gi|2765608|emb|Z78483.1|PVZ78483 P.villosum 5.8S rRNA gene and ITS1 and ITS2 DNA\n",
        "\n",
        "error: \n",
        "exit code: 0\n"
       ]
      }
     ],
     "prompt_number": 56
    },
    {
     "cell_type": "code",
     "collapsed": false,
     "input": [
      "cmd_str = 'grep \"P.villosum\" python.fasta'\n",
      "cmd = shlex.split(cmd_str)\n",
      "proc = subprocess.Popen(cmd)\n",
      "(proc_output, proc_error) = proc.communicate()\n",
      "exit_code = proc.wait()\n",
      "print \"output:\", proc_output\n",
      "print \"error:\", proc_error\n",
      "print \"exit code:\", exit_code"
     ],
     "language": "python",
     "metadata": {},
     "outputs": [
      {
       "output_type": "stream",
       "stream": "stdout",
       "text": [
        "output: None\n",
        "error: None\n",
        "exit code: 0\n"
       ]
      }
     ],
     "prompt_number": 57
    },
    {
     "cell_type": "code",
     "collapsed": false,
     "input": [
      "cmd_str = \"grep chicken\"\n",
      "cmd = shlex.split(cmd)\n",
      "data = \"\"\"chicken\n",
      "fish\n",
      "pork\n",
      "chicken\n",
      "snake\n",
      "aardvark\"\"\"\n",
      "#data = \"chicken\\nfish\"\n",
      "proc = subprocess.Popen(cmd, stdin=subprocess.PIPE,\n",
      "                        stdout=subprocess.PIPE)\n",
      "(proc_output, proc_error) = proc.communicate(data)\n",
      "print \"output:\", proc_output\n",
      "print \"error:\", proc_error\n",
      "exit_code = proc.wait()\n",
      "print \"exit code:\", exit_code"
     ],
     "language": "python",
     "metadata": {},
     "outputs": [
      {
       "output_type": "stream",
       "stream": "stdout",
       "text": [
        "output: chicken\n",
        "chicken\n",
        "\n",
        "error: None\n",
        "exit code: 0\n"
       ]
      }
     ],
     "prompt_number": 59
    },
    {
     "cell_type": "code",
     "collapsed": false,
     "input": [
      "cmd_str = 'sleep 60'\n",
      "cmd = shlex.split(cmd_str)\n",
      "count = 4\n",
      "procs = []\n",
      "for i in range(count):\n",
      "    procs.append(subprocess.Popen(cmd))\n",
      "\n",
      "for proc in procs:\n",
      "    proc.wait()"
     ],
     "language": "python",
     "metadata": {},
     "outputs": [],
     "prompt_number": 60
    },
    {
     "cell_type": "code",
     "collapsed": false,
     "input": [],
     "language": "python",
     "metadata": {},
     "outputs": []
    }
   ],
   "metadata": {}
  }
 ]
}