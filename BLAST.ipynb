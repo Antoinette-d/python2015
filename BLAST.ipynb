{
 "metadata": {
  "name": "",
  "signature": "sha256:6fe0ac762f52ab6026db724434b94d587173f65a6f4aa492f8c71fd83762b026"
 },
 "nbformat": 3,
 "nbformat_minor": 0,
 "worksheets": [
  {
   "cells": [
    {
     "cell_type": "markdown",
     "metadata": {},
     "source": [
      "To install the NCBI BLAST+ package on Ubuntu do:\n",
      "    \n",
      "        sudo apt-get install ncbi-blast+\n",
      "\n",
      "and then retrieve some sample data:\n",
      "\n",
      "        cd ~/Documents/python\n",
      "        wget -c ftp://ftp.sanbi.ac.za/query.fasta\n",
      "        wget -c ftp://ftp.sanbi.ac.za/python.fasta"
     ]
    },
    {
     "cell_type": "code",
     "collapsed": false,
     "input": [
      "%%bash\n",
      "cd ~/Documents/python\n",
      "makeblastdb -in python.fasta -out blastdb -dbtype nucl"
     ],
     "language": "python",
     "metadata": {},
     "outputs": [
      {
       "output_type": "stream",
       "stream": "stdout",
       "text": [
        "\n",
        "\n",
        "Building a new DB, current time: 03/24/2015 09:47:44\n",
        "New DB name:   blastdb\n",
        "New DB title:  python.fasta\n",
        "Sequence type: Nucleotide\n",
        "Keep Linkouts: T\n",
        "Keep MBits: T\n",
        "Maximum file size: 1000000000B\n",
        "Adding sequences from FASTA; added 94 sequences in 0.00496197 seconds.\n"
       ]
      }
     ],
     "prompt_number": 3
    },
    {
     "cell_type": "markdown",
     "metadata": {},
     "source": [
      "BLAST+ output formats:\n",
      "\n",
      "**5** XML - good for parsing with BioPython\n",
      "\n",
      "**6** 12 column output\n",
      "\n",
      "**7** 12 column output with header"
     ]
    },
    {
     "cell_type": "code",
     "collapsed": false,
     "input": [
      "%%bash\n",
      "\n",
      "blastn -query query.fasta -db blastdb -outfmt 7"
     ],
     "language": "python",
     "metadata": {},
     "outputs": [
      {
       "output_type": "stream",
       "stream": "stdout",
       "text": [
        "# BLASTN 2.2.28+\n",
        "# Query: SEQ1\n",
        "# Database: blastdb\n",
        "# Fields: query id, subject id, % identity, alignment length, mismatches, gap opens, q. start, q. end, s. start, s. end, evalue, bit score\n",
        "# 130 hits found\n",
        "SEQ1\tgi|2765615|emb|Z78490.1|PFZ78490\t100.00\t728\t0\t0\t1\t728\t1\t728\t0.0\t1345\n",
        "SEQ1\tgi|2765614|emb|Z78489.1|PDZ78489\t95.50\t734\t25\t7\t1\t728\t1\t732\t0.0\t1166\n",
        "SEQ1\tgi|2765612|emb|Z78487.1|PHZ78487\t95.08\t731\t30\t5\t1\t728\t1\t728\t0.0\t1146\n",
        "SEQ1\tgi|2765611|emb|Z78486.1|PBZ78486\t94.82\t733\t31\t6\t1\t728\t1\t731\t0.0\t1136\n",
        "SEQ1\tgi|2765608|emb|Z78483.1|PVZ78483\t94.79\t729\t29\t8\t1\t722\t1\t727\t0.0\t1127\n",
        "SEQ1\tgi|2765592|emb|Z78467.1|PSZ78467\t94.40\t732\t35\t6\t1\t728\t1\t730\t0.0\t1120\n",
        "SEQ1\tgi|2765584|emb|Z78459.1|PDZ78459\t94.19\t740\t31\t11\t1\t728\t1\t740\t0.0\t1118\n",
        "SEQ1\tgi|2765583|emb|Z78458.1|PHZ78458\t94.01\t735\t36\t7\t1\t728\t1\t734\t0.0\t1107\n",
        "SEQ1\tgi|2765585|emb|Z78460.1|PCZ78460\t93.92\t740\t33\t11\t1\t728\t1\t740\t0.0\t1107\n",
        "SEQ1\tgi|2765574|emb|Z78449.1|PMZ78449\t93.90\t738\t33\t10\t1\t728\t1\t736\t0.0\t1103\n",
        "SEQ1\tgi|2765578|emb|Z78453.1|PSZ78453\t93.89\t737\t36\t8\t1\t728\t1\t737\t0.0\t1103\n",
        "SEQ1\tgi|2765577|emb|Z78452.1|PBZ78452\t93.89\t736\t36\t8\t1\t728\t1\t735\t0.0\t1101\n",
        "SEQ1\tgi|2765599|emb|Z78474.1|PKZ78474\t94.23\t728\t31\t10\t1\t722\t1\t723\t0.0\t1101\n",
        "SEQ1\tgi|2765616|emb|Z78491.1|PCZ78491\t93.86\t733\t37\t8\t1\t728\t1\t730\t0.0\t1098\n",
        "SEQ1\tgi|2765588|emb|Z78463.1|PGZ78463\t93.61\t735\t35\t12\t1\t728\t1\t730\t0.0\t1086\n",
        "SEQ1\tgi|2765590|emb|Z78465.1|PRZ78465\t94.60\t704\t32\t5\t1\t700\t1\t702\t0.0\t1085\n",
        "SEQ1\tgi|2765573|emb|Z78448.1|PAZ78448\t93.24\t740\t38\t11\t1\t728\t1\t740\t0.0\t1083\n",
        "SEQ1\tgi|2765581|emb|Z78456.1|PTZ78456\t93.57\t731\t36\t10\t1\t722\t1\t729\t0.0\t1079\n",
        "SEQ1\tgi|2765610|emb|Z78485.1|PHZ78485\t93.87\t718\t37\t6\t9\t722\t9\t723\t0.0\t1075\n",
        "SEQ1\tgi|2765617|emb|Z78492.1|PBZ78492\t92.94\t737\t41\t10\t1\t728\t1\t735\t0.0\t1062\n",
        "SEQ1\tgi|2765582|emb|Z78457.1|PCZ78457\t92.68\t738\t44\t9\t1\t728\t1\t738\t0.0\t1055\n",
        "SEQ1\tgi|2765596|emb|Z78471.1|PDZ78471\t92.40\t737\t42\t13\t1\t728\t1\t732\t0.0\t1038\n",
        "SEQ1\tgi|2765567|emb|Z78442.1|PBZ78442\t92.78\t720\t44\t7\t16\t728\t1\t719\t0.0\t1035\n",
        "SEQ1\tgi|2765597|emb|Z78472.1|PLZ78472\t92.24\t735\t44\t13\t1\t728\t1\t729\t0.0\t1029\n",
        "SEQ1\tgi|2765609|emb|Z78484.1|PCZ78484\t92.05\t730\t27\t15\t1\t721\t1\t708\t0.0\t 998\n",
        "SEQ1\tgi|2765589|emb|Z78464.1|PGZ78464\t91.43\t735\t46\t15\t1\t728\t1\t725\t0.0\t 992\n",
        "SEQ1\tgi|2765566|emb|Z78441.1|PSZ78441\t92.20\t705\t46\t8\t30\t728\t1\t702\t0.0\t 989\n",
        "SEQ1\tgi|2765571|emb|Z78446.1|PAZ78446\t91.50\t729\t37\t19\t1\t722\t1\t711\t0.0\t 979\n",
        "SEQ1\tgi|2765576|emb|Z78451.1|PHZ78451\t90.90\t736\t51\t15\t1\t728\t1\t728\t0.0\t 974\n",
        "SEQ1\tgi|2765602|emb|Z78477.1|PVZ78477\t91.19\t738\t25\t23\t1\t728\t1\t708\t0.0\t 966\n",
        "SEQ1\tgi|2765607|emb|Z78482.1|PEZ78482\t94.98\t618\t23\t7\t117\t728\t6\t621\t0.0\t 965\n",
        "SEQ1\tgi|2765565|emb|Z78440.1|PPZ78440\t90.44\t732\t59\t10\t1\t722\t1\t731\t0.0\t 953\n",
        "SEQ1\tgi|2765570|emb|Z78445.1|PUZ78445\t90.74\t734\t41\t15\t1\t727\t1\t714\t0.0\t 953\n",
        "SEQ1\tgi|2765613|emb|Z78488.1|PTZ78488\t91.32\t714\t39\t13\t16\t726\t3\t696\t0.0\t 953\n",
        "SEQ1\tgi|2765586|emb|Z78461.1|PWZ78461\t90.34\t735\t56\t14\t1\t728\t1\t727\t0.0\t 950\n",
        "SEQ1\tgi|2765575|emb|Z78450.1|PPZ78450\t91.30\t701\t52\t8\t30\t722\t1\t700\t0.0\t 948\n",
        "SEQ1\tgi|2765580|emb|Z78455.1|PJZ78455\t89.72\t739\t63\t12\t1\t728\t1\t737\t0.0\t 931\n",
        "SEQ1\tgi|2765569|emb|Z78444.1|PAZ78444\t90.44\t701\t46\t15\t1\t693\t1\t688\t0.0\t 904\n",
        "SEQ1\tgi|2765623|emb|Z78498.1|PMZ78498\t88.77\t748\t58\t16\t1\t728\t1\t742\t0.0\t 893\n",
        "SEQ1\tgi|2765618|emb|Z78493.1|PGZ78493\t89.06\t731\t58\t12\t1\t722\t1\t718\t0.0\t 887\n",
        "SEQ1\tgi|2765564|emb|Z78439.1|PBZ78439\t93.12\t596\t29\t11\t38\t625\t1\t592\t0.0\t 863\n",
        "SEQ1\tgi|2765604|emb|Z78479.1|PPZ78479\t88.77\t730\t36\t17\t1\t722\t1\t692\t0.0\t 852\n",
        "SEQ1\tgi|2765621|emb|Z78496.1|PAZ78496\t87.50\t768\t54\t24\t1\t728\t1\t766\t0.0\t 848\n",
        "SEQ1\tgi|2765572|emb|Z78447.1|PVZ78447\t94.84\t446\t19\t4\t287\t728\t241\t686\t0.0\t 693\n",
        "SEQ1\tgi|2765572|emb|Z78447.1|PVZ78447\t89.96\t239\t21\t2\t1\t237\t1\t238\t4e-85\t 305\n",
        "SEQ1\tgi|2765622|emb|Z78497.1|PDZ78497\t92.06\t491\t29\t8\t248\t728\t290\t780\t0.0\t 682\n",
        "SEQ1\tgi|2765622|emb|Z78497.1|PDZ78497\t92.58\t229\t16\t1\t1\t229\t1\t228\t9e-92\t 327\n",
        "SEQ1\tgi|2765624|emb|Z78499.1|PMZ78499\t89.90\t505\t40\t10\t226\t722\t258\t759\t0.0\t 640\n",
        "SEQ1\tgi|2765624|emb|Z78499.1|PMZ78499\t88.36\t232\t22\t2\t1\t228\t1\t231\t1e-75\t 274\n",
        "SEQ1\tgi|2765620|emb|Z78495.1|PEZ78495\t90.06\t493\t36\t10\t248\t728\t295\t786\t0.0\t 627\n",
        "SEQ1\tgi|2765620|emb|Z78495.1|PEZ78495\t91.77\t231\t16\t2\t1\t229\t1\t230\t5e-89\t 318\n",
        "SEQ1\tgi|2765568|emb|Z78443.1|PLZ78443\t94.58\t406\t16\t6\t316\t717\t380\t783\t0.0\t 623\n",
        "SEQ1\tgi|2765568|emb|Z78443.1|PLZ78443\t93.60\t203\t11\t1\t1\t201\t1\t203\t5e-84\t 302\n",
        "SEQ1\tgi|2765633|emb|Z78508.1|PLZ78508\t81.78\t763\t82\t35\t1\t728\t1\t741\t1e-169\t 586\n",
        "SEQ1\tgi|2765579|emb|Z78454.1|PFZ78454\t92.59\t405\t23\t7\t323\t721\t292\t695\t3e-166\t 575\n",
        "SEQ1\tgi|2765579|emb|Z78454.1|PFZ78454\t90.62\t288\t24\t2\t1\t286\t1\t287\t2e-107\t 379\n",
        "SEQ1\tgi|2765632|emb|Z78507.1|PLZ78507\t80.97\t762\t89\t35\t1\t728\t1\t740\t1e-159\t 553\n",
        "SEQ1\tgi|2765629|emb|Z78504.1|PKZ78504\t80.89\t764\t85\t40\t1\t728\t1\t739\t2e-157\t 545\n",
        "SEQ1\tgi|2765636|emb|Z78511.1|PEZ78511\t80.16\t756\t98\t31\t1\t717\t1\t743\t5e-149\t 518\n",
        "SEQ1\tgi|2765591|emb|Z78466.1|PPZ78466\t93.82\t340\t17\t4\t387\t722\t301\t640\t3e-146\t 508\n",
        "SEQ1\tgi|2765591|emb|Z78466.1|PPZ78466\t95.00\t300\t12\t2\t1\t299\t1\t298\t5e-134\t 468\n",
        "SEQ1\tgi|2765605|emb|Z78480.1|PGZ78480\t97.92\t288\t6\t0\t1\t288\t1\t288\t2e-143\t 499\n",
        "SEQ1\tgi|2765605|emb|Z78480.1|PGZ78480\t93.02\t301\t15\t5\t390\t685\t288\t587\t5e-124\t 435\n",
        "SEQ1\tgi|2765600|emb|Z78475.1|PSZ78475\t94.12\t323\t16\t3\t395\t714\t394\t716\t4e-140\t 488\n",
        "SEQ1\tgi|2765600|emb|Z78475.1|PSZ78475\t95.02\t301\t9\t4\t1\t299\t1\t297\t5e-134\t 468\n",
        "SEQ1\tgi|2765598|emb|Z78473.1|PSZ78473\t93.85\t325\t15\t5\t386\t705\t299\t623\t5e-139\t 484\n",
        "SEQ1\tgi|2765598|emb|Z78473.1|PSZ78473\t94.67\t300\t13\t2\t1\t299\t1\t298\t2e-132\t 462\n",
        "SEQ1\tgi|2765619|emb|Z78494.1|PNZ78494\t89.28\t401\t23\t10\t334\t728\t295\t681\t5e-139\t 484\n",
        "SEQ1\tgi|2765619|emb|Z78494.1|PNZ78494\t87.84\t296\t29\t5\t1\t292\t1\t293\t1e-95\t 340\n",
        "SEQ1\tgi|2765638|emb|Z78513.1|PBZ78513\t79.37\t766\t95\t40\t1\t728\t1\t741\t6e-138\t 481\n",
        "SEQ1\tgi|2765606|emb|Z78481.1|PIZ78481\t96.86\t287\t8\t1\t1\t286\t1\t287\t2e-137\t 479\n",
        "SEQ1\tgi|2765606|emb|Z78481.1|PIZ78481\t94.06\t286\t14\t2\t403\t685\t287\t572\t6e-123\t 431\n",
        "SEQ1\tgi|2765640|emb|Z78515.1|MXZ78515\t79.01\t767\t112\t34\t1\t728\t1\t757\t2e-137\t 479\n",
        "SEQ1\tgi|2765637|emb|Z78512.1|PWZ78512\t85.12\t484\t49\t16\t256\t728\t283\t754\t1e-135\t 473\n",
        "SEQ1\tgi|2765593|emb|Z78468.1|PAZ78468\t92.45\t331\t18\t7\t372\t698\t283\t610\t2e-133\t 466\n",
        "SEQ1\tgi|2765593|emb|Z78468.1|PAZ78468\t92.17\t281\t18\t4\t1\t280\t1\t278\t8e-112\t 394\n",
        "SEQ1\tgi|2765635|emb|Z78510.1|PCZ78510\t85.00\t480\t46\t18\t261\t728\t280\t745\t6e-133\t 464\n",
        "SEQ1\tgi|2765601|emb|Z78476.1|PGZ78476\t92.79\t319\t20\t3\t390\t705\t274\t592\t3e-131\t 459\n",
        "SEQ1\tgi|2765601|emb|Z78476.1|PGZ78476\t88.00\t300\t8\t9\t1\t299\t1\t273\t2e-92\t 329\n",
        "SEQ1\tgi|2765603|emb|Z78478.1|PVZ78478\t87.68\t406\t32\t17\t327\t728\t237\t628\t1e-130\t 457\n",
        "SEQ1\tgi|2765603|emb|Z78478.1|PVZ78478\t95.86\t145\t5\t1\t1\t144\t1\t145\t2e-63\t 233\n",
        "SEQ1\tgi|2765603|emb|Z78478.1|PVZ78478\t85.56\t90\t8\t4\t174\t263\t152\t236\t4e-20\t89.8\n",
        "SEQ1\tgi|2765595|emb|Z78470.1|PPZ78470\t92.90\t310\t16\t6\t378\t683\t267\t574\t2e-127\t 446\n",
        "SEQ1\tgi|2765595|emb|Z78470.1|PPZ78470\t92.51\t267\t18\t1\t1\t267\t1\t265\t7e-108\t 381\n",
        "SEQ1\tgi|2765594|emb|Z78469.1|PHZ78469\t92.81\t306\t18\t3\t1\t304\t1\t304\t1e-125\t 440\n",
        "SEQ1\tgi|2765594|emb|Z78469.1|PHZ78469\t92.57\t296\t16\t6\t393\t683\t300\t594\t1e-119\t 420\n",
        "SEQ1\tgi|2765627|emb|Z78502.1|PBZ78502\t84.57\t460\t44\t18\t269\t717\t294\t737\t6e-123\t 431\n",
        "SEQ1\tgi|2765625|emb|Z78500.1|PWZ78500\t83.30\t473\t53\t19\t271\t728\t299\t760\t2e-117\t 412\n",
        "SEQ1\tgi|2765625|emb|Z78500.1|PWZ78500\t86.38\t213\t24\t5\t1\t210\t1\t211\t9e-62\t 228\n",
        "SEQ1\tgi|2765626|emb|Z78501.1|PCZ78501\t82.48\t491\t56\t23\t257\t728\t283\t762\t1e-114\t 403\n",
        "SEQ1\tgi|2765626|emb|Z78501.1|PCZ78501\t84.98\t213\t27\t5\t1\t210\t1\t211\t9e-57\t 211\n",
        "SEQ1\tgi|2765639|emb|Z78514.1|PSZ78514\t82.98\t476\t47\t24\t269\t726\t295\t754\t2e-113\t 399\n",
        "SEQ1\tgi|2765628|emb|Z78503.1|PCZ78503\t84.43\t411\t42\t14\t327\t728\t325\t722\t5e-109\t 385\n",
        "SEQ1\tgi|2765587|emb|Z78462.1|PSZ78462\t93.44\t259\t14\t3\t410\t665\t476\t734\t7e-108\t 381\n",
        "SEQ1\tgi|2765587|emb|Z78462.1|PSZ78462\t91.90\t210\t15\t1\t1\t208\t1\t210\t3e-81\t 292\n",
        "SEQ1\tgi|2765630|emb|Z78505.1|PSZ78505\t83.89\t416\t45\t14\t322\t728\t304\t706\t9e-107\t 377\n",
        "SEQ1\tgi|2765630|emb|Z78505.1|PSZ78505\t83.41\t211\t33\t2\t1\t210\t1\t210\t9e-52\t 195\n",
        "SEQ1\tgi|2765631|emb|Z78506.1|PLZ78506\t83.05\t419\t45\t17\t322\t728\t323\t727\t1e-100\t 357\n",
        "SEQ1\tgi|2765631|emb|Z78506.1|PLZ78506\t84.83\t211\t30\t2\t1\t210\t1\t210\t9e-57\t 211\n",
        "SEQ1\tgi|2765634|emb|Z78509.1|PPZ78509\t82.73\t388\t43\t16\t321\t698\t322\t695\t1e-90\t 324\n",
        "SEQ1\tgi|2765634|emb|Z78509.1|PPZ78509\t86.26\t211\t27\t2\t1\t210\t1\t210\t9e-62\t 228\n",
        "SEQ1\tgi|2765655|emb|Z78530.1|CMZ78530\t82.62\t305\t39\t11\t272\t568\t291\t589\t1e-70\t 257\n",
        "SEQ1\tgi|2765655|emb|Z78530.1|CMZ78530\t78.64\t206\t35\t9\t1\t203\t1\t200\t9e-32\t 128\n",
        "SEQ1\tgi|2765644|emb|Z78519.1|CPZ78519\t93.49\t169\t10\t1\t255\t422\t217\t385\t2e-68\t 250\n",
        "SEQ1\tgi|2765656|emb|Z78531.1|CFZ78531\t96.05\t152\t4\t2\t272\t422\t290\t440\t3e-67\t 246\n",
        "SEQ1\tgi|2765656|emb|Z78531.1|CFZ78531\t78.70\t216\t33\t12\t1\t211\t1\t208\t7e-33\t 132\n",
        "SEQ1\tgi|2765646|emb|Z78521.1|CCZ78521\t92.86\t168\t12\t0\t255\t422\t259\t426\t9e-67\t 244\n",
        "SEQ1\tgi|2765646|emb|Z78521.1|CCZ78521\t77.00\t200\t34\t11\t16\t210\t1\t193\t2e-24\t 104\n",
        "SEQ1\tgi|2765649|emb|Z78524.1|CFZ78524\t76.25\t560\t71\t40\t1\t523\t1\t535\t3e-66\t 243\n",
        "SEQ1\tgi|2765654|emb|Z78529.1|CLZ78529\t79.94\t354\t52\t14\t284\t625\t283\t629\t3e-66\t 243\n",
        "SEQ1\tgi|2765651|emb|Z78526.1|CGZ78526\t95.36\t151\t7\t0\t272\t422\t266\t416\t1e-65\t 241\n",
        "SEQ1\tgi|2765651|emb|Z78526.1|CGZ78526\t91.46\t82\t5\t2\t1\t81\t1\t81\t1e-26\t 111\n",
        "SEQ1\tgi|2765652|emb|Z78527.1|CYZ78527\t94.81\t154\t4\t4\t272\t422\t265\t417\t2e-64\t 237\n",
        "SEQ1\tgi|2765652|emb|Z78527.1|CYZ78527\t91.14\t79\t5\t2\t1\t78\t1\t78\t4e-25\t 106\n",
        "SEQ1\tgi|2765642|emb|Z78517.1|CFZ78517\t94.74\t152\t6\t2\t272\t422\t287\t437\t5e-64\t 235\n",
        "SEQ1\tgi|2765642|emb|Z78517.1|CFZ78517\t75.81\t215\t37\t14\t1\t210\t1\t205\t1e-21\t95.3\n",
        "SEQ1\tgi|2765657|emb|Z78532.1|CCZ78532\t94.70\t151\t7\t1\t272\t422\t288\t437\t2e-63\t 233\n",
        "SEQ1\tgi|2765657|emb|Z78532.1|CCZ78532\t77.83\t212\t37\t9\t1\t209\t1\t205\t4e-30\t 122\n",
        "SEQ1\tgi|2765650|emb|Z78525.1|CAZ78525\t92.86\t154\t8\t3\t272\t422\t250\t403\t2e-59\t 220\n",
        "SEQ1\tgi|2765658|emb|Z78533.1|CIZ78533\t78.75\t353\t57\t14\t272\t613\t290\t635\t2e-59\t 220\n",
        "SEQ1\tgi|2765658|emb|Z78533.1|CIZ78533\t78.04\t214\t37\t9\t1\t210\t1\t208\t3e-31\t 126\n",
        "SEQ1\tgi|2765645|emb|Z78520.1|CSZ78520\t92.16\t153\t10\t2\t272\t422\t292\t444\t7e-58\t 215\n",
        "SEQ1\tgi|2765645|emb|Z78520.1|CSZ78520\t80.00\t215\t31\t11\t1\t210\t1\t208\t7e-38\t 148\n",
        "SEQ1\tgi|2765641|emb|Z78516.1|CPZ78516\t97.17\t106\t3\t0\t317\t422\t308\t413\t3e-47\t 180\n",
        "SEQ1\tgi|2765641|emb|Z78516.1|CPZ78516\t78.14\t215\t32\t14\t1\t210\t1\t205\t4e-30\t 122\n",
        "SEQ1\tgi|2765648|emb|Z78523.1|CHZ78523\t97.78\t90\t2\t0\t333\t422\t308\t397\t4e-40\t 156\n",
        "SEQ1\tgi|2765647|emb|Z78522.1|CMZ78522\t79.07\t215\t33\t11\t1\t210\t1\t208\t2e-34\t 137\n",
        "SEQ1\tgi|2765647|emb|Z78522.1|CMZ78522\t94.44\t90\t4\t1\t333\t422\t307\t395\t2e-34\t 137\n",
        "SEQ1\tgi|2765643|emb|Z78518.1|CRZ78518\t97.22\t72\t2\t0\t351\t422\t273\t344\t4e-30\t 122\n",
        "SEQ1\tgi|2765643|emb|Z78518.1|CRZ78518\t76.64\t214\t40\t9\t1\t210\t1\t208\t3e-26\t 110\n",
        "# BLASTN 2.2.28+\n",
        "# Query: SEQ2\n",
        "# Database: blastdb\n",
        "# Fields: query id, subject id, % identity, alignment length, mismatches, gap opens, q. start, q. end, s. start, s. end, evalue, bit score\n",
        "# 121 hits found\n",
        "SEQ2\tgi|2765614|emb|Z78489.1|PDZ78489\t100.00\t420\t0\t0\t1\t420\t1\t420\t0.0\t 776\n",
        "SEQ2\tgi|2765612|emb|Z78487.1|PHZ78487\t98.33\t420\t7\t0\t1\t420\t1\t420\t0.0\t 737\n",
        "SEQ2\tgi|2765615|emb|Z78490.1|PFZ78490\t97.86\t420\t9\t0\t1\t420\t1\t420\t0.0\t 726\n",
        "SEQ2\tgi|2765592|emb|Z78467.1|PSZ78467\t96.67\t420\t12\t2\t1\t420\t1\t418\t0.0\t 697\n",
        "SEQ2\tgi|2765608|emb|Z78483.1|PVZ78483\t96.20\t421\t13\t3\t1\t420\t1\t419\t0.0\t 686\n",
        "SEQ2\tgi|2765611|emb|Z78486.1|PBZ78486\t95.95\t420\t15\t2\t1\t420\t1\t418\t0.0\t 680\n",
        "SEQ2\tgi|2765610|emb|Z78485.1|PHZ78485\t95.88\t413\t14\t3\t9\t420\t9\t419\t0.0\t 665\n",
        "SEQ2\tgi|2765616|emb|Z78491.1|PCZ78491\t95.26\t422\t17\t3\t1\t420\t1\t421\t0.0\t 665\n",
        "SEQ2\tgi|2765577|emb|Z78452.1|PBZ78452\t95.04\t423\t18\t2\t1\t420\t1\t423\t0.0\t 662\n",
        "SEQ2\tgi|2765584|emb|Z78459.1|PDZ78459\t94.85\t427\t15\t6\t1\t420\t1\t427\t0.0\t 660\n",
        "SEQ2\tgi|2765585|emb|Z78460.1|PCZ78460\t94.84\t426\t16\t5\t1\t420\t1\t426\t0.0\t 660\n",
        "SEQ2\tgi|2765583|emb|Z78458.1|PHZ78458\t94.79\t422\t19\t2\t1\t420\t1\t421\t0.0\t 654\n",
        "SEQ2\tgi|2765590|emb|Z78465.1|PRZ78465\t94.77\t421\t19\t2\t1\t420\t1\t419\t0.0\t 652\n",
        "SEQ2\tgi|2765567|emb|Z78442.1|PBZ78442\t95.35\t409\t15\t3\t16\t420\t1\t409\t0.0\t 647\n",
        "SEQ2\tgi|2765578|emb|Z78453.1|PSZ78453\t94.34\t424\t20\t3\t1\t420\t1\t424\t0.0\t 647\n",
        "SEQ2\tgi|2765574|emb|Z78449.1|PMZ78449\t94.35\t425\t17\t5\t1\t420\t1\t423\t0.0\t 645\n",
        "SEQ2\tgi|2765581|emb|Z78456.1|PTZ78456\t94.34\t424\t18\t5\t1\t420\t1\t422\t0.0\t 645\n",
        "SEQ2\tgi|2765599|emb|Z78474.1|PKZ78474\t94.54\t421\t17\t5\t1\t420\t1\t416\t0.0\t 645\n",
        "SEQ2\tgi|2765617|emb|Z78492.1|PBZ78492\t94.33\t423\t20\t4\t1\t420\t1\t422\t0.0\t 645\n",
        "SEQ2\tgi|2765573|emb|Z78448.1|PAZ78448\t93.91\t427\t19\t6\t1\t420\t1\t427\t0.0\t 638\n",
        "SEQ2\tgi|2765588|emb|Z78463.1|PGZ78463\t93.85\t423\t18\t8\t1\t420\t1\t418\t0.0\t 630\n",
        "SEQ2\tgi|2765597|emb|Z78472.1|PLZ78472\t93.82\t421\t22\t4\t1\t420\t1\t418\t0.0\t 630\n",
        "SEQ2\tgi|2765589|emb|Z78464.1|PGZ78464\t93.38\t423\t16\t10\t1\t420\t1\t414\t9e-179\t 616\n",
        "SEQ2\tgi|2765596|emb|Z78471.1|PDZ78471\t92.43\t423\t26\t5\t1\t420\t1\t420\t9e-174\t 599\n",
        "SEQ2\tgi|2765575|emb|Z78450.1|PPZ78450\t94.16\t394\t20\t2\t30\t420\t1\t394\t3e-173\t 597\n",
        "SEQ2\tgi|2765576|emb|Z78451.1|PHZ78451\t92.20\t423\t25\t7\t1\t420\t1\t418\t2e-171\t 592\n",
        "SEQ2\tgi|2765582|emb|Z78457.1|PCZ78457\t92.00\t425\t29\t4\t1\t420\t1\t425\t2e-171\t 592\n",
        "SEQ2\tgi|2765566|emb|Z78441.1|PSZ78441\t93.65\t394\t20\t4\t30\t420\t1\t392\t3e-169\t 584\n",
        "SEQ2\tgi|2765564|emb|Z78439.1|PBZ78439\t94.06\t387\t17\t5\t38\t420\t1\t385\t1e-168\t 582\n",
        "SEQ2\tgi|2765586|emb|Z78461.1|PWZ78461\t91.25\t423\t34\t2\t1\t420\t1\t423\t6e-166\t 573\n",
        "SEQ2\tgi|2765609|emb|Z78484.1|PCZ78484\t91.94\t422\t11\t10\t1\t420\t1\t401\t7e-165\t 569\n",
        "SEQ2\tgi|2765571|emb|Z78446.1|PAZ78446\t91.25\t423\t17\t15\t1\t420\t1\t406\t2e-161\t 558\n",
        "SEQ2\tgi|2765613|emb|Z78488.1|PTZ78488\t91.85\t405\t14\t5\t16\t420\t3\t388\t3e-158\t 547\n",
        "SEQ2\tgi|2765618|emb|Z78493.1|PGZ78493\t90.07\t423\t39\t3\t1\t420\t1\t423\t1e-157\t 545\n",
        "SEQ2\tgi|2765569|emb|Z78444.1|PAZ78444\t89.62\t424\t30\t10\t1\t420\t1\t414\t5e-152\t 527\n",
        "SEQ2\tgi|2765607|emb|Z78482.1|PEZ78482\t97.09\t309\t6\t3\t113\t420\t2\t308\t8e-150\t 520\n",
        "SEQ2\tgi|2765565|emb|Z78440.1|PPZ78440\t88.71\t425\t42\t5\t1\t420\t1\t424\t4e-148\t 514\n",
        "SEQ2\tgi|2765605|emb|Z78480.1|PGZ78480\t98.26\t288\t5\t0\t1\t288\t1\t288\t2e-145\t 505\n",
        "SEQ2\tgi|2765570|emb|Z78445.1|PUZ78445\t88.89\t423\t25\t11\t1\t420\t1\t404\t3e-144\t 501\n",
        "SEQ2\tgi|2765580|emb|Z78455.1|PJZ78455\t88.00\t425\t44\t6\t1\t420\t1\t423\t1e-142\t 496\n",
        "SEQ2\tgi|2765623|emb|Z78498.1|PMZ78498\t87.73\t440\t32\t11\t1\t420\t1\t438\t5e-142\t 494\n",
        "SEQ2\tgi|2765602|emb|Z78477.1|PVZ78477\t88.71\t425\t14\t19\t1\t420\t1\t396\t2e-140\t 488\n",
        "SEQ2\tgi|2765606|emb|Z78481.1|PIZ78481\t97.21\t287\t7\t1\t1\t286\t1\t287\t3e-139\t 484\n",
        "SEQ2\tgi|2765600|emb|Z78475.1|PSZ78475\t95.33\t300\t10\t3\t1\t299\t1\t297\t6e-136\t 473\n",
        "SEQ2\tgi|2765591|emb|Z78466.1|PPZ78466\t95.00\t300\t12\t2\t1\t299\t1\t298\t3e-134\t 468\n",
        "SEQ2\tgi|2765591|emb|Z78466.1|PPZ78466\t100.00\t34\t0\t0\t387\t420\t301\t334\t2e-12\t63.9\n",
        "SEQ2\tgi|2765598|emb|Z78473.1|PSZ78473\t94.67\t300\t13\t2\t1\t299\t1\t298\t1e-132\t 462\n",
        "SEQ2\tgi|2765598|emb|Z78473.1|PSZ78473\t100.00\t35\t0\t0\t386\t420\t299\t333\t4e-13\t65.8\n",
        "SEQ2\tgi|2765604|emb|Z78479.1|PPZ78479\t87.23\t423\t23\t11\t1\t420\t1\t395\t8e-130\t 453\n",
        "SEQ2\tgi|2765594|emb|Z78469.1|PHZ78469\t92.81\t306\t18\t3\t1\t304\t1\t304\t6e-126\t 440\n",
        "SEQ2\tgi|2765594|emb|Z78469.1|PHZ78469\t100.00\t28\t0\t0\t393\t420\t300\t327\t3e-09\t52.8\n",
        "SEQ2\tgi|2765621|emb|Z78496.1|PAZ78496\t85.49\t455\t28\t23\t1\t420\t1\t452\t6e-126\t 440\n",
        "SEQ2\tgi|2765593|emb|Z78468.1|PAZ78468\t91.81\t281\t19\t4\t1\t280\t1\t278\t2e-110\t 388\n",
        "SEQ2\tgi|2765595|emb|Z78470.1|PPZ78470\t92.51\t267\t18\t1\t1\t267\t1\t265\t4e-108\t 381\n",
        "SEQ2\tgi|2765595|emb|Z78470.1|PPZ78470\t97.67\t43\t1\t0\t378\t420\t267\t309\t7e-16\t75.0\n",
        "SEQ2\tgi|2765579|emb|Z78454.1|PFZ78454\t90.62\t288\t24\t2\t1\t286\t1\t287\t1e-107\t 379\n",
        "SEQ2\tgi|2765579|emb|Z78454.1|PFZ78454\t95.92\t98\t4\t0\t323\t420\t292\t389\t2e-41\t 159\n",
        "SEQ2\tgi|2765638|emb|Z78513.1|PBZ78513\t81.82\t440\t58\t13\t1\t420\t1\t438\t1e-98\t 350\n",
        "SEQ2\tgi|2765632|emb|Z78507.1|PLZ78507\t81.88\t447\t47\t22\t1\t420\t1\t440\t1e-97\t 346\n",
        "SEQ2\tgi|2765619|emb|Z78494.1|PNZ78494\t87.84\t296\t29\t5\t1\t292\t1\t293\t6e-96\t 340\n",
        "SEQ2\tgi|2765640|emb|Z78515.1|MXZ78515\t81.49\t443\t57\t16\t1\t420\t1\t441\t6e-96\t 340\n",
        "SEQ2\tgi|2765622|emb|Z78497.1|PDZ78497\t92.58\t229\t16\t1\t1\t229\t1\t228\t5e-92\t 327\n",
        "SEQ2\tgi|2765622|emb|Z78497.1|PDZ78497\t93.82\t178\t6\t4\t248\t420\t290\t467\t1e-72\t 263\n",
        "SEQ2\tgi|2765601|emb|Z78476.1|PGZ78476\t87.33\t300\t10\t10\t1\t299\t1\t273\t3e-89\t 318\n",
        "SEQ2\tgi|2765620|emb|Z78495.1|PEZ78495\t90.91\t231\t18\t2\t1\t229\t1\t230\t6e-86\t 307\n",
        "SEQ2\tgi|2765620|emb|Z78495.1|PEZ78495\t92.70\t178\t8\t5\t248\t420\t295\t472\t3e-69\t 252\n",
        "SEQ2\tgi|2765572|emb|Z78447.1|PVZ78447\t89.54\t239\t22\t2\t1\t237\t1\t238\t1e-83\t 300\n",
        "SEQ2\tgi|2765572|emb|Z78447.1|PVZ78447\t99.25\t134\t1\t0\t287\t420\t241\t374\t2e-66\t 243\n",
        "SEQ2\tgi|2765568|emb|Z78443.1|PLZ78443\t92.61\t203\t13\t1\t1\t201\t1\t203\t6e-81\t 291\n",
        "SEQ2\tgi|2765568|emb|Z78443.1|PLZ78443\t99.05\t105\t0\t1\t316\t420\t380\t483\t9e-50\t 187\n",
        "SEQ2\tgi|2765587|emb|Z78462.1|PSZ78462\t90.95\t210\t17\t1\t1\t208\t1\t210\t4e-78\t 281\n",
        "SEQ2\tgi|2765624|emb|Z78499.1|PMZ78499\t88.79\t232\t21\t2\t1\t228\t1\t231\t1e-77\t 279\n",
        "SEQ2\tgi|2765624|emb|Z78499.1|PMZ78499\t90.50\t200\t10\t9\t226\t420\t258\t453\t2e-70\t 255\n",
        "SEQ2\tgi|2765633|emb|Z78508.1|PLZ78508\t92.78\t194\t8\t4\t228\t420\t254\t442\t2e-76\t 276\n",
        "SEQ2\tgi|2765633|emb|Z78508.1|PLZ78508\t84.91\t212\t30\t2\t1\t211\t1\t211\t1e-57\t 213\n",
        "SEQ2\tgi|2765637|emb|Z78512.1|PWZ78512\t96.34\t164\t4\t2\t258\t420\t285\t447\t3e-74\t 268\n",
        "SEQ2\tgi|2765656|emb|Z78531.1|CFZ78531\t78.98\t452\t49\t29\t1\t420\t1\t438\t1e-73\t 267\n",
        "SEQ2\tgi|2765636|emb|Z78511.1|PEZ78511\t93.10\t174\t7\t5\t252\t420\t275\t448\t1e-68\t 250\n",
        "SEQ2\tgi|2765635|emb|Z78510.1|PCZ78510\t94.48\t163\t5\t4\t261\t420\t280\t441\t4e-68\t 248\n",
        "SEQ2\tgi|2765639|emb|Z78514.1|PSZ78514\t96.05\t152\t6\t0\t269\t420\t295\t446\t4e-68\t 248\n",
        "SEQ2\tgi|2765644|emb|Z78519.1|CPZ78519\t94.38\t160\t9\t0\t261\t420\t224\t383\t1e-67\t 246\n",
        "SEQ2\tgi|2765649|emb|Z78524.1|CFZ78524\t78.44\t450\t46\t32\t1\t420\t1\t429\t1e-67\t 246\n",
        "SEQ2\tgi|2765629|emb|Z78504.1|PKZ78504\t94.94\t158\t4\t4\t263\t420\t287\t440\t5e-67\t 244\n",
        "SEQ2\tgi|2765646|emb|Z78521.1|CCZ78521\t93.75\t160\t9\t1\t261\t420\t266\t424\t2e-65\t 239\n",
        "SEQ2\tgi|2765646|emb|Z78521.1|CCZ78521\t76.12\t201\t36\t11\t16\t211\t1\t194\t5e-22\t95.3\n",
        "SEQ2\tgi|2765651|emb|Z78526.1|CGZ78526\t95.30\t149\t7\t0\t272\t420\t266\t414\t9e-65\t 237\n",
        "SEQ2\tgi|2765651|emb|Z78526.1|CGZ78526\t91.46\t82\t5\t2\t1\t81\t1\t81\t5e-27\t 111\n",
        "SEQ2\tgi|2765652|emb|Z78527.1|CYZ78527\t94.74\t152\t4\t4\t272\t420\t265\t415\t1e-63\t 233\n",
        "SEQ2\tgi|2765652|emb|Z78527.1|CYZ78527\t91.14\t79\t5\t2\t1\t78\t1\t78\t3e-25\t 106\n",
        "SEQ2\tgi|2765642|emb|Z78517.1|CFZ78517\t94.67\t150\t6\t2\t272\t420\t287\t435\t4e-63\t 231\n",
        "SEQ2\tgi|2765642|emb|Z78517.1|CFZ78517\t87.80\t82\t8\t2\t1\t81\t1\t81\t5e-22\t95.3\n",
        "SEQ2\tgi|2765655|emb|Z78530.1|CMZ78530\t94.67\t150\t7\t1\t272\t420\t291\t440\t4e-63\t 231\n",
        "SEQ2\tgi|2765655|emb|Z78530.1|CMZ78530\t78.54\t205\t37\t7\t1\t203\t1\t200\t5e-32\t 128\n",
        "SEQ2\tgi|2765657|emb|Z78532.1|CCZ78532\t94.63\t149\t7\t1\t272\t420\t288\t435\t1e-62\t 230\n",
        "SEQ2\tgi|2765657|emb|Z78532.1|CCZ78532\t92.59\t81\t6\t0\t1\t81\t1\t81\t1e-28\t 117\n",
        "SEQ2\tgi|2765625|emb|Z78500.1|PWZ78500\t85.92\t213\t27\t3\t1\t211\t1\t212\t7e-61\t 224\n",
        "SEQ2\tgi|2765625|emb|Z78500.1|PWZ78500\t91.61\t155\t8\t5\t271\t420\t299\t453\t2e-56\t 209\n",
        "SEQ2\tgi|2765627|emb|Z78502.1|PBZ78502\t93.51\t154\t5\t4\t269\t420\t294\t444\t7e-61\t 224\n",
        "SEQ2\tgi|2765603|emb|Z78478.1|PVZ78478\t83.33\t264\t15\t13\t1\t263\t1\t236\t1e-58\t 217\n",
        "SEQ2\tgi|2765650|emb|Z78525.1|CAZ78525\t92.76\t152\t8\t3\t272\t420\t250\t401\t1e-58\t 217\n",
        "SEQ2\tgi|2765654|emb|Z78529.1|CLZ78529\t94.93\t138\t6\t1\t284\t420\t283\t420\t4e-58\t 215\n",
        "SEQ2\tgi|2765634|emb|Z78509.1|PPZ78509\t84.91\t212\t30\t2\t1\t211\t1\t211\t1e-57\t 213\n",
        "SEQ2\tgi|2765634|emb|Z78509.1|PPZ78509\t94.06\t101\t5\t1\t321\t420\t322\t422\t3e-39\t 152\n",
        "SEQ2\tgi|2765645|emb|Z78520.1|CSZ78520\t92.05\t151\t10\t2\t272\t420\t292\t442\t5e-57\t 211\n",
        "SEQ2\tgi|2765645|emb|Z78520.1|CSZ78520\t79.17\t216\t33\t11\t1\t211\t1\t209\t2e-35\t 139\n",
        "SEQ2\tgi|2765626|emb|Z78501.1|PCZ78501\t84.51\t213\t30\t3\t1\t211\t1\t212\t7e-56\t 207\n",
        "SEQ2\tgi|2765626|emb|Z78501.1|PCZ78501\t88.95\t172\t10\t9\t258\t420\t284\t455\t9e-55\t 204\n",
        "SEQ2\tgi|2765631|emb|Z78506.1|PLZ78506\t84.43\t212\t31\t2\t1\t211\t1\t211\t7e-56\t 207\n",
        "SEQ2\tgi|2765631|emb|Z78506.1|PLZ78506\t96.97\t99\t3\t0\t322\t420\t323\t421\t1e-43\t 167\n",
        "SEQ2\tgi|2765630|emb|Z78505.1|PSZ78505\t83.49\t212\t33\t2\t1\t211\t1\t211\t1e-52\t 196\n",
        "SEQ2\tgi|2765630|emb|Z78505.1|PSZ78505\t96.97\t99\t3\t0\t322\t420\t304\t402\t1e-43\t 167\n",
        "SEQ2\tgi|2765658|emb|Z78533.1|CIZ78533\t90.26\t154\t9\t6\t272\t420\t290\t442\t1e-52\t 196\n",
        "SEQ2\tgi|2765658|emb|Z78533.1|CIZ78533\t78.14\t215\t37\t9\t1\t211\t1\t209\t5e-32\t 128\n",
        "SEQ2\tgi|2765641|emb|Z78516.1|CPZ78516\t97.12\t104\t3\t0\t317\t420\t308\t411\t2e-46\t 176\n",
        "SEQ2\tgi|2765641|emb|Z78516.1|CPZ78516\t77.21\t215\t36\t12\t1\t211\t1\t206\t2e-27\t 113\n",
        "SEQ2\tgi|2765628|emb|Z78503.1|PCZ78503\t97.87\t94\t2\t0\t327\t420\t325\t418\t1e-42\t 163\n",
        "SEQ2\tgi|2765648|emb|Z78523.1|CHZ78523\t97.73\t88\t2\t0\t333\t420\t308\t395\t3e-39\t 152\n",
        "SEQ2\tgi|2765647|emb|Z78522.1|CMZ78522\t94.32\t88\t4\t1\t333\t420\t307\t393\t1e-33\t 134\n",
        "SEQ2\tgi|2765647|emb|Z78522.1|CMZ78522\t78.24\t216\t35\t11\t1\t211\t1\t209\t5e-32\t 128\n",
        "SEQ2\tgi|2765643|emb|Z78518.1|CRZ78518\t97.14\t70\t2\t0\t351\t420\t273\t342\t3e-29\t 119\n",
        "SEQ2\tgi|2765643|emb|Z78518.1|CRZ78518\t76.17\t214\t43\t7\t1\t211\t1\t209\t3e-25\t 106\n",
        "# BLAST processed 2 queries\n"
       ]
      }
     ],
     "prompt_number": 6
    },
    {
     "cell_type": "code",
     "collapsed": false,
     "input": [
      "%%bash\n",
      "ls -l query.fasta\n",
      "ls -l blastdb.*"
     ],
     "language": "python",
     "metadata": {},
     "outputs": [
      {
       "output_type": "stream",
       "stream": "stdout",
       "text": [
        "-rw-rw-r-- 1 pvh pvh 1177 Mar 24 09:43 query.fasta\n",
        "-rw-rw-r-- 1 pvh pvh 13593 Mar 24 09:47 blastdb.nhr\n",
        "-rw-rw-r-- 1 pvh pvh  1212 Mar 24 09:47 blastdb.nin\n",
        "-rw-rw-r-- 1 pvh pvh 17020 Mar 24 09:47 blastdb.nsq\n"
       ]
      }
     ],
     "prompt_number": 8
    },
    {
     "cell_type": "code",
     "collapsed": false,
     "input": [
      "import os.path\n",
      "\n",
      "fasta_filename = 'query.fasta'\n",
      "blastdb_filename = 'blastdb.nhr'\n",
      "mtime = os.path.getmtime(fasta_filename)\n",
      "print fasta_filename, mtime\n",
      "blastdb_mtime = os.path.getmtime(blastdb_filename)\n",
      "print blastdb_filename, blastdb_mtime"
     ],
     "language": "python",
     "metadata": {},
     "outputs": [
      {
       "output_type": "stream",
       "stream": "stdout",
       "text": [
        "query.fasta 1427183009.79\n",
        "blastdb.nhr 1427183264.68\n"
       ]
      }
     ],
     "prompt_number": 13
    },
    {
     "cell_type": "code",
     "collapsed": false,
     "input": [
      "import os.path\n",
      "\n",
      "def is_newer(filename1, filename2):\n",
      "    mtime1 = os.path.getmtime(filename1)\n",
      "    mtime2 = os.path.getmtime(filename2)\n",
      "    if mtime1 <= mtime2:\n",
      "        return False\n",
      "    else:\n",
      "        return True"
     ],
     "language": "python",
     "metadata": {},
     "outputs": [],
     "prompt_number": 16
    },
    {
     "cell_type": "code",
     "collapsed": false,
     "input": [
      "is_newer(fasta_filename, blastdb_filename)"
     ],
     "language": "python",
     "metadata": {},
     "outputs": [
      {
       "metadata": {},
       "output_type": "pyout",
       "prompt_number": 17,
       "text": [
        "False"
       ]
      }
     ],
     "prompt_number": 17
    },
    {
     "cell_type": "code",
     "collapsed": false,
     "input": [
      "is_newer(blastdb_filename, fasta_filename)"
     ],
     "language": "python",
     "metadata": {},
     "outputs": [
      {
       "metadata": {},
       "output_type": "pyout",
       "prompt_number": 18,
       "text": [
        "True"
       ]
      }
     ],
     "prompt_number": 18
    },
    {
     "cell_type": "code",
     "collapsed": false,
     "input": [
      "import subprocess\n",
      "import shlex\n",
      "\n",
      "cmd_str = 'makeblastdb -in python.fasta -out blastdb -dbtype nucl'\n",
      "cmd = shlex.split(cmd_str)\n",
      "print cmd\n",
      "subprocess.call(cmd)"
     ],
     "language": "python",
     "metadata": {},
     "outputs": [
      {
       "output_type": "stream",
       "stream": "stdout",
       "text": [
        "['makeblastdb', '-in', 'python.fasta', '-out', 'blastdb', '-dbtype', 'nucl']\n"
       ]
      },
      {
       "metadata": {},
       "output_type": "pyout",
       "prompt_number": 21,
       "text": [
        "0"
       ]
      }
     ],
     "prompt_number": 21
    },
    {
     "cell_type": "code",
     "collapsed": false,
     "input": [
      "%%bash\n",
      "\n",
      "ls -l blastdb.*"
     ],
     "language": "python",
     "metadata": {},
     "outputs": [
      {
       "output_type": "stream",
       "stream": "stdout",
       "text": [
        "-rw-rw-r-- 1 pvh pvh 13593 Mar 24 10:19 blastdb.nhr\n",
        "-rw-rw-r-- 1 pvh pvh  1212 Mar 24 10:19 blastdb.nin\n",
        "-rw-rw-r-- 1 pvh pvh 17020 Mar 24 10:19 blastdb.nsq\n"
       ]
      }
     ],
     "prompt_number": 20
    },
    {
     "cell_type": "code",
     "collapsed": false,
     "input": [
      "import subprocess\n",
      "import os\n",
      "import sys\n",
      "\n",
      "def makeblastdb(fasta_filename, dbname, dbtype='nucl'):\n",
      "    if dbtype not in ['nucl', 'prot']:\n",
      "        raise ValueError('Invalid dbtype: {}'.format(dbtype))\n",
      "    dustbin_file = open(os.devnull, 'w') # make a file that writes to /dev/null\n",
      "    cmd = ['makeblastdb', '-in', fasta_filename, '-out', dbname, '-dbtype', dbtype]\n",
      "    return_code = subprocess.call(cmd, stdout=dustbin_file)\n",
      "    if return_code == 0:\n",
      "        return True\n",
      "    else:\n",
      "        return False"
     ],
     "language": "python",
     "metadata": {},
     "outputs": [],
     "prompt_number": 23
    },
    {
     "cell_type": "code",
     "collapsed": false,
     "input": [
      "# make a nucleotide database\n",
      "makeblastdb('python.fasta', 'blastdb', 'nucl')"
     ],
     "language": "python",
     "metadata": {},
     "outputs": [
      {
       "metadata": {},
       "output_type": "pyout",
       "prompt_number": 26,
       "text": [
        "True"
       ]
      }
     ],
     "prompt_number": 26
    },
    {
     "cell_type": "code",
     "collapsed": false,
     "input": [
      "try:\n",
      "    makeblastdb('python.fasta', 'blastdb', 'protein')\n",
      "except ValueError as e:\n",
      "    print >>sys.stderr, \"Something went wrong: {}\".format(str(e))"
     ],
     "language": "python",
     "metadata": {},
     "outputs": [
      {
       "output_type": "stream",
       "stream": "stderr",
       "text": [
        "Something went wrong: Invalid dbtype: protein\n"
       ]
      }
     ],
     "prompt_number": 28
    },
    {
     "cell_type": "code",
     "collapsed": false,
     "input": [
      "fasta_filename = 'python.fasta'\n",
      "dbname = 'blastdb'\n",
      "blastdb_filename = dbname + '.nhr'\n",
      "\n",
      "if not os.path.exists(blastdb_filename) or is_newer(fasta_filename, blastdb_filename):\n",
      "    print \"Making BLAST database\"\n",
      "    makeblastdb(fasta_filename, dbname)"
     ],
     "language": "python",
     "metadata": {},
     "outputs": [],
     "prompt_number": 33
    },
    {
     "cell_type": "code",
     "collapsed": false,
     "input": [],
     "language": "python",
     "metadata": {},
     "outputs": [],
     "prompt_number": 33
    },
    {
     "cell_type": "code",
     "collapsed": false,
     "input": [],
     "language": "python",
     "metadata": {},
     "outputs": []
    }
   ],
   "metadata": {}
  }
 ]
}