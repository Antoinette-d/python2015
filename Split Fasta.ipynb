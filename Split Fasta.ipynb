{
 "metadata": {
  "name": "",
  "signature": "sha256:d454589f5b014934c9996dc8448d4ab89127ca6b3577bf7ec73dc5e22470e6c9"
 },
 "nbformat": 3,
 "nbformat_minor": 0,
 "worksheets": [
  {
   "cells": [
    {
     "cell_type": "markdown",
     "metadata": {},
     "source": [
      "1) Given a file of FASTA sequences (you can use `'python.fasta'` as an example), split it in (approximately) half, creating two files (`'seq1.fasta'` and '`seq2.fasta'`).\n",
      "\n",
      "a) Use seq_utils.count_seqs() as part of the solution.\n",
      "\n",
      "b) Do it without counting the sequences first."
     ]
    },
    {
     "cell_type": "code",
     "collapsed": false,
     "input": [
      "import sys\n",
      "sys.path.append('/home/pvh/Documents/counting_sequences/lib')\n",
      "import seq_utils\n",
      "import os\n",
      "\n",
      "def split_fasta(filename):\n",
      "    try:\n",
      "        input_file = open(filename)\n",
      "    except IOError as e:\n",
      "        print >>sys.stderr, \"Failed to open {}: {}\".format(filename, e.strerror)\n",
      "        return False\n",
      "    else:\n",
      "        with input_file:\n",
      "            seq_count = seq_utils.count_seqs(input_file)\n",
      "            input_file.seek(0)\n",
      "            half = seq_count // 2\n",
      "            count = 0\n",
      "            filename = 'seq1.fasta'\n",
      "            output_file = open(filename, 'w')\n",
      "            for line in input_file:\n",
      "                if line.lstrip().startswith('>'):\n",
      "                    count += 1\n",
      "                    if count == half+1:\n",
      "                        # change over to seq2.fasta at halfway point\n",
      "                        filename = 'seq2.fasta'\n",
      "                        output_file.close()\n",
      "                        output_file = open(filename, 'w')\n",
      "                output_file.write(line)\n",
      "        output_file.close()\n",
      "        return True\n",
      "    \n",
      "print os.getcwd()\n",
      "split_fasta('python.fasta')"
     ],
     "language": "python",
     "metadata": {},
     "outputs": [
      {
       "output_type": "stream",
       "stream": "stdout",
       "text": [
        "/home/pvh/Documents/python\n"
       ]
      },
      {
       "metadata": {},
       "output_type": "pyout",
       "prompt_number": 10,
       "text": [
        "True"
       ]
      }
     ],
     "prompt_number": 10
    },
    {
     "cell_type": "code",
     "collapsed": false,
     "input": [
      "import sys\n",
      "\n",
      "def split_fasta2(filename):\n",
      "    try:\n",
      "        input_file = open(filename)\n",
      "    except IOError as e:\n",
      "        print >>sys.stderr, \"Failed to open {}: {}\".format(filename, e.strerror)\n",
      "        return False\n",
      "    else:\n",
      "        filename1 = 'seq1.fasta'\n",
      "        filename2 = 'seq2.fasta'\n",
      "        output_file1 = open(filename1, 'w')\n",
      "        output_file2 = open(filename2, 'w')\n",
      "        filenum = 1\n",
      "        with input_file:\n",
      "            for line in input_file:\n",
      "                if line.startswith('>'):\n",
      "                    if filenum == 1:\n",
      "                        filenum = 2\n",
      "                        output_file = output_file2\n",
      "                    elif filenum == 2:\n",
      "                        filenum = 1\n",
      "                        output_file = output_file1\n",
      "                output_file.write(line)\n",
      "        output_file1.close()\n",
      "        output_file2.close()\n",
      "        return True\n",
      "split_fasta2('python.fasta')    "
     ],
     "language": "python",
     "metadata": {},
     "outputs": [
      {
       "metadata": {},
       "output_type": "pyout",
       "prompt_number": 13,
       "text": [
        "True"
       ]
      }
     ],
     "prompt_number": 13
    },
    {
     "cell_type": "code",
     "collapsed": false,
     "input": [
      "import sys\n",
      "\n",
      "def split_fasta3(filename):\n",
      "    try:\n",
      "        input_file = open(filename)\n",
      "    except IOError as e:\n",
      "        print >>sys.stderr, \"Failed to open {}: {}\".format(filename, e.strerror)\n",
      "        return False\n",
      "    else:\n",
      "        output_files = []\n",
      "        num_parts = 2\n",
      "        for partnum in range(1, num_parts+1):\n",
      "            filename = 'seq{}.fasta'.format(partnum)\n",
      "            output_file = open(filename, 'w')\n",
      "            output_files.append(output_file)\n",
      "        count = 0\n",
      "        with input_file:\n",
      "            for line in input_file:\n",
      "                if line.startswith('>'):\n",
      "                    count += 1\n",
      "                    filenum = count % num_parts\n",
      "                    output_file = output_files[filenum]\n",
      "                output_file.write(line)\n",
      "        for output_file in output_files:\n",
      "            output_file.close()\n",
      "        return True\n",
      "split_fasta3('python.fasta')    "
     ],
     "language": "python",
     "metadata": {},
     "outputs": [
      {
       "metadata": {},
       "output_type": "pyout",
       "prompt_number": 35,
       "text": [
        "True"
       ]
      }
     ],
     "prompt_number": 35
    },
    {
     "cell_type": "markdown",
     "metadata": {},
     "source": [
      "2) Expand the solution from 1) to split the file into any number of pieces - i.e. the input will now be a *filename* and the *number of parts*. You can experiment in iPython first but the final version should be a script *split_fasta.py* that takes two command line arguments."
     ]
    },
    {
     "cell_type": "code",
     "collapsed": false,
     "input": [
      "import sys\n",
      "sys.path.append('/home/pvh/Documents/python/lib')\n",
      "import seq_utils\n",
      "import os\n",
      "\n",
      "def get_output_file(part_num):\n",
      "    filename = 'seq{}.fasta'.format(part_num)\n",
      "    output_file = open(filename, 'w')\n",
      "    return output_file\n",
      "\n",
      "# by default num_parts is equal to two\n",
      "def split_fasta4(filename, num_parts=2):\n",
      "    \n",
      "    try:\n",
      "        input_file = open(filename)\n",
      "    except IOError as e:\n",
      "        print >>sys.stderr, \"Failed to open {}: {}\".format(filename, e.strerror)\n",
      "        return False\n",
      "    else:\n",
      "        with input_file:\n",
      "            seq_count = seq_utils.count_seqs(input_file)\n",
      "            if seq_count < num_parts:\n",
      "                print >>sys.stderr, \"Can't split, number of parts ({}) is greater than number of sequences in file ({})\".format(num_parts, seq_count)\n",
      "                return False\n",
      "            input_file.seek(0)\n",
      "            chunk_size = seq_count // num_parts\n",
      "            count = 0\n",
      "            part_num = 1\n",
      "            output_file = get_output_file(part_num)\n",
      "            for line in input_file:\n",
      "                if line.lstrip().startswith('>'):\n",
      "                    count += 1\n",
      "                    if part_num < num_parts and count == (part_num*chunk_size)+1:\n",
      "                        # change over to writing the next part\n",
      "                        part_num += 1\n",
      "                        output_file = get_output_file(part_num) \n",
      "                output_file.write(line)\n",
      "        output_file.close()\n",
      "        return True\n",
      "    \n",
      "print os.getcwd()\n",
      "split_fasta('small.fasta', 6)"
     ],
     "language": "python",
     "metadata": {},
     "outputs": [
      {
       "output_type": "stream",
       "stream": "stdout",
       "text": [
        "/home/pvh/Documents/python\n"
       ]
      },
      {
       "output_type": "stream",
       "stream": "stderr",
       "text": [
        "Can't split, number of parts (6) is greater than number of sequences in file (5)\n"
       ]
      },
      {
       "metadata": {},
       "output_type": "pyout",
       "prompt_number": 26,
       "text": [
        "False"
       ]
      }
     ],
     "prompt_number": 26
    },
    {
     "cell_type": "code",
     "collapsed": false,
     "input": [
      "import sys\n",
      "\n",
      "def split_fasta5(filename, num_parts=2):\n",
      "    try:\n",
      "        input_file = open(filename)\n",
      "    except IOError as e:\n",
      "        print >>sys.stderr, \"Failed to open {}: {}\".format(filename, e.strerror)\n",
      "        return False\n",
      "    else:\n",
      "        output_files = []\n",
      "        for partnum in range(1, num_parts+1):\n",
      "            filename = 'seq{}.fasta'.format(partnum)\n",
      "            output_file = open(filename, 'w')\n",
      "            output_files.append(output_file)\n",
      "        count = 0\n",
      "        with input_file:\n",
      "            for line in input_file:\n",
      "                if line.startswith('>'):\n",
      "                    count += 1\n",
      "                    filenum = (count - 1) % num_parts\n",
      "                    output_file = output_files[filenum]\n",
      "                output_file.write(line)\n",
      "        for output_file in output_files:\n",
      "            output_file.close()\n",
      "        return True\n",
      "split_fasta5('python.fasta', 3)    "
     ],
     "language": "python",
     "metadata": {},
     "outputs": [
      {
       "metadata": {},
       "output_type": "pyout",
       "prompt_number": 29,
       "text": [
        "True"
       ]
      }
     ],
     "prompt_number": 29
    },
    {
     "cell_type": "code",
     "collapsed": false,
     "input": [
      "import sys\n",
      "\n",
      "def split_fasta6(filename, num_parts=2):\n",
      "    try:\n",
      "        input_file = open(filename)\n",
      "    except IOError as e:\n",
      "        print >>sys.stderr, \"Failed to open {}: {}\".format(filename, e.strerror)\n",
      "        return False\n",
      "    else:\n",
      "        output_files = []\n",
      "        count = 0\n",
      "        with input_file:\n",
      "            for line in input_file:\n",
      "                if line.startswith('>'):\n",
      "                    count += 1\n",
      "                    filenum = (count - 1) % num_parts\n",
      "                    if len(output_files)-1 < filenum:\n",
      "                        filename = 'seq{}.fasta'.format(filenum+1)\n",
      "                        output_file = open(filename, 'w')\n",
      "                        output_files.append(output_file)\n",
      "                    else:\n",
      "                        output_file = output_files[filenum]\n",
      "                output_file.write(line)\n",
      "        for output_file in output_files:\n",
      "            output_file.close()\n",
      "        if count < num_parts:\n",
      "            print >>sys.stderr, \"Warning: number of parts ({}) is greater than number of sequences in file ({})\".format(num_parts, count)\n",
      "            return False        \n",
      "        return True\n",
      "split_fasta6('small.fasta', 6)    "
     ],
     "language": "python",
     "metadata": {},
     "outputs": [
      {
       "output_type": "stream",
       "stream": "stderr",
       "text": [
        "Warning: number of parts (6) is greater than number of sequences in file (5)\n"
       ]
      },
      {
       "metadata": {},
       "output_type": "pyout",
       "prompt_number": 34,
       "text": [
        "False"
       ]
      }
     ],
     "prompt_number": 34
    },
    {
     "cell_type": "code",
     "collapsed": false,
     "input": [],
     "language": "python",
     "metadata": {},
     "outputs": []
    }
   ],
   "metadata": {}
  }
 ]
}