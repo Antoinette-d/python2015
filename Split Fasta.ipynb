{
 "metadata": {
  "name": "",
  "signature": "sha256:c815e3a05b25c14b11556a5f3105173a5b5ace8d5301c2d133e6903abf15cdd8"
 },
 "nbformat": 3,
 "nbformat_minor": 0,
 "worksheets": [
  {
   "cells": [
    {
     "cell_type": "markdown",
     "metadata": {},
     "source": [
      "1) Given a file of FASTA sequences (you can use `'python.fasta'` as an example), split it in (approximately) half, creating two files (`'seq1.fasta'` and '`seq2.fasta'`).\n",
      "\n",
      "a) Use seq_utils.count_seqs() as part of the solution.\n",
      "\n",
      "b) Do it without counting the sequences first."
     ]
    },
    {
     "cell_type": "markdown",
     "metadata": {},
     "source": [
      "2) Expand the solution from 1) to split the file into any number of pieces - i.e. the input will now be a *filename* and the *number of parts*. You can experiment in iPython first but the final version should be a script *split_fasta.py* that takes two command line arguments."
     ]
    }
   ],
   "metadata": {}
  }
 ]
}