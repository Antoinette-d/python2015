{
 "metadata": {
  "name": "",
  "signature": "sha256:1b0227ec678733531f0ac5de4996f8c6fc1dbe12cd0729fe2f63d66a205a5f41"
 },
 "nbformat": 3,
 "nbformat_minor": 0,
 "worksheets": [
  {
   "cells": [
    {
     "cell_type": "markdown",
     "metadata": {},
     "source": [
      "Since Python 2.7, the Python standard library has included the `argparse` module for command line argument processing. There is an [argparse tutorial](https://docs.python.org/2/howto/argparse.html) in the Python docs."
     ]
    },
    {
     "cell_type": "code",
     "collapsed": false,
     "input": [
      "%%script /usr/bin/env python - foo\n",
      "\n",
      "import sys\n",
      "\n",
      "if len(sys.argv) != 2:\n",
      "    sys.exit(\"Usage: myscript.py <parameter>\")"
     ],
     "language": "python",
     "metadata": {},
     "outputs": [],
     "prompt_number": 7
    },
    {
     "cell_type": "code",
     "collapsed": false,
     "input": [
      "%%script /usr/bin/env python - -h\n",
      "\n",
      "import argparse\n",
      "import sys\n",
      "\n",
      "def word_count(input_file):\n",
      "    count = 0\n",
      "    for line in input_file:\n",
      "        count += 1\n",
      "    return count\n",
      "\n",
      "parser = argparse.ArgumentParser(description='Count lines in file')\n",
      "parser.add_argument('input_filename', help='Input filename')\n",
      "args = parser.parse_args()\n",
      "\n",
      "try:\n",
      "    input_file = open(args.input_filename)\n",
      "except IOError as e:\n",
      "    print >>sys.stderr, \"Failed to open {}: {}\".format(\n",
      "            args.input_filename, sys.stderr)\n",
      "    sys.exit(1)\n",
      "else:\n",
      "    with input_file:\n",
      "        print args.input_filename, word_count(input_file)"
     ],
     "language": "python",
     "metadata": {},
     "outputs": [
      {
       "output_type": "stream",
       "stream": "stdout",
       "text": [
        "usage: - [-h] input_filename\n",
        "\n",
        "Count lines in file\n",
        "\n",
        "positional arguments:\n",
        "  input_filename  Input filename\n",
        "\n",
        "optional arguments:\n",
        "  -h, --help      show this help message and exit\n"
       ]
      }
     ],
     "prompt_number": 10
    },
    {
     "cell_type": "markdown",
     "metadata": {},
     "source": [
      "Argparse with optional arguments"
     ]
    },
    {
     "cell_type": "code",
     "collapsed": false,
     "input": [
      "%%script /usr/bin/env python - /etc/passwd\n",
      "\n",
      "import argparse\n",
      "import sys\n",
      "\n",
      "def word_count(input_file):\n",
      "    count = 0\n",
      "    for line in input_file:\n",
      "        count += 1\n",
      "    return count\n",
      "\n",
      "parser = argparse.ArgumentParser(description='Count lines in file')\n",
      "parser.add_argument('input_file', type=argparse.FileType(),\n",
      "                    help='Input filename')\n",
      "parser.add_argument('output_file', type=argparse.FileType('w'),\n",
      "                    nargs='?', default=sys.stdout,\n",
      "                    help='Output filename')\n",
      "args = parser.parse_args()\n",
      "\n",
      "with args.input_file:\n",
      "    print >>args.output_file, args.input_file.name, word_count(args.input_file)"
     ],
     "language": "python",
     "metadata": {},
     "outputs": [
      {
       "output_type": "stream",
       "stream": "stdout",
       "text": [
        "/etc/passwd 51\n"
       ]
      }
     ],
     "prompt_number": 17
    },
    {
     "cell_type": "code",
     "collapsed": false,
     "input": [
      "%%script /usr/bin/env python - --language german Chris\n",
      "\n",
      "import argparse\n",
      "\n",
      "parser = argparse.ArgumentParser(description='Greet someone')\n",
      "parser.add_argument('--language','-L', choices=('english','german'),\n",
      "                    default='english',\n",
      "                    help='Language to greet in')\n",
      "parser.add_argument('name', nargs='?', default='',\n",
      "                    help='Person to greet')\n",
      "args = parser.parse_args()\n",
      "\n",
      "if args.language == 'english':\n",
      "    greeting = \"Good day\"\n",
      "elif args.language == 'german':\n",
      "    greeting = \"Guten tag\"\n",
      "\n",
      "print ' '.join([greeting, args.name])\n"
     ],
     "language": "python",
     "metadata": {},
     "outputs": [
      {
       "output_type": "stream",
       "stream": "stdout",
       "text": [
        "Guten tag Chris\n"
       ]
      }
     ],
     "prompt_number": 24
    },
    {
     "cell_type": "code",
     "collapsed": false,
     "input": [],
     "language": "python",
     "metadata": {},
     "outputs": []
    }
   ],
   "metadata": {}
  }
 ]
}