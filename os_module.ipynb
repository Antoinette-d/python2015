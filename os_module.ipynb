{
 "metadata": {
  "name": "",
  "signature": "sha256:8599b596e3cf0faffe32a0f6c363da257e4175a8b2308335128fe467fdd096ef"
 },
 "nbformat": 3,
 "nbformat_minor": 0,
 "worksheets": [
  {
   "cells": [
    {
     "cell_type": "code",
     "collapsed": false,
     "input": [
      "import os"
     ],
     "language": "python",
     "metadata": {},
     "outputs": [],
     "prompt_number": 1
    },
    {
     "cell_type": "code",
     "collapsed": false,
     "input": [
      "print os.name "
     ],
     "language": "python",
     "metadata": {},
     "outputs": [
      {
       "output_type": "stream",
       "stream": "stdout",
       "text": [
        "posix\n"
       ]
      }
     ],
     "prompt_number": 2
    },
    {
     "cell_type": "code",
     "collapsed": false,
     "input": [
      "type(os.name)"
     ],
     "language": "python",
     "metadata": {},
     "outputs": [
      {
       "metadata": {},
       "output_type": "pyout",
       "prompt_number": 3,
       "text": [
        "str"
       ]
      }
     ],
     "prompt_number": 3
    },
    {
     "cell_type": "code",
     "collapsed": false,
     "input": [
      "os.environ"
     ],
     "language": "python",
     "metadata": {},
     "outputs": [
      {
       "metadata": {},
       "output_type": "pyout",
       "prompt_number": 4,
       "text": [
        "{'MODULE_VERSION': '3.2.10', 'XDG_GREETER_DATA_DIR': '/var/lib/lightdm-data/pvh', 'GNOME_DESKTOP_SESSION_ID': 'this-is-deprecated', 'UPSTART_EVENTS': 'started starting', 'LESSOPEN': '| /usr/bin/lesspipe %s', 'QT_IM_MODULE': 'ibus', 'LOGNAME': 'pvh', 'USER': 'pvh', 'GNOME_KEYRING_CONTROL': '/run/user/1000/keyring-XaaeKG', 'XDG_VTNR': '7', 'PATH': '/home/pvh/anaconda/bin:/home/pvh/bin:/usr/local/sbin:/usr/local/bin:/usr/sbin:/usr/bin:/sbin:/bin:/usr/games:/usr/local/games:/home/pvh/Documents/eclipse_cl/bin/x86_64_linux:/home/pvh/Documents/pycharm-community-3.1.1/bin:/usr/local/cuda-6.0/bin:/home/pvh/.rvm/bin:/home/pvh/.rvm/bin', 'VIRTUALENVWRAPPER_SCRIPT': '/usr/share/virtualenvwrapper/virtualenvwrapper.sh', 'LD_LIBRARY_PATH': ':/usr/local/cuda-6.0/lib64', 'LANG': 'en_ZA.UTF-8', 'TERM': 'xterm-color', 'SHELL': '/bin/bash', 'XDG_SESSION_PATH': '/org/freedesktop/DisplayManager/Session0', 'XAUTHORITY': '/home/pvh/.Xauthority', 'LANGUAGE': 'en_ZA:en', 'DEFAULTS_PATH': '/usr/share/gconf/ubuntu.default.path', 'SHLVL': '1', 'QT_QPA_PLATFORMTHEME': 'appmenu-qt5', 'JOB': 'gnome-session', 'DISPLAY': ':0', 'UPSTART_INSTANCE': '', 'COMPIZ_CONFIG_PROFILE': 'ubuntu', 'WINDOWID': '62914572', 'SESSIONTYPE': 'gnome-session', 'IM_CONFIG_PHASE': '1', '_VIRTUALENVWRAPPER_API': ' mkvirtualenv rmvirtualenv lsvirtualenv showvirtualenv workon add2virtualenv cdsitepackages cdvirtualenv lssitepackages toggleglobalsitepackages cpvirtualenv setvirtualenvproject mkproject cdproject mktmpenv', 'GPG_AGENT_INFO': '/run/user/1000/keyring-XaaeKG/gpg:0:1', 'HOME': '/home/pvh', 'MODULESHOME': '/usr/share/modules', 'CLUTTER_IM_MODULE': 'xim', 'SELINUX_INIT': 'YES', 'SSH_AUTH_SOCK': '/run/user/1000/keyring-XaaeKG/ssh', 'MODULE_VERSION_STACK': '3.2.10', 'XDG_RUNTIME_DIR': '/run/user/1000', 'GIT_PAGER': 'cat', 'CUDA_HOME': '/usr/local/cuda-6.0', 'COMP_WORDBREAKS': ' \\t\\n\"\\'><;|&(:', 'GTK_MODULES': 'overlay-scrollbar:unity-gtk-module', 'VTE_VERSION': '3409', 'GDMSESSION': 'ubuntu', 'XMODIFIERS': '@im=ibus', 'UPSTART_JOB': 'unity-settings-daemon', 'TEXTDOMAINDIR': '/usr/share/locale/', 'QT4_IM_MODULE': 'ibus', 'XDG_DATA_DIRS': '/usr/share/ubuntu:/usr/share/gnome:/usr/local/share/:/usr/share/', 'XDG_SEAT_PATH': '/org/freedesktop/DisplayManager/Seat0', 'XDG_CONFIG_DIRS': '/etc/xdg/xdg-ubuntu:/usr/share/upstart/xdg:/etc/xdg', 'XDG_CURRENT_DESKTOP': 'Unity', 'XDG_SESSION_ID': 'c4', 'DBUS_SESSION_BUS_ADDRESS': 'unix:abstract=/tmp/dbus-sVOO7ljfR1', '_': '/home/pvh/anaconda/bin/ipython', 'MODULEPATH': '/etc/environment-modules/modules:/usr/share/modules/versions:/usr/Modules/$MODULE_VERSION/modulefiles:/usr/share/modules/modulefiles', 'GTK_IM_MODULE': 'ibus', 'DESKTOP_SESSION': 'ubuntu', 'UPSTART_SESSION': 'unix:abstract=/com/ubuntu/upstart-session/1000/3755', 'LESSCLOSE': '/usr/bin/lesspipe %s %s', 'GNOME_KEYRING_PID': '3753', 'OLDPWD': '/home/pvh', 'LOADEDMODULES': '', 'GDM_LANG': 'en_US', 'NODE_PATH': '/usr/lib/nodejs:/usr/lib/node_modules:/usr/share/javascript', 'MANDATORY_PATH': '/usr/share/gconf/ubuntu.mandatory.path', 'INSTANCE': 'Unity', 'PWD': '/home/pvh/Documents/python', 'COLORTERM': 'gnome-terminal', 'TEXTDOMAIN': 'im-config', 'CLICOLOR': '1', 'LS_COLORS': 'rs=0:di=01;34:ln=01;36:mh=00:pi=40;33:so=01;35:do=01;35:bd=40;33;01:cd=40;33;01:or=40;31;01:su=37;41:sg=30;43:ca=30;41:tw=30;42:ow=34;42:st=37;44:ex=01;32:*.tar=01;31:*.tgz=01;31:*.arj=01;31:*.taz=01;31:*.lzh=01;31:*.lzma=01;31:*.tlz=01;31:*.txz=01;31:*.zip=01;31:*.z=01;31:*.Z=01;31:*.dz=01;31:*.gz=01;31:*.lz=01;31:*.xz=01;31:*.bz2=01;31:*.bz=01;31:*.tbz=01;31:*.tbz2=01;31:*.tz=01;31:*.deb=01;31:*.rpm=01;31:*.jar=01;31:*.war=01;31:*.ear=01;31:*.sar=01;31:*.rar=01;31:*.ace=01;31:*.zoo=01;31:*.cpio=01;31:*.7z=01;31:*.rz=01;31:*.jpg=01;35:*.jpeg=01;35:*.gif=01;35:*.bmp=01;35:*.pbm=01;35:*.pgm=01;35:*.ppm=01;35:*.tga=01;35:*.xbm=01;35:*.xpm=01;35:*.tif=01;35:*.tiff=01;35:*.png=01;35:*.svg=01;35:*.svgz=01;35:*.mng=01;35:*.pcx=01;35:*.mov=01;35:*.mpg=01;35:*.mpeg=01;35:*.m2v=01;35:*.mkv=01;35:*.webm=01;35:*.ogm=01;35:*.mp4=01;35:*.m4v=01;35:*.mp4v=01;35:*.vob=01;35:*.qt=01;35:*.nuv=01;35:*.wmv=01;35:*.asf=01;35:*.rm=01;35:*.rmvb=01;35:*.flc=01;35:*.avi=01;35:*.fli=01;35:*.flv=01;35:*.gl=01;35:*.dl=01;35:*.xcf=01;35:*.xwd=01;35:*.yuv=01;35:*.cgm=01;35:*.emf=01;35:*.axv=01;35:*.anx=01;35:*.ogv=01;35:*.ogx=01;35:*.aac=00;36:*.au=00;36:*.flac=00;36:*.mid=00;36:*.midi=00;36:*.mka=00;36:*.mp3=00;36:*.mpc=00;36:*.ogg=00;36:*.ra=00;36:*.wav=00;36:*.axa=00;36:*.oga=00;36:*.spx=00;36:*.xspf=00;36:', 'PAGER': 'cat', 'XDG_SEAT': 'seat0'}"
       ]
      }
     ],
     "prompt_number": 4
    },
    {
     "cell_type": "code",
     "collapsed": false,
     "input": [
      "print os.environ['PATH']"
     ],
     "language": "python",
     "metadata": {},
     "outputs": [
      {
       "output_type": "stream",
       "stream": "stdout",
       "text": [
        "/home/pvh/anaconda/bin:/home/pvh/bin:/usr/local/sbin:/usr/local/bin:/usr/sbin:/usr/bin:/sbin:/bin:/usr/games:/usr/local/games:/home/pvh/Documents/eclipse_cl/bin/x86_64_linux:/home/pvh/Documents/pycharm-community-3.1.1/bin:/usr/local/cuda-6.0/bin:/home/pvh/.rvm/bin:/home/pvh/.rvm/bin\n"
       ]
      }
     ],
     "prompt_number": 5
    },
    {
     "cell_type": "code",
     "collapsed": false,
     "input": [
      "print os.environ['HOME']"
     ],
     "language": "python",
     "metadata": {},
     "outputs": [
      {
       "output_type": "stream",
       "stream": "stdout",
       "text": [
        "/home/pvh\n"
       ]
      }
     ],
     "prompt_number": 6
    },
    {
     "cell_type": "code",
     "collapsed": false,
     "input": [
      "print os.environ['LOGNAME']"
     ],
     "language": "python",
     "metadata": {},
     "outputs": [
      {
       "output_type": "stream",
       "stream": "stdout",
       "text": [
        "pvh\n"
       ]
      }
     ],
     "prompt_number": 7
    },
    {
     "cell_type": "code",
     "collapsed": false,
     "input": [
      "print os.getcwd()"
     ],
     "language": "python",
     "metadata": {},
     "outputs": [
      {
       "output_type": "stream",
       "stream": "stdout",
       "text": [
        "/home/pvh/Documents/python\n"
       ]
      }
     ],
     "prompt_number": 8
    },
    {
     "cell_type": "code",
     "collapsed": false,
     "input": [
      "os.chdir('..')"
     ],
     "language": "python",
     "metadata": {},
     "outputs": [],
     "prompt_number": 9
    },
    {
     "cell_type": "code",
     "collapsed": false,
     "input": [
      "print os.getcwd()"
     ],
     "language": "python",
     "metadata": {},
     "outputs": [
      {
       "output_type": "stream",
       "stream": "stdout",
       "text": [
        "/home/pvh/Documents\n"
       ]
      }
     ],
     "prompt_number": 10
    },
    {
     "cell_type": "code",
     "collapsed": false,
     "input": [
      "os.chdir('/home/pvh/Documents/python')"
     ],
     "language": "python",
     "metadata": {},
     "outputs": [],
     "prompt_number": 17
    },
    {
     "cell_type": "code",
     "collapsed": false,
     "input": [
      "os.listdir('.')"
     ],
     "language": "python",
     "metadata": {},
     "outputs": [
      {
       "metadata": {},
       "output_type": "pyout",
       "prompt_number": 18,
       "text": [
        "['README.md',\n",
        " 'Untitled1.ipynb',\n",
        " 'SimpleExercises.ipynb',\n",
        " 'filtered_tb.gff',\n",
        " 'Week1Exercises.ipynb',\n",
        " 'PythonDictionaries.ipynb',\n",
        " 'Loops.ipynb',\n",
        " 'myfile4.txt',\n",
        " '.ipynb_checkpoints',\n",
        " 'Functions.ipynb',\n",
        " 'myfile2.txt',\n",
        " 'NC_002549.faa',\n",
        " 'myfile3.txt',\n",
        " 'python.fasta',\n",
        " 'bin',\n",
        " 'tb.gff',\n",
        " 'Untitled0.ipynb',\n",
        " 'lib',\n",
        " '.git',\n",
        " 'Dictionaries.ipynb',\n",
        " 'Untitled2.ipynb',\n",
        " 'Split, join, startswith, endswith.ipynb',\n",
        " 'myfile.txt',\n",
        " 'os module temp.ipynb',\n",
        " 'os_module.ipynb',\n",
        " 'Untitled6.ipynb',\n",
        " 'NC_021054.gff',\n",
        " 'LICENSE',\n",
        " 'Conditionals.ipynb',\n",
        " 'String Formatting.ipynb',\n",
        " 'HelloWorld.ipynb',\n",
        " 'Files.ipynb',\n",
        " 'Sets.ipynb',\n",
        " 'Compute.ipynb',\n",
        " 'Writing files.ipynb',\n",
        " 'Lists.ipynb',\n",
        " 'NC_002549.gff',\n",
        " 'Untitled4.ipynb',\n",
        " 'Untitled5.ipynb',\n",
        " 'Untitled3.ipynb']"
       ]
      }
     ],
     "prompt_number": 18
    },
    {
     "cell_type": "code",
     "collapsed": false,
     "input": [
      "os.mkdir('somedir')"
     ],
     "language": "python",
     "metadata": {},
     "outputs": [],
     "prompt_number": 19
    },
    {
     "cell_type": "code",
     "collapsed": false,
     "input": [
      "sorted(os.listdir('.'))"
     ],
     "language": "python",
     "metadata": {},
     "outputs": [
      {
       "metadata": {},
       "output_type": "pyout",
       "prompt_number": 21,
       "text": [
        "['.git',\n",
        " '.ipynb_checkpoints',\n",
        " 'Compute.ipynb',\n",
        " 'Conditionals.ipynb',\n",
        " 'Dictionaries.ipynb',\n",
        " 'Files.ipynb',\n",
        " 'Functions.ipynb',\n",
        " 'HelloWorld.ipynb',\n",
        " 'LICENSE',\n",
        " 'Lists.ipynb',\n",
        " 'Loops.ipynb',\n",
        " 'NC_002549.faa',\n",
        " 'NC_002549.gff',\n",
        " 'NC_021054.gff',\n",
        " 'PythonDictionaries.ipynb',\n",
        " 'README.md',\n",
        " 'Sets.ipynb',\n",
        " 'SimpleExercises.ipynb',\n",
        " 'Split, join, startswith, endswith.ipynb',\n",
        " 'String Formatting.ipynb',\n",
        " 'Untitled0.ipynb',\n",
        " 'Untitled1.ipynb',\n",
        " 'Untitled2.ipynb',\n",
        " 'Untitled3.ipynb',\n",
        " 'Untitled4.ipynb',\n",
        " 'Untitled5.ipynb',\n",
        " 'Untitled6.ipynb',\n",
        " 'Week1Exercises.ipynb',\n",
        " 'Writing files.ipynb',\n",
        " 'bin',\n",
        " 'filtered_tb.gff',\n",
        " 'lib',\n",
        " 'myfile.txt',\n",
        " 'myfile2.txt',\n",
        " 'myfile3.txt',\n",
        " 'myfile4.txt',\n",
        " 'os module temp.ipynb',\n",
        " 'os_module.ipynb',\n",
        " 'python.fasta',\n",
        " 'somedir',\n",
        " 'tb.gff']"
       ]
      }
     ],
     "prompt_number": 21
    },
    {
     "cell_type": "code",
     "collapsed": false,
     "input": [
      "os.rmdir('somedir')"
     ],
     "language": "python",
     "metadata": {},
     "outputs": [],
     "prompt_number": 22
    },
    {
     "cell_type": "code",
     "collapsed": false,
     "input": [
      "sorted(os.listdir('.'))"
     ],
     "language": "python",
     "metadata": {},
     "outputs": [
      {
       "metadata": {},
       "output_type": "pyout",
       "prompt_number": 23,
       "text": [
        "['.git',\n",
        " '.ipynb_checkpoints',\n",
        " 'Compute.ipynb',\n",
        " 'Conditionals.ipynb',\n",
        " 'Dictionaries.ipynb',\n",
        " 'Files.ipynb',\n",
        " 'Functions.ipynb',\n",
        " 'HelloWorld.ipynb',\n",
        " 'LICENSE',\n",
        " 'Lists.ipynb',\n",
        " 'Loops.ipynb',\n",
        " 'NC_002549.faa',\n",
        " 'NC_002549.gff',\n",
        " 'NC_021054.gff',\n",
        " 'PythonDictionaries.ipynb',\n",
        " 'README.md',\n",
        " 'Sets.ipynb',\n",
        " 'SimpleExercises.ipynb',\n",
        " 'Split, join, startswith, endswith.ipynb',\n",
        " 'String Formatting.ipynb',\n",
        " 'Untitled0.ipynb',\n",
        " 'Untitled1.ipynb',\n",
        " 'Untitled2.ipynb',\n",
        " 'Untitled3.ipynb',\n",
        " 'Untitled4.ipynb',\n",
        " 'Untitled5.ipynb',\n",
        " 'Untitled6.ipynb',\n",
        " 'Week1Exercises.ipynb',\n",
        " 'Writing files.ipynb',\n",
        " 'bin',\n",
        " 'filtered_tb.gff',\n",
        " 'lib',\n",
        " 'myfile.txt',\n",
        " 'myfile2.txt',\n",
        " 'myfile3.txt',\n",
        " 'myfile4.txt',\n",
        " 'os module temp.ipynb',\n",
        " 'os_module.ipynb',\n",
        " 'python.fasta',\n",
        " 'tb.gff']"
       ]
      }
     ],
     "prompt_number": 23
    },
    {
     "cell_type": "code",
     "collapsed": false,
     "input": [
      "os.makedirs('somedir/otherdir')"
     ],
     "language": "python",
     "metadata": {},
     "outputs": [],
     "prompt_number": 26
    },
    {
     "cell_type": "code",
     "collapsed": false,
     "input": [
      "os.removedirs('somedir/otherdir')"
     ],
     "language": "python",
     "metadata": {},
     "outputs": [],
     "prompt_number": 28
    },
    {
     "cell_type": "code",
     "collapsed": false,
     "input": [
      "os.removedirs('somedir')"
     ],
     "language": "python",
     "metadata": {},
     "outputs": [
      {
       "ename": "OSError",
       "evalue": "[Errno 39] Directory not empty: 'somedir'",
       "output_type": "pyerr",
       "traceback": [
        "\u001b[1;31m---------------------------------------------------------------------------\u001b[0m\n\u001b[1;31mOSError\u001b[0m                                   Traceback (most recent call last)",
        "\u001b[1;32m<ipython-input-27-8ac43d6da6cc>\u001b[0m in \u001b[0;36m<module>\u001b[1;34m()\u001b[0m\n\u001b[1;32m----> 1\u001b[1;33m \u001b[0mos\u001b[0m\u001b[1;33m.\u001b[0m\u001b[0mremovedirs\u001b[0m\u001b[1;33m(\u001b[0m\u001b[1;34m'somedir'\u001b[0m\u001b[1;33m)\u001b[0m\u001b[1;33m\u001b[0m\u001b[0m\n\u001b[0m",
        "\u001b[1;32m/home/pvh/anaconda/lib/python2.7/os.pyc\u001b[0m in \u001b[0;36mremovedirs\u001b[1;34m(name)\u001b[0m\n\u001b[0;32m    168\u001b[0m \u001b[1;33m\u001b[0m\u001b[0m\n\u001b[0;32m    169\u001b[0m     \"\"\"\n\u001b[1;32m--> 170\u001b[1;33m     \u001b[0mrmdir\u001b[0m\u001b[1;33m(\u001b[0m\u001b[0mname\u001b[0m\u001b[1;33m)\u001b[0m\u001b[1;33m\u001b[0m\u001b[0m\n\u001b[0m\u001b[0;32m    171\u001b[0m     \u001b[0mhead\u001b[0m\u001b[1;33m,\u001b[0m \u001b[0mtail\u001b[0m \u001b[1;33m=\u001b[0m \u001b[0mpath\u001b[0m\u001b[1;33m.\u001b[0m\u001b[0msplit\u001b[0m\u001b[1;33m(\u001b[0m\u001b[0mname\u001b[0m\u001b[1;33m)\u001b[0m\u001b[1;33m\u001b[0m\u001b[0m\n\u001b[0;32m    172\u001b[0m     \u001b[1;32mif\u001b[0m \u001b[1;32mnot\u001b[0m \u001b[0mtail\u001b[0m\u001b[1;33m:\u001b[0m\u001b[1;33m\u001b[0m\u001b[0m\n",
        "\u001b[1;31mOSError\u001b[0m: [Errno 39] Directory not empty: 'somedir'"
       ]
      }
     ],
     "prompt_number": 27
    },
    {
     "cell_type": "code",
     "collapsed": false,
     "input": [
      "output_file = open('myjunk.txt', 'w')\n",
      "output_file.close()"
     ],
     "language": "python",
     "metadata": {},
     "outputs": [],
     "prompt_number": 29
    },
    {
     "cell_type": "code",
     "collapsed": false,
     "input": [
      "os.remove('myjunk.txt')"
     ],
     "language": "python",
     "metadata": {},
     "outputs": [],
     "prompt_number": 30
    },
    {
     "cell_type": "code",
     "collapsed": false,
     "input": [
      "sorted(os.listdir('.'))"
     ],
     "language": "python",
     "metadata": {},
     "outputs": [
      {
       "metadata": {},
       "output_type": "pyout",
       "prompt_number": 32,
       "text": [
        "['.git',\n",
        " '.ipynb_checkpoints',\n",
        " 'Compute.ipynb',\n",
        " 'Conditionals.ipynb',\n",
        " 'Dictionaries.ipynb',\n",
        " 'Files.ipynb',\n",
        " 'Functions.ipynb',\n",
        " 'HelloWorld.ipynb',\n",
        " 'LICENSE',\n",
        " 'Lists.ipynb',\n",
        " 'Loops.ipynb',\n",
        " 'NC_002549.faa',\n",
        " 'NC_002549.gff',\n",
        " 'NC_021054.gff',\n",
        " 'PythonDictionaries.ipynb',\n",
        " 'README.md',\n",
        " 'Sets.ipynb',\n",
        " 'SimpleExercises.ipynb',\n",
        " 'Split, join, startswith, endswith.ipynb',\n",
        " 'String Formatting.ipynb',\n",
        " 'Untitled0.ipynb',\n",
        " 'Untitled1.ipynb',\n",
        " 'Untitled2.ipynb',\n",
        " 'Untitled3.ipynb',\n",
        " 'Untitled4.ipynb',\n",
        " 'Untitled5.ipynb',\n",
        " 'Untitled6.ipynb',\n",
        " 'Week1Exercises.ipynb',\n",
        " 'Writing files.ipynb',\n",
        " 'bin',\n",
        " 'filtered_tb.gff',\n",
        " 'lib',\n",
        " 'myfile.txt',\n",
        " 'myfile2.txt',\n",
        " 'myfile3.txt',\n",
        " 'myfile4.txt',\n",
        " 'os module temp.ipynb',\n",
        " 'os_module.ipynb',\n",
        " 'python.fasta',\n",
        " 'tb.gff']"
       ]
      }
     ],
     "prompt_number": 32
    },
    {
     "cell_type": "code",
     "collapsed": false,
     "input": [
      "input_file = open('pthon.fasta')"
     ],
     "language": "python",
     "metadata": {},
     "outputs": [
      {
       "ename": "IOError",
       "evalue": "[Errno 2] No such file or directory: 'pthon.fasta'",
       "output_type": "pyerr",
       "traceback": [
        "\u001b[1;31m---------------------------------------------------------------------------\u001b[0m\n\u001b[1;31mIOError\u001b[0m                                   Traceback (most recent call last)",
        "\u001b[1;32m<ipython-input-33-3eb522b79042>\u001b[0m in \u001b[0;36m<module>\u001b[1;34m()\u001b[0m\n\u001b[1;32m----> 1\u001b[1;33m \u001b[0minput_file\u001b[0m \u001b[1;33m=\u001b[0m \u001b[0mopen\u001b[0m\u001b[1;33m(\u001b[0m\u001b[1;34m'pthon.fasta'\u001b[0m\u001b[1;33m)\u001b[0m\u001b[1;33m\u001b[0m\u001b[0m\n\u001b[0m",
        "\u001b[1;31mIOError\u001b[0m: [Errno 2] No such file or directory: 'pthon.fasta'"
       ]
      }
     ],
     "prompt_number": 33
    },
    {
     "cell_type": "code",
     "collapsed": false,
     "input": [
      "import sys\n",
      "filename = 'python.fasta'\n",
      "try:\n",
      "    input_file = open(filename)\n",
      "    result = 5 / 0\n",
      "except IOError:\n",
      "    print >>sys.stderr, \"I can't open\", filename\n",
      "print \"Now the program continues\""
     ],
     "language": "python",
     "metadata": {},
     "outputs": [
      {
       "ename": "ZeroDivisionError",
       "evalue": "integer division or modulo by zero",
       "output_type": "pyerr",
       "traceback": [
        "\u001b[1;31m---------------------------------------------------------------------------\u001b[0m\n\u001b[1;31mZeroDivisionError\u001b[0m                         Traceback (most recent call last)",
        "\u001b[1;32m<ipython-input-44-c6162b6a1a13>\u001b[0m in \u001b[0;36m<module>\u001b[1;34m()\u001b[0m\n\u001b[0;32m      3\u001b[0m \u001b[1;32mtry\u001b[0m\u001b[1;33m:\u001b[0m\u001b[1;33m\u001b[0m\u001b[0m\n\u001b[0;32m      4\u001b[0m     \u001b[0minput_file\u001b[0m \u001b[1;33m=\u001b[0m \u001b[0mopen\u001b[0m\u001b[1;33m(\u001b[0m\u001b[0mfilename\u001b[0m\u001b[1;33m)\u001b[0m\u001b[1;33m\u001b[0m\u001b[0m\n\u001b[1;32m----> 5\u001b[1;33m     \u001b[0mresult\u001b[0m \u001b[1;33m=\u001b[0m \u001b[1;36m5\u001b[0m \u001b[1;33m/\u001b[0m \u001b[1;36m0\u001b[0m\u001b[1;33m\u001b[0m\u001b[0m\n\u001b[0m\u001b[0;32m      6\u001b[0m \u001b[1;32mexcept\u001b[0m \u001b[0mIOError\u001b[0m\u001b[1;33m:\u001b[0m\u001b[1;33m\u001b[0m\u001b[0m\n\u001b[0;32m      7\u001b[0m     \u001b[1;32mprint\u001b[0m \u001b[1;33m>>\u001b[0m\u001b[0msys\u001b[0m\u001b[1;33m.\u001b[0m\u001b[0mstderr\u001b[0m\u001b[1;33m,\u001b[0m \u001b[1;34m\"I can't open\"\u001b[0m\u001b[1;33m,\u001b[0m \u001b[0mfilename\u001b[0m\u001b[1;33m\u001b[0m\u001b[0m\n",
        "\u001b[1;31mZeroDivisionError\u001b[0m: integer division or modulo by zero"
       ]
      }
     ],
     "prompt_number": 44
    },
    {
     "cell_type": "code",
     "collapsed": false,
     "input": [
      "import sys\n",
      "filename = 'pthon.fasta'\n",
      "try:\n",
      "    input_file = open(filename)\n",
      "    result = 5 / 0\n",
      "except IOError:\n",
      "    print >>sys.stderr, \"I can't open\", filename\n",
      "except ZeroDivisionError:\n",
      "    print >>sys.stderr, \"You can't divide by zero\"\n",
      "print \"Now the program continues\""
     ],
     "language": "python",
     "metadata": {},
     "outputs": [
      {
       "output_type": "stream",
       "stream": "stdout",
       "text": [
        "Now the program continues\n"
       ]
      },
      {
       "output_type": "stream",
       "stream": "stderr",
       "text": [
        "I can't open pthon.fasta\n"
       ]
      }
     ],
     "prompt_number": 46
    },
    {
     "cell_type": "code",
     "collapsed": false,
     "input": [
      "import sys\n",
      "\n",
      "try:\n",
      "    for filename in os.listdir('.'):\n",
      "        input_file = open(filename)\n",
      "        print \"open worked fine for\", filename\n",
      "except IOError:\n",
      "    print >>sys.stderr, \"Failed to open:\", filename"
     ],
     "language": "python",
     "metadata": {},
     "outputs": [
      {
       "output_type": "stream",
       "stream": "stdout",
       "text": [
        "open worked fine for README.md\n",
        "open worked fine for Untitled1.ipynb\n",
        "open worked fine for SimpleExercises.ipynb\n",
        "open worked fine for filtered_tb.gff\n",
        "open worked fine for Week1Exercises.ipynb\n",
        "open worked fine for PythonDictionaries.ipynb\n",
        "open worked fine for Loops.ipynb\n",
        "open worked fine for myfile4.txt\n"
       ]
      },
      {
       "output_type": "stream",
       "stream": "stderr",
       "text": [
        "Failed to open: .ipynb_checkpoints\n"
       ]
      }
     ],
     "prompt_number": 48
    },
    {
     "cell_type": "code",
     "collapsed": false,
     "input": [
      "import sys\n",
      "\n",
      "for filename in os.listdir('.'):\n",
      "    try:\n",
      "        input_file = open(filename)\n",
      "        print \"open worked fine for\", filename\n",
      "    except IOError:\n",
      "        print >>sys.stderr, \"Failed to open:\", filename"
     ],
     "language": "python",
     "metadata": {},
     "outputs": [
      {
       "output_type": "stream",
       "stream": "stdout",
       "text": [
        "open worked fine for README.md\n",
        "open worked fine for Untitled1.ipynb\n",
        "open worked fine for SimpleExercises.ipynb\n",
        "open worked fine for filtered_tb.gff\n",
        "open worked fine for Week1Exercises.ipynb\n",
        "open worked fine for PythonDictionaries.ipynb\n",
        "open worked fine for Loops.ipynb\n",
        "open worked fine for myfile4.txt\n",
        "open worked fine for Functions.ipynb\n",
        "open worked fine for myfile2.txt\n",
        "open worked fine for NC_002549.faa\n",
        "open worked fine for myfile3.txt\n",
        "open worked fine for python.fasta\n",
        "open worked fine for tb.gff\n",
        "open worked fine for Untitled0.ipynb\n",
        "open worked fine for Dictionaries.ipynb\n",
        "open worked fine for Untitled2.ipynb\n",
        "open worked fine for Split, join, startswith, endswith.ipynb\n",
        "open worked fine for myfile.txt\n",
        "open worked fine for os module temp.ipynb\n",
        "open worked fine for os_module.ipynb\n",
        "open worked fine for Untitled6.ipynb\n",
        "open worked fine for NC_021054.gff\n",
        "open worked fine for LICENSE\n",
        "open worked fine for Conditionals.ipynb\n",
        "open worked fine for String Formatting.ipynb\n",
        "open worked fine for HelloWorld.ipynb\n",
        "open worked fine for Files.ipynb\n",
        "open worked fine for Sets.ipynb\n",
        "open worked fine for Compute.ipynb\n",
        "open worked fine for Writing files.ipynb\n",
        "open worked fine for Lists.ipynb\n",
        "open worked fine for NC_002549.gff\n",
        "open worked fine for Untitled4.ipynb\n",
        "open worked fine for Untitled5.ipynb\n",
        "open worked fine for Untitled3.ipynb\n"
       ]
      },
      {
       "output_type": "stream",
       "stream": "stderr",
       "text": [
        "Failed to open: .ipynb_checkpoints\n",
        "Failed to open: bin\n",
        "Failed to open: lib\n",
        "Failed to open: .git\n"
       ]
      }
     ],
     "prompt_number": 50
    },
    {
     "cell_type": "code",
     "collapsed": false,
     "input": [
      "import sys\n",
      "\n",
      "for filename in os.listdir('.'):\n",
      "    try:\n",
      "        input_file = open(filename)\n",
      "        #print \"open worked fine for\", filename\n",
      "    except IOError as error:\n",
      "        print >>sys.stderr, \"Failed to open {}: {}\".format(filename, error.strerror)\n",
      "        print >>sys.stderr, \"Error number:\", error.errno\n",
      "        print >>sys.stderr, \"Error message:\", error.strerror"
     ],
     "language": "python",
     "metadata": {},
     "outputs": [
      {
       "output_type": "stream",
       "stream": "stderr",
       "text": [
        "Failed to open .ipynb_checkpoints: Is a directory\n",
        "Error number: 21\n",
        "Error message: Is a directory\n",
        "Failed to open bin: Is a directory\n",
        "Error number: 21\n",
        "Error message: Is a directory\n",
        "Failed to open tb.gff: Permission denied\n",
        "Error number: 13\n",
        "Error message: Permission denied\n",
        "Failed to open lib: Is a directory\n",
        "Error number: 21\n",
        "Error message: Is a directory\n",
        "Failed to open .git: Is a directory\n",
        "Error number: 21\n",
        "Error message: Is a directory\n"
       ]
      }
     ],
     "prompt_number": 57
    },
    {
     "cell_type": "code",
     "collapsed": false,
     "input": [
      "import sys\n",
      "\n",
      "filename = 'python.fasta'\n",
      "try:\n",
      "    input_file = open(filename)\n",
      "except IOError as e:\n",
      "    print >>sys.stderr, \"Failed to open {}: {}\".format(filename, e.strerror)\n",
      "else:\n",
      "    count = 0\n",
      "    for line in input_file:\n",
      "        count += 1\n",
      "    print \"{} lines in {}\".format(count, filename)"
     ],
     "language": "python",
     "metadata": {},
     "outputs": [
      {
       "output_type": "stream",
       "stream": "stdout",
       "text": [
        "1103 lines in python.fasta\n"
       ]
      }
     ],
     "prompt_number": 58
    },
    {
     "cell_type": "code",
     "collapsed": false,
     "input": [
      "import sys\n",
      "\n",
      "def count_lines(input_file):\n",
      "    count = 0\n",
      "    for line in filename:\n",
      "        count += 1\n",
      "    return count\n",
      "\n",
      "for filename in sorted(os.listdir('.')):\n",
      "    try:\n",
      "        input_file = open(filename)\n",
      "    except IOError as e:\n",
      "        print >>sys.stderr, \"Failed to open file {}: {}\".format(filename, e.strerror)\n",
      "    else:\n",
      "        line_count = count_lines(input_file)\n",
      "        print filename, line_count\n"
     ],
     "language": "python",
     "metadata": {},
     "outputs": [
      {
       "output_type": "stream",
       "stream": "stdout",
       "text": [
        "Compute.ipynb 13\n",
        "Conditionals.ipynb 18\n",
        "Dictionaries.ipynb 18\n",
        "Files.ipynb 11\n",
        "Functions.ipynb 15\n",
        "HelloWorld.ipynb 16\n",
        "LICENSE 7\n",
        "Lists.ipynb 11\n",
        "Loops.ipynb 11\n",
        "NC_002549.faa 13\n",
        "NC_002549.gff 13\n",
        "NC_021054.gff 13\n",
        "PythonDictionaries.ipynb 24\n",
        "README.md 9\n",
        "Sets.ipynb 10\n",
        "SimpleExercises.ipynb 21\n",
        "Split, join, startswith, endswith.ipynb 39\n",
        "String Formatting.ipynb 23\n",
        "Untitled0.ipynb 15\n",
        "Untitled1.ipynb 15\n",
        "Untitled2.ipynb 15\n",
        "Untitled3.ipynb 15\n",
        "Untitled4.ipynb 15\n",
        "Untitled5.ipynb 15\n",
        "Untitled6.ipynb 15\n",
        "Week1Exercises.ipynb 20\n",
        "Writing files.ipynb 19\n",
        "filtered_tb.gff 15\n",
        "myfile.txt 10\n",
        "myfile2.txt 11\n",
        "myfile3.txt 11\n",
        "myfile4.txt 11\n",
        "os module temp.ipynb 20\n",
        "os_module.ipynb 15\n",
        "python.fasta 12\n"
       ]
      },
      {
       "output_type": "stream",
       "stream": "stderr",
       "text": [
        "Failed to open file .git: Is a directory\n",
        "Failed to open file .ipynb_checkpoints: Is a directory\n",
        "Failed to open file bin: Is a directory\n",
        "Failed to open file lib: Is a directory\n",
        "Failed to open file tb.gff: Permission denied\n"
       ]
      }
     ],
     "prompt_number": 60
    },
    {
     "cell_type": "code",
     "collapsed": false,
     "input": [
      "filename = 'myjunk.txt'\n",
      "with open(filename, 'w') as output_file:\n",
      "    output_file.write('Happy Monday!\\n')\n",
      "    print \"output file:\", output_file\n",
      "print \"and now:\", output_file"
     ],
     "language": "python",
     "metadata": {},
     "outputs": [
      {
       "output_type": "stream",
       "stream": "stdout",
       "text": [
        "output file: <open file 'myjunk.txt', mode 'w' at 0x7f829edbb420>\n",
        "and now: <closed file 'myjunk.txt', mode 'w' at 0x7f829edbb420>\n"
       ]
      }
     ],
     "prompt_number": 63
    },
    {
     "cell_type": "code",
     "collapsed": false,
     "input": [
      "filename = 'myjunk.txt'\n",
      "output_file = open(filename, 'w')\n",
      "with output_file:\n",
      "    output_file.write('Happy Monday!\\n')\n",
      "    print \"now:\", output_file\n",
      "print \"and now:\", output_file"
     ],
     "language": "python",
     "metadata": {},
     "outputs": [
      {
       "output_type": "stream",
       "stream": "stdout",
       "text": [
        "now: <open file 'myjunk.txt', mode 'w' at 0x7f829edbb390>\n",
        "and now: <closed file 'myjunk.txt', mode 'w' at 0x7f829edbb390>\n"
       ]
      }
     ],
     "prompt_number": 62
    },
    {
     "cell_type": "code",
     "collapsed": false,
     "input": [
      "import os.path\n",
      "\n",
      "filename = '/home/pvh/Documents/python/myjunk.txt'\n",
      "print os.path.basename(filename)\n",
      "print os.path.dirname(filename)\n",
      "print os.path.split(filename)"
     ],
     "language": "python",
     "metadata": {},
     "outputs": [
      {
       "output_type": "stream",
       "stream": "stdout",
       "text": [
        "myjunk.txt\n",
        "/home/pvh/Documents/python\n",
        "('/home/pvh/Documents/python', 'myjunk.txt')\n"
       ]
      }
     ],
     "prompt_number": 64
    },
    {
     "cell_type": "code",
     "collapsed": false,
     "input": [
      "filename = '~/Documents/python/myjunk.txt'\n",
      "print os.path.expanduser(filename)"
     ],
     "language": "python",
     "metadata": {},
     "outputs": [
      {
       "output_type": "stream",
       "stream": "stdout",
       "text": [
        "/home/pvh/Documents/python/myjunk.txt\n"
       ]
      }
     ],
     "prompt_number": 65
    },
    {
     "cell_type": "code",
     "collapsed": false,
     "input": [
      "import os.path\n",
      "\n",
      "bindir = os.path.expanduser('~/bin')\n",
      "print \"Listing:\", bindir\n",
      "os.chdir(bindir)\n",
      "for filename in sorted(os.listdir(bindir)):\n",
      "    if os.path.isfile(filename):\n",
      "        print filename, \"is a file\"\n",
      "    elif os.path.isdir(filename):\n",
      "        print filename, \"is a directory\""
     ],
     "language": "python",
     "metadata": {},
     "outputs": [
      {
       "output_type": "stream",
       "stream": "stdout",
       "text": [
        "Listing: /home/pvh/bin\n",
        "compute_it.py is a file\n",
        "compute_it_v1.py is a file\n",
        "count_seqs.py is a file\n",
        "et is a file\n",
        "etded is a file\n",
        "faToTwoBit is a file\n",
        "filter_gff.py is a file\n",
        "gnome_to_mpris.py is a file\n",
        "goodbye.py is a file\n",
        "gooddata.sh is a file\n",
        "greet.txt is a file\n",
        "hello.py is a file\n",
        "keep_eduroam_up.sh is a file\n",
        "miranda is a file\n",
        "output is a file\n",
        "stats.sh is a file\n",
        "sum.sh is a file\n",
        "wc-working.py is a file\n",
        "wc.py is a file\n",
        "wc.py~ is a file\n",
        "writer.py is a file\n",
        "x86_64 is a directory\n",
        "youtube-dl is a file\n"
       ]
      }
     ],
     "prompt_number": 71
    },
    {
     "cell_type": "code",
     "collapsed": false,
     "input": [
      "import os.path\n",
      "\n",
      "bindir = os.path.expanduser('~/bin')\n",
      "print \"Listing:\", bindir\n",
      "print \"Working directory:\", os.getcwd()\n",
      "for filename in sorted(os.listdir(bindir)):\n",
      "    full_path = os.path.join(bindir, filename)\n",
      "    print \"filename:\", filename, \"full path:\", full_path\n",
      "    if os.path.isfile(filename):\n",
      "        print filename, \"is a file\"\n",
      "    elif os.path.isdir(filename):\n",
      "        print filename, \"is a directory\""
     ],
     "language": "python",
     "metadata": {},
     "outputs": [
      {
       "output_type": "stream",
       "stream": "stdout",
       "text": [
        "Listing: /home/pvh/bin\n",
        "Working directory: /home/pvh/Documents/python\n",
        "filename: compute_it.py full path: /home/pvh/bin/compute_it.py\n",
        "filename: compute_it_v1.py full path: /home/pvh/bin/compute_it_v1.py\n",
        "filename: count_seqs.py full path: /home/pvh/bin/count_seqs.py\n",
        "filename: et full path: /home/pvh/bin/et\n",
        "filename: etded full path: /home/pvh/bin/etded\n",
        "filename: faToTwoBit full path: /home/pvh/bin/faToTwoBit\n",
        "filename: filter_gff.py full path: /home/pvh/bin/filter_gff.py\n",
        "filename: gnome_to_mpris.py full path: /home/pvh/bin/gnome_to_mpris.py\n",
        "filename: goodbye.py full path: /home/pvh/bin/goodbye.py\n",
        "filename: gooddata.sh full path: /home/pvh/bin/gooddata.sh\n",
        "filename: greet.txt full path: /home/pvh/bin/greet.txt\n",
        "filename: hello.py full path: /home/pvh/bin/hello.py\n",
        "filename: keep_eduroam_up.sh full path: /home/pvh/bin/keep_eduroam_up.sh\n",
        "filename: miranda full path: /home/pvh/bin/miranda\n",
        "filename: output full path: /home/pvh/bin/output\n",
        "filename: stats.sh full path: /home/pvh/bin/stats.sh\n",
        "filename: sum.sh full path: /home/pvh/bin/sum.sh\n",
        "filename: wc-working.py full path: /home/pvh/bin/wc-working.py\n",
        "filename: wc.py full path: /home/pvh/bin/wc.py\n",
        "filename: wc.py~ full path: /home/pvh/bin/wc.py~\n",
        "filename: writer.py full path: /home/pvh/bin/writer.py\n",
        "filename: x86_64 full path: /home/pvh/bin/x86_64\n",
        "filename: youtube-dl full path: /home/pvh/bin/youtube-dl\n"
       ]
      }
     ],
     "prompt_number": 79
    },
    {
     "cell_type": "code",
     "collapsed": false,
     "input": [],
     "language": "python",
     "metadata": {},
     "outputs": []
    }
   ],
   "metadata": {}
  }
 ]
}