{
 "metadata": {
  "name": "",
  "signature": "sha256:cd6ffe6b580eab150e6cba35ca244b4413d12a806988fc40173a677e46b3a0dc"
 },
 "nbformat": 3,
 "nbformat_minor": 0,
 "worksheets": [
  {
   "cells": [
    {
     "cell_type": "markdown",
     "metadata": {},
     "source": [
      "1) Here is a function that counts the number of sequences in a FASTA file:\n",
      "\n",
      "    def count_seqs(input_file):\n",
      "        count = 0\n",
      "        for line in input_file:\n",
      "            line = line.lstrip() # strip leading spaces, if any\n",
      "            if line.startswith('>'):\n",
      "                count += 1\n",
      "        return count\n",
      "\n",
      "Put this function in a file `seq_utils.py` so that it can be imported as a module. E.g.\n",
      "\n",
      "    import seq_utils\n",
      "    \n",
      "    filename = 'python.fasta'\n",
      "    input_file = open(filename)\n",
      "    seq_count = seq_utils.count_seqs(input_file)\n",
      "    print seq_count,\"in\",filename"
     ]
    },
    {
     "cell_type": "markdown",
     "metadata": {},
     "source": [
      "2) Download the collection of sequences `sequences.tar.bz2` from the SANBI FTP site using:\n",
      "\n",
      "    cd ~/Documents/python\n",
      "    wget -c ftp://ftp.sanbi.ac.za/sequences.tar.bz2\n",
      "    \n",
      "This is a compress **tar** file. Make a directory to store this data and unpack the file there:\n",
      "\n",
      "    mkdir data\n",
      "    cd data\n",
      "    tar xf ../sequences.tar.bz2\n"
     ]
    },
    {
     "cell_type": "markdown",
     "metadata": {},
     "source": [
      "3) Write a script `count_all_seqs.py` that takes a directory as an argument and then counts the number of the sequences for each file in a directory that ends in `.fasta`. So e.g.\n",
      "\n",
      "    count_all_seqs.py ~/Documents/python/data\n",
      "    seq1.fasta 83\n",
      "    seq2.fasta 83\n",
      "    seq3.fasta 83\n",
      "    seq4.fasta 83\n",
      "    seq5.fasta 83\n",
      "    seq6.fasta 85\n",
      "\n",
      "This script should use the `seq_utils` module created in problem 1."
     ]
    },
    {
     "cell_type": "code",
     "collapsed": false,
     "input": [],
     "language": "python",
     "metadata": {},
     "outputs": []
    }
   ],
   "metadata": {}
  }
 ]
}