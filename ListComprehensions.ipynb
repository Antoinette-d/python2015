{
 "metadata": {
  "name": "",
  "signature": "sha256:1261e6982c090c6749ca6c8658a437713322e0f337c061629160e5917f36207d"
 },
 "nbformat": 3,
 "nbformat_minor": 0,
 "worksheets": [
  {
   "cells": [
    {
     "cell_type": "markdown",
     "metadata": {},
     "source": [
      "Python list comprehensions are a way of generating a list by applying a function to all (or some) elements of a collection. They are documented in the [Python documentation](https://docs.python.org/2/tutorial/datastructures.html#list-comprehensions) as well as [this blog](http://www.secnetix.de/olli/Python/list_comprehensions.hawk) and as part of this [python course](http://www.python-course.eu/list_comprehension.php)."
     ]
    },
    {
     "cell_type": "code",
     "collapsed": false,
     "input": [
      "numbers = range(1,11)\n",
      "print \"1 to 10:\", numbers"
     ],
     "language": "python",
     "metadata": {},
     "outputs": [
      {
       "output_type": "stream",
       "stream": "stdout",
       "text": [
        "1 to 10: [1, 2, 3, 4, 5, 6, 7, 8, 9, 10]\n"
       ]
      }
     ],
     "prompt_number": 1
    },
    {
     "cell_type": "code",
     "collapsed": false,
     "input": [
      "def square(x):\n",
      "    return x*x\n",
      "\n",
      "squares = [square(num) for num in numbers]\n",
      "print squares"
     ],
     "language": "python",
     "metadata": {},
     "outputs": [
      {
       "output_type": "stream",
       "stream": "stdout",
       "text": [
        "[1, 4, 9, 16, 25, 36, 49, 64, 81, 100]\n"
       ]
      }
     ],
     "prompt_number": 2
    },
    {
     "cell_type": "code",
     "collapsed": false,
     "input": [
      "even_squares = [ num*num for num in numbers if (num % 2) == 0]\n",
      "print even_squares"
     ],
     "language": "python",
     "metadata": {},
     "outputs": [
      {
       "output_type": "stream",
       "stream": "stdout",
       "text": [
        "[4, 16, 36, 64, 100]\n"
       ]
      }
     ],
     "prompt_number": 3
    },
    {
     "cell_type": "code",
     "collapsed": false,
     "input": [
      "squares = [num*num for num in numbers]\n",
      "print squares"
     ],
     "language": "python",
     "metadata": {},
     "outputs": [
      {
       "output_type": "stream",
       "stream": "stdout",
       "text": [
        "[1, 4, 9, 16, 25, 36, 49, 64, 81, 100]\n"
       ]
      }
     ],
     "prompt_number": 4
    },
    {
     "cell_type": "code",
     "collapsed": false,
     "input": [
      "# invalid syntax\n",
      "[print num for num in numbers]"
     ],
     "language": "python",
     "metadata": {},
     "outputs": [
      {
       "ename": "SyntaxError",
       "evalue": "invalid syntax (<ipython-input-5-f58f43de3eb3>, line 2)",
       "output_type": "pyerr",
       "traceback": [
        "\u001b[1;36m  File \u001b[1;32m\"<ipython-input-5-f58f43de3eb3>\"\u001b[1;36m, line \u001b[1;32m2\u001b[0m\n\u001b[1;33m    [print num for num in numbers]\u001b[0m\n\u001b[1;37m         ^\u001b[0m\n\u001b[1;31mSyntaxError\u001b[0m\u001b[1;31m:\u001b[0m invalid syntax\n"
       ]
      }
     ],
     "prompt_number": 5
    },
    {
     "cell_type": "code",
     "collapsed": false,
     "input": [
      "import os\n",
      "import os.path\n",
      "\n",
      "list_of_files = [ filename for filename in os.listdir('bin/') \n",
      "                   if os.path.isfile(os.path.join('bin', filename))]\n",
      "print list_of_files\n",
      "file_objects = [ open(os.path.join('bin',filename)) \n",
      "                  for filename in list_of_files ]\n",
      "print file_objects"
     ],
     "language": "python",
     "metadata": {},
     "outputs": [
      {
       "output_type": "stream",
       "stream": "stdout",
       "text": [
        "['count_lines_argparse.py', 'compute_it_v1.py', 'compute_it.py', 'count_lines.py', 'split_fasta.py', 'makeblastdb.py']\n",
        "[<open file 'bin/count_lines_argparse.py', mode 'r' at 0x7f7c9dc704b0>, <open file 'bin/compute_it_v1.py', mode 'r' at 0x7f7c9dc705d0>, <open file 'bin/compute_it.py', mode 'r' at 0x7f7c9dc70540>, <open file 'bin/count_lines.py', mode 'r' at 0x7f7c9dc70660>, <open file 'bin/split_fasta.py', mode 'r' at 0x7f7c9dc706f0>, <open file 'bin/makeblastdb.py', mode 'r' at 0x7f7c9dc70780>]\n"
       ]
      }
     ],
     "prompt_number": 8
    },
    {
     "cell_type": "code",
     "collapsed": false,
     "input": [
      "numbers = range(1,10)\n",
      "sequence_generator = ( num**num for num in numbers)\n",
      "print list(sequence_generator)"
     ],
     "language": "python",
     "metadata": {},
     "outputs": [
      {
       "output_type": "stream",
       "stream": "stdout",
       "text": [
        "[1, 4, 27, 256, 3125, 46656, 823543, 16777216, 387420489]\n"
       ]
      }
     ],
     "prompt_number": 9
    },
    {
     "cell_type": "code",
     "collapsed": false,
     "input": [
      "sum_of_squares = sum([ num*num for num in numbers ])\n",
      "print \"sum of squares 1 to 10:\", sum_of_squares"
     ],
     "language": "python",
     "metadata": {},
     "outputs": [
      {
       "output_type": "stream",
       "stream": "stdout",
       "text": [
        "sum of squares 1 to 10: 285\n"
       ]
      }
     ],
     "prompt_number": 10
    },
    {
     "cell_type": "code",
     "collapsed": false,
     "input": [
      "def next_even_number():\n",
      "    number = 0\n",
      "    while True:\n",
      "        number += 2\n",
      "        yield number"
     ],
     "language": "python",
     "metadata": {},
     "outputs": [],
     "prompt_number": 11
    },
    {
     "cell_type": "code",
     "collapsed": false,
     "input": [
      "evens_generator = next_even_number()\n",
      "print evens_generator.next()\n",
      "print evens_generator.next()"
     ],
     "language": "python",
     "metadata": {},
     "outputs": [
      {
       "output_type": "stream",
       "stream": "stdout",
       "text": [
        "2\n",
        "4\n"
       ]
      }
     ],
     "prompt_number": 12
    },
    {
     "cell_type": "code",
     "collapsed": false,
     "input": [
      "even_squares = ( num*num for num in evens_generator )\n",
      "print even_squares\n",
      "for square in even_squares:\n",
      "    if square > 1000:\n",
      "        break\n",
      "    print square"
     ],
     "language": "python",
     "metadata": {},
     "outputs": [
      {
       "output_type": "stream",
       "stream": "stdout",
       "text": [
        "<generator object <genexpr> at 0x7f7c9cf855a0>\n",
        "36\n",
        "64\n",
        "100\n",
        "144\n",
        "196\n",
        "256\n",
        "324\n",
        "400\n",
        "484\n",
        "576\n",
        "676\n",
        "784\n",
        "900\n"
       ]
      }
     ],
     "prompt_number": 13
    },
    {
     "cell_type": "code",
     "collapsed": false,
     "input": [
      "class Squares(object):\n",
      "    \n",
      "    def __init__(self, start=0, stop=10):\n",
      "        self.start = start\n",
      "        self.stop = stop\n",
      "        self.current = start\n",
      "    \n",
      "    def __iter__(self):\n",
      "        return self\n",
      "    \n",
      "    def next(self):\n",
      "        self.current += 1\n",
      "        if self.current > self.stop:\n",
      "            raise StopIteration\n",
      "        else:\n",
      "            return self.current**2"
     ],
     "language": "python",
     "metadata": {},
     "outputs": [],
     "prompt_number": 26
    },
    {
     "cell_type": "code",
     "collapsed": false,
     "input": [
      "squares = Squares()\n",
      "for square in squares:\n",
      "    print square"
     ],
     "language": "python",
     "metadata": {},
     "outputs": [
      {
       "output_type": "stream",
       "stream": "stdout",
       "text": [
        "1\n",
        "4\n",
        "9\n",
        "16\n",
        "25\n",
        "36\n",
        "49\n",
        "64\n",
        "81\n",
        "100\n"
       ]
      }
     ],
     "prompt_number": 28
    },
    {
     "cell_type": "code",
     "collapsed": false,
     "input": [
      "print [ (num, num**2) for num in numbers][1:6]"
     ],
     "language": "python",
     "metadata": {},
     "outputs": [
      {
       "output_type": "stream",
       "stream": "stdout",
       "text": [
        "[(2, 4), (3, 9), (4, 16), (5, 25), (6, 36)]\n"
       ]
      }
     ],
     "prompt_number": 31
    },
    {
     "cell_type": "code",
     "collapsed": false,
     "input": [
      "def is_prime(num):\n",
      "    if num < 2:\n",
      "        return False\n",
      "    for other_num in range(2, int(num/2)+1):\n",
      "        if (num % other_num) == 0:\n",
      "            return False\n",
      "    return True"
     ],
     "language": "python",
     "metadata": {},
     "outputs": [],
     "prompt_number": 36
    },
    {
     "cell_type": "code",
     "collapsed": false,
     "input": [
      "is_prime(0)"
     ],
     "language": "python",
     "metadata": {},
     "outputs": [
      {
       "metadata": {},
       "output_type": "pyout",
       "prompt_number": 39,
       "text": [
        "False"
       ]
      }
     ],
     "prompt_number": 39
    },
    {
     "cell_type": "markdown",
     "metadata": {},
     "source": [
      "Find prime numbers using list comprehension and for loop."
     ]
    },
    {
     "cell_type": "code",
     "collapsed": false,
     "input": [
      "primes = [num for num in range(100) if is_prime(num)]\n",
      "print primes"
     ],
     "language": "python",
     "metadata": {},
     "outputs": [
      {
       "output_type": "stream",
       "stream": "stdout",
       "text": [
        "[2, 3, 5, 7, 11, 13, 17, 19, 23, 29, 31, 37, 41, 43, 47, 53, 59, 61, 67, 71, 73, 79, 83, 89, 97]\n"
       ]
      }
     ],
     "prompt_number": 40
    },
    {
     "cell_type": "code",
     "collapsed": false,
     "input": [
      "primes = []\n",
      "for num in range(100):\n",
      "    if is_prime(num):\n",
      "        primes.append(num)\n",
      "print primes"
     ],
     "language": "python",
     "metadata": {},
     "outputs": [
      {
       "output_type": "stream",
       "stream": "stdout",
       "text": [
        "[2, 3, 5, 7, 11, 13, 17, 19, 23, 29, 31, 37, 41, 43, 47, 53, 59, 61, 67, 71, 73, 79, 83, 89, 97]\n"
       ]
      }
     ],
     "prompt_number": 42
    },
    {
     "cell_type": "code",
     "collapsed": false,
     "input": [],
     "language": "python",
     "metadata": {},
     "outputs": []
    }
   ],
   "metadata": {}
  }
 ]
}