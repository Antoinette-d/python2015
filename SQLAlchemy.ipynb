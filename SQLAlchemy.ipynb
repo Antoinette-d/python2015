{
 "metadata": {
  "name": "",
  "signature": "sha256:c952c6a574c32d42a29e6b535710d686b356a966bda935823e4d285c9f8c9bed"
 },
 "nbformat": 3,
 "nbformat_minor": 0,
 "worksheets": [
  {
   "cells": [
    {
     "cell_type": "markdown",
     "metadata": {},
     "source": [
      "SQLAlchemy is an object relational mapper (ORM) for Python. An object relational mapper maps objects (defined by classes) to relational storage (i.e. a relational database management system like SQLite, MySQL or PostgreSQL). There is an excellent [tutorial](http://docs.sqlalchemy.org/en/rel_0_9/orm/tutorial.html) for SQLAlchemy. In Anaconda SQLAlchemy can be installed or updated with the command:\n",
      "\n",
      "        conda install sqlalchemy\n",
      "        \n",
      "We'll use SQLite as our database so ensure that that is also installed with:\n",
      "\n",
      "        conda install sqlite"
     ]
    },
    {
     "cell_type": "markdown",
     "metadata": {},
     "source": [
      "SQLAlchemy broadly consists of three components:\n",
      "\n",
      "1. Tools to model the types of objects you want to store\n",
      "\n",
      "2. A query layer to express SQL operations in Python-type abstractions\n",
      "\n",
      "3. A database engine to connect to relational database management systems\n",
      "\n",
      "Let's start by importing the module and making a connection to the database, just to check that all is well:"
     ]
    },
    {
     "cell_type": "code",
     "collapsed": false,
     "input": [
      "import sqlalchemy\n",
      "print sqlalchemy.__version__"
     ],
     "language": "python",
     "metadata": {},
     "outputs": [
      {
       "output_type": "stream",
       "stream": "stdout",
       "text": [
        "0.9.7\n"
       ]
      }
     ],
     "prompt_number": 1
    },
    {
     "cell_type": "code",
     "collapsed": false,
     "input": [
      "from sqlalchemy import create_engine\n",
      "engine = create_engine('sqlite:///:memory:', echo=True)"
     ],
     "language": "python",
     "metadata": {},
     "outputs": [],
     "prompt_number": 2
    },
    {
     "cell_type": "code",
     "collapsed": false,
     "input": [
      "print engine"
     ],
     "language": "python",
     "metadata": {},
     "outputs": [
      {
       "output_type": "stream",
       "stream": "stdout",
       "text": [
        "Engine(sqlite:///:memory:)\n"
       ]
      }
     ],
     "prompt_number": 3
    },
    {
     "cell_type": "markdown",
     "metadata": {},
     "source": [
      "If you saw `Engine(sqlite:///:memory:)` then you have made a connection to an in-memory SQLite database. The SQLAlchemy documentation has a [guide to database URLs](http://docs.sqlalchemy.org/en/rel_0_9/core/engines.html#database-urls) that explains how to connect to different types of database, but for now our in-memory DB is good enough.\n",
      "\n",
      "The next component to explore is the way SQLAlchemy models are built. First, however, consider a SQL database structure, for example one storing a simple address book. It might contains entries for people and addresses. Since more than one person can share an address, a database that stores a many to one relationship between people and addresses can use two tables:\n",
      "\n",
      "    CREATE TABLE addresses (id INTEGER PRIMARY KEY,\n",
      "                            number INTEGER NOT NULL,\n",
      "                            street VARCHAR(100) NOT NULL,\n",
      "                            suburb VARCHAR(100) NOT NULL,\n",
      "                            postal_code INTEGER NOT NULL);\n",
      "\n",
      "    CREATE TABLE persons (id INTEGER PRIMARY KEY,\n",
      "                          firstname VARCHAR(40) NOT NULL,\n",
      "                          surname VARCHAR(60) NOT NULL,\n",
      "                          address_id INTEGER NOT NULL,\n",
      "                          FOREIGN KEY(address_id) REFERENCES addresses(id));\n",
      "\n",
      "These tables naturally map to classes. The rows in a table are each instances, for example:\n",
      "\n",
      "\n",
      "````\n",
      "    ID            First Name              Surname\n",
      "----------------------------------------------------------------------------\n",
      "    1             Peter                   van Heusden\n",
      "    2             Alan                    Christoffels\n",
      "````\n",
      "\n",
      "and the columns are attributes of each instance. So let's create some classes to represent our database structure.\n",
      "\n",
      "The classes with which SQLAlchemy models a database are all subclasses of a special class called the *declarative base*. Let's start with the Address class:"
     ]
    },
    {
     "cell_type": "code",
     "collapsed": false,
     "input": [
      "from sqlalchemy.ext.declarative import declarative_base\n",
      "from sqlalchemy import Integer, String, Column\n",
      "Base = declarative_base()\n",
      "\n",
      "class Address(Base):\n",
      "    __tablename__ = 'addresses'\n",
      "    \n",
      "    id = Column(Integer, primary_key=True)\n",
      "    number = Column(Integer, nullable=False)\n",
      "    street = Column(String(100), nullable=False)\n",
      "    suburb = Column(String(100), nullable=False)\n",
      "    postal_code = Column(Integer, nullable=False)\n",
      "    \n",
      "    def __repr__(self):\n",
      "        return \"<Address(number={}, street='{}', suburb='{}', postal_code={})>\".format(\n",
      "                    self.number, self.street, self.suburb, self.postal_code)\n"
     ],
     "language": "python",
     "metadata": {},
     "outputs": [],
     "prompt_number": 4
    },
    {
     "cell_type": "markdown",
     "metadata": {},
     "source": [
      "Note a few things here: \n",
      "\n",
      "1. There is no `__init__` method. That gets inherited from the `Base` class.\n",
      "\n",
      "2. A `__repr__` method is provided to provide a string representation of the object (aka. instance). The difference between the use of the `__repr__` method and the `__str__` method is explained in [this StackOverflow answer](http://stackoverflow.com/questions/1436703/difference-between-str-and-repr-in-python).\n",
      "\n",
      "3. The `__tablename__` attribute tells SQLAlchemy what table to store objects of this type in.\n",
      "\n",
      "Now let's use our new class."
     ]
    },
    {
     "cell_type": "code",
     "collapsed": false,
     "input": [
      "address1 = Address(number=42, street=\"Robert Sobukwe Road\", suburb=\"Bellville\", postal_code=\"7535\")\n",
      "print address1\n",
      "print address1.street"
     ],
     "language": "python",
     "metadata": {},
     "outputs": [
      {
       "output_type": "stream",
       "stream": "stdout",
       "text": [
        "<Address(number=42, street='Robert Sobukwe Road', suburb='Bellville', postal_code=7535)>\n",
        "Robert Sobukwe Road\n"
       ]
      }
     ],
     "prompt_number": 5
    },
    {
     "cell_type": "markdown",
     "metadata": {},
     "source": [
      "The `Address` class is a model that describes an address and its attributes in a way that can be mapped to a table, but it is not yet connected to the database. Now we create the other part of our address book, the `Person` class. This uses some extra functions to create a foreign key relationship between `Person` and `Address`."
     ]
    },
    {
     "cell_type": "code",
     "collapsed": false,
     "input": [
      "from sqlalchemy import ForeignKey\n",
      "from sqlalchemy.orm import relationship, backref\n",
      "\n",
      "class Person(Base):\n",
      "    __tablename__ = 'persons'\n",
      "    \n",
      "    id = Column(Integer, primary_key=True)\n",
      "    firstname = Column(String(40), nullable=False)\n",
      "    lastname = Column(String(60), nullable=False)\n",
      "    address_id = Column(Integer, ForeignKey('addresses.id'), nullable=False)\n",
      "    address = relationship('Address', backref=backref('inhabitants', order_by=id))\n",
      "    \n",
      "    def __repr__(self):\n",
      "        return \"<Person(firstname='{}', lastname='{}', address='{}')>\".format(\n",
      "                 self.firstname, self.lastname, self.address)"
     ],
     "language": "python",
     "metadata": {},
     "outputs": [],
     "prompt_number": 6
    },
    {
     "cell_type": "markdown",
     "metadata": {},
     "source": [
      "The `ForeignKey` constraint ensures that a person must be associated with an address before they can be stored in the phone book and the `relationship` function allows the relationship between the `addresses` and `persons` tables is reflected in a relationship between objects of the `Address` and `Person` class."
     ]
    },
    {
     "cell_type": "code",
     "collapsed": false,
     "input": [
      "SANBI = Address(number=42, street='Robert Sobukwe Road', suburb='Bellville', postal_code=7535)\n",
      "person1 = Person(firstname='Peter', lastname='van Heusden', address=SANBI)\n",
      "person2 = Person(firstname='Alan', lastname='Christoffels', address=SANBI)\n",
      "address2 = Address(number=64, street='Anton Fransch Street', suburb='Makhaya', postal_code='5335')\n",
      "person3 = Person(firstname='Titus', lastname='Brown', address=address2)\n",
      "print \"inhabitants of SANBI:\", address1.inhabitants"
     ],
     "language": "python",
     "metadata": {},
     "outputs": [
      {
       "output_type": "stream",
       "stream": "stdout",
       "text": [
        "inhabitants of SANBI: [<Person(firstname='Peter', lastname='van Heusden', address='<Address(number=42, street='Robert Sobukwe Road', suburb='Bellville', postal_code=7535)>')>, <Person(firstname='Alan', lastname='Christoffels', address='<Address(number=42, street='Robert Sobukwe Road', suburb='Bellville', postal_code=7535)>')>]\n"
       ]
      }
     ],
     "prompt_number": 9
    },
    {
     "cell_type": "markdown",
     "metadata": {},
     "source": [
      "None of these classes or objects are connected to database storage yet. To make the connections, first we need to create the tables in the database, using the database engine. To refresh, we need an engine to connect to the database. Then we use this together with our `Base` class to create the tables we need. With `echo=True` specified we will get a lot of feedback on what is happening in the database."
     ]
    },
    {
     "cell_type": "code",
     "collapsed": false,
     "input": [
      "engine = create_engine('sqlite:///:memory:', echo=True)\n",
      "Base.metadata.create_all(engine)"
     ],
     "language": "python",
     "metadata": {},
     "outputs": [
      {
       "output_type": "stream",
       "stream": "stdout",
       "text": [
        "2015-04-01 07:55:42,411 INFO sqlalchemy.engine.base.Engine SELECT CAST('test plain returns' AS VARCHAR(60)) AS anon_1\n"
       ]
      },
      {
       "output_type": "stream",
       "stream": "stderr",
       "text": [
        "INFO:sqlalchemy.engine.base.Engine:SELECT CAST('test plain returns' AS VARCHAR(60)) AS anon_1\n"
       ]
      },
      {
       "output_type": "stream",
       "stream": "stdout",
       "text": [
        "2015-04-01 07:55:42,412 INFO sqlalchemy.engine.base.Engine ()\n"
       ]
      },
      {
       "output_type": "stream",
       "stream": "stderr",
       "text": [
        "INFO:sqlalchemy.engine.base.Engine:()\n"
       ]
      },
      {
       "output_type": "stream",
       "stream": "stdout",
       "text": [
        "2015-04-01 07:55:42,414 INFO sqlalchemy.engine.base.Engine SELECT CAST('test unicode returns' AS VARCHAR(60)) AS anon_1\n"
       ]
      },
      {
       "output_type": "stream",
       "stream": "stderr",
       "text": [
        "INFO:sqlalchemy.engine.base.Engine:SELECT CAST('test unicode returns' AS VARCHAR(60)) AS anon_1\n"
       ]
      },
      {
       "output_type": "stream",
       "stream": "stdout",
       "text": [
        "2015-04-01 07:55:42,415 INFO sqlalchemy.engine.base.Engine ()\n"
       ]
      },
      {
       "output_type": "stream",
       "stream": "stderr",
       "text": [
        "INFO:sqlalchemy.engine.base.Engine:()\n"
       ]
      },
      {
       "output_type": "stream",
       "stream": "stdout",
       "text": [
        "2015-04-01 07:55:42,417 INFO sqlalchemy.engine.base.Engine PRAGMA table_info(\"addresses\")\n"
       ]
      },
      {
       "output_type": "stream",
       "stream": "stderr",
       "text": [
        "INFO:sqlalchemy.engine.base.Engine:PRAGMA table_info(\"addresses\")\n"
       ]
      },
      {
       "output_type": "stream",
       "stream": "stdout",
       "text": [
        "2015-04-01 07:55:42,418 INFO sqlalchemy.engine.base.Engine ()\n"
       ]
      },
      {
       "output_type": "stream",
       "stream": "stderr",
       "text": [
        "INFO:sqlalchemy.engine.base.Engine:()\n"
       ]
      },
      {
       "output_type": "stream",
       "stream": "stdout",
       "text": [
        "2015-04-01 07:55:42,420 INFO sqlalchemy.engine.base.Engine PRAGMA table_info(\"persons\")\n"
       ]
      },
      {
       "output_type": "stream",
       "stream": "stderr",
       "text": [
        "INFO:sqlalchemy.engine.base.Engine:PRAGMA table_info(\"persons\")\n"
       ]
      },
      {
       "output_type": "stream",
       "stream": "stdout",
       "text": [
        "2015-04-01 07:55:42,421 INFO sqlalchemy.engine.base.Engine ()\n"
       ]
      },
      {
       "output_type": "stream",
       "stream": "stderr",
       "text": [
        "INFO:sqlalchemy.engine.base.Engine:()\n"
       ]
      },
      {
       "output_type": "stream",
       "stream": "stdout",
       "text": [
        "2015-04-01 07:55:42,423 INFO sqlalchemy.engine.base.Engine \n",
        "CREATE TABLE addresses (\n",
        "\tid INTEGER NOT NULL, \n",
        "\tnumber INTEGER NOT NULL, \n",
        "\tstreet VARCHAR(100) NOT NULL, \n",
        "\tsuburb VARCHAR(100) NOT NULL, \n",
        "\tpostal_code INTEGER NOT NULL, \n",
        "\tPRIMARY KEY (id)\n",
        ")\n",
        "\n",
        "\n"
       ]
      },
      {
       "output_type": "stream",
       "stream": "stderr",
       "text": [
        "INFO:sqlalchemy.engine.base.Engine:\n",
        "CREATE TABLE addresses (\n",
        "\tid INTEGER NOT NULL, \n",
        "\tnumber INTEGER NOT NULL, \n",
        "\tstreet VARCHAR(100) NOT NULL, \n",
        "\tsuburb VARCHAR(100) NOT NULL, \n",
        "\tpostal_code INTEGER NOT NULL, \n",
        "\tPRIMARY KEY (id)\n",
        ")\n",
        "\n",
        "\n"
       ]
      },
      {
       "output_type": "stream",
       "stream": "stdout",
       "text": [
        "2015-04-01 07:55:42,424 INFO sqlalchemy.engine.base.Engine ()\n"
       ]
      },
      {
       "output_type": "stream",
       "stream": "stderr",
       "text": [
        "INFO:sqlalchemy.engine.base.Engine:()\n"
       ]
      },
      {
       "output_type": "stream",
       "stream": "stdout",
       "text": [
        "2015-04-01 07:55:42,428 INFO sqlalchemy.engine.base.Engine COMMIT\n"
       ]
      },
      {
       "output_type": "stream",
       "stream": "stderr",
       "text": [
        "INFO:sqlalchemy.engine.base.Engine:COMMIT\n"
       ]
      },
      {
       "output_type": "stream",
       "stream": "stdout",
       "text": [
        "2015-04-01 07:55:42,436 INFO sqlalchemy.engine.base.Engine \n",
        "CREATE TABLE persons (\n",
        "\tid INTEGER NOT NULL, \n",
        "\tfirstname VARCHAR(40) NOT NULL, \n",
        "\tlastname VARCHAR(60) NOT NULL, \n",
        "\taddress_id INTEGER NOT NULL, \n",
        "\tPRIMARY KEY (id), \n",
        "\tFOREIGN KEY(address_id) REFERENCES addresses (id)\n",
        ")\n",
        "\n",
        "\n"
       ]
      },
      {
       "output_type": "stream",
       "stream": "stderr",
       "text": [
        "INFO:sqlalchemy.engine.base.Engine:\n",
        "CREATE TABLE persons (\n",
        "\tid INTEGER NOT NULL, \n",
        "\tfirstname VARCHAR(40) NOT NULL, \n",
        "\tlastname VARCHAR(60) NOT NULL, \n",
        "\taddress_id INTEGER NOT NULL, \n",
        "\tPRIMARY KEY (id), \n",
        "\tFOREIGN KEY(address_id) REFERENCES addresses (id)\n",
        ")\n",
        "\n",
        "\n"
       ]
      },
      {
       "output_type": "stream",
       "stream": "stdout",
       "text": [
        "2015-04-01 07:55:42,437 INFO sqlalchemy.engine.base.Engine ()\n"
       ]
      },
      {
       "output_type": "stream",
       "stream": "stderr",
       "text": [
        "INFO:sqlalchemy.engine.base.Engine:()\n"
       ]
      },
      {
       "output_type": "stream",
       "stream": "stdout",
       "text": [
        "2015-04-01 07:55:42,438 INFO sqlalchemy.engine.base.Engine COMMIT\n"
       ]
      },
      {
       "output_type": "stream",
       "stream": "stderr",
       "text": [
        "INFO:sqlalchemy.engine.base.Engine:COMMIT\n"
       ]
      }
     ],
     "prompt_number": 11
    },
    {
     "cell_type": "code",
     "collapsed": false,
     "input": [],
     "language": "python",
     "metadata": {},
     "outputs": []
    }
   ],
   "metadata": {}
  }
 ]
}