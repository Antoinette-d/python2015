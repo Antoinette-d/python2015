{
 "metadata": {
  "name": "",
  "signature": "sha256:6e001e4ed151ebe6efe9c0d9258f53c35978fd7a289d26a2373fbe28ddb7ead2"
 },
 "nbformat": 3,
 "nbformat_minor": 0,
 "worksheets": [
  {
   "cells": [
    {
     "cell_type": "markdown",
     "metadata": {},
     "source": [
      "SQLAlchemy is an object relational mapper (ORM) for Python. An object relational mapper maps objects (defined by classes) to relational storage (i.e. a relational database management system like SQLite, MySQL or PostgreSQL). There is an excellent [tutorial](http://docs.sqlalchemy.org/en/rel_0_9/orm/tutorial.html) for SQLAlchemy. In Anaconda SQLAlchemy can be installed or updated with the command:\n",
      "\n",
      "        conda install sqlalchemy\n",
      "        \n",
      "We'll use SQLite as our database so ensure that that is also installed with:\n",
      "\n",
      "        conda install sqlite"
     ]
    },
    {
     "cell_type": "markdown",
     "metadata": {},
     "source": [
      "SQLAlchemy broadly consists of three components:\n",
      "\n",
      "1. Tools to model the types of objects you want to store\n",
      "\n",
      "2. A query layer to express SQL operations in Python-type abstractions\n",
      "\n",
      "3. A database engine to connect to relational database management systems\n",
      "\n",
      "Let's start by importing the module and making a connection to the database, just to check that all is well:"
     ]
    },
    {
     "cell_type": "code",
     "collapsed": false,
     "input": [
      "import sqlalchemy\n",
      "print sqlalchemy.__version__"
     ],
     "language": "python",
     "metadata": {},
     "outputs": [
      {
       "output_type": "stream",
       "stream": "stdout",
       "text": [
        "0.9.9\n"
       ]
      }
     ],
     "prompt_number": 1
    },
    {
     "cell_type": "code",
     "collapsed": false,
     "input": [
      "from sqlalchemy import create_engine\n",
      "engine = create_engine('sqlite:///:memory:', echo=True)"
     ],
     "language": "python",
     "metadata": {},
     "outputs": [],
     "prompt_number": 2
    },
    {
     "cell_type": "code",
     "collapsed": false,
     "input": [
      "print engine"
     ],
     "language": "python",
     "metadata": {},
     "outputs": [
      {
       "output_type": "stream",
       "stream": "stdout",
       "text": [
        "Engine(sqlite:///:memory:)\n"
       ]
      }
     ],
     "prompt_number": 3
    },
    {
     "cell_type": "markdown",
     "metadata": {},
     "source": [
      "If you saw `Engine(sqlite:///:memory:)` then you have made a connection to an in-memory SQLite database. The SQLAlchemy documentation has a [guide to database URLs](http://docs.sqlalchemy.org/en/rel_0_9/core/engines.html#database-urls) that explains how to connect to different types of database, but for now our in-memory DB is good enough.\n",
      "\n",
      "The next component to explore is the way SQLAlchemy models are built. First, however, consider a SQL database structure, for example one storing a simple address book. It might contains entries for people and addresses. Since more than one person can share an address, a database that stores a many to one relationship between people and addresses can use two tables:\n",
      "\n",
      "    CREATE TABLE addresses (id INTEGER PRIMARY KEY,\n",
      "                            number INTEGER NOT NULL,\n",
      "                            street VARCHAR(100) NOT NULL,\n",
      "                            suburb VARCHAR(100) NOT NULL,\n",
      "                            postal_code INTEGER NOT NULL);\n",
      "\n",
      "    CREATE TABLE persons (id INTEGER PRIMARY KEY,\n",
      "                          firstname VARCHAR(40) NOT NULL,\n",
      "                          surname VARCHAR(60) NOT NULL,\n",
      "                          address_id INTEGER NOT NULL,\n",
      "                          FOREIGN KEY(address_id) REFERENCES addresses(id));\n",
      "\n",
      "These tables naturally map to classes. The rows in a table are each instances, for example:\n",
      "\n",
      "\n",
      "````\n",
      "    ID            First Name              Surname\n",
      "----------------------------------------------------------------------------\n",
      "    1             Peter                   van Heusden\n",
      "    2             Alan                    Christoffels\n",
      "````\n",
      "\n",
      "and the columns are attributes of each instance. So let's create some classes to represent our database structure.\n",
      "\n",
      "The classes with which SQLAlchemy models a database are all subclasses of a special class called the *declarative base*. Let's start with the Address class:"
     ]
    },
    {
     "cell_type": "code",
     "collapsed": false,
     "input": [
      "from sqlalchemy.ext.declarative import declarative_base\n",
      "from sqlalchemy import Integer, String, Column\n",
      "Base = declarative_base()\n",
      "\n",
      "class Address(Base):\n",
      "    __tablename__ = 'addresses'\n",
      "    \n",
      "    id = Column(Integer, primary_key=True)\n",
      "    number = Column(Integer, nullable=False)\n",
      "    street = Column(String(100), nullable=False)\n",
      "    suburb = Column(String(100), nullable=False)\n",
      "    postal_code = Column(Integer, nullable=False)\n",
      "    \n",
      "    def __repr__(self):\n",
      "        return \"<Address(number={}, street='{}', suburb='{}', postal_code={})>\".format(\n",
      "                    self.number, self.street, self.suburb, self.postal_code)\n",
      "\n",
      "    "
     ],
     "language": "python",
     "metadata": {},
     "outputs": [],
     "prompt_number": 6
    },
    {
     "cell_type": "markdown",
     "metadata": {},
     "source": [
      "Note a few things here: \n",
      "\n",
      "1. There is no `__init__` method. That gets inherited from the `Base` class.\n",
      "\n",
      "2. A `__repr__` method is provided to provide a string representation of the object (aka. instance). The difference between the use of the `__repr__` method and the `__str__` method is explained in [this StackOverflow answer](http://stackoverflow.com/questions/1436703/difference-between-str-and-repr-in-python).\n",
      "\n",
      "3. The `__tablename__` attribute tells SQLAlchemy what table to store objects of this type in.\n",
      "\n",
      "Now let's use our new class."
     ]
    },
    {
     "cell_type": "code",
     "collapsed": false,
     "input": [
      "address1 = Address(number=42, street=\"Robert Sobukwe Road\", \n",
      "                   suburb=\"Bellville\", postal_code=\"7535\")\n",
      "print address1\n",
      "print address1.street"
     ],
     "language": "python",
     "metadata": {},
     "outputs": [
      {
       "output_type": "stream",
       "stream": "stdout",
       "text": [
        "<Address(number=42, street='Robert Sobukwe Road', suburb='Bellville', postal_code=7535)>\n",
        "Robert Sobukwe Road\n"
       ]
      }
     ],
     "prompt_number": 7
    },
    {
     "cell_type": "code",
     "collapsed": false,
     "input": [],
     "language": "python",
     "metadata": {},
     "outputs": []
    }
   ],
   "metadata": {}
  }
 ]
}