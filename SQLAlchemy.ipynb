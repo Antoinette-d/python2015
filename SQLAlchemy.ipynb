{
 "metadata": {
  "name": "",
  "signature": "sha256:1c2d528d2783e4f2ce934677db904b4d98fc325fdd79ce05787d76317773b46b"
 },
 "nbformat": 3,
 "nbformat_minor": 0,
 "worksheets": [
  {
   "cells": [
    {
     "cell_type": "markdown",
     "metadata": {},
     "source": [
      "SQLAlchemy is an object relational mapper (ORM) for Python. An object relational mapper maps objects (defined by classes) to relational storage (i.e. a relational database management system like SQLite, MySQL or PostgreSQL). There is an excellent [tutorial](http://docs.sqlalchemy.org/en/rel_0_9/orm/tutorial.html) for SQLAlchemy. In Anaconda SQLAlchemy can be installed or updated with the command:\n",
      "\n",
      "        conda install sqlalchemy\n",
      "        \n",
      "We'll use SQLite as our database so ensure that that is also installed with:\n",
      "\n",
      "        conda install sqlite"
     ]
    },
    {
     "cell_type": "markdown",
     "metadata": {},
     "source": [
      "SQLAlchemy broadly consists of three components:\n",
      "\n",
      "1. Tools to model the types of objects you want to store\n",
      "\n",
      "2. A query layer to express SQL operations in Python-type abstractions\n",
      "\n",
      "3. A database engine to connect to relational database management systems\n",
      "\n",
      "Let's start by importing the module and making a connection to the database, just to check that all is well:"
     ]
    },
    {
     "cell_type": "code",
     "collapsed": false,
     "input": [
      "import sqlalchemy\n",
      "print sqlalchemy.__version__"
     ],
     "language": "python",
     "metadata": {},
     "outputs": [
      {
       "output_type": "stream",
       "stream": "stdout",
       "text": [
        "0.9.9\n"
       ]
      }
     ],
     "prompt_number": 1
    },
    {
     "cell_type": "code",
     "collapsed": false,
     "input": [
      "from sqlalchemy import create_engine\n",
      "engine = create_engine('sqlite:///:memory:', echo=True)"
     ],
     "language": "python",
     "metadata": {},
     "outputs": [],
     "prompt_number": 2
    },
    {
     "cell_type": "code",
     "collapsed": false,
     "input": [
      "print engine"
     ],
     "language": "python",
     "metadata": {},
     "outputs": [
      {
       "output_type": "stream",
       "stream": "stdout",
       "text": [
        "Engine(sqlite:///:memory:)\n"
       ]
      }
     ],
     "prompt_number": 3
    },
    {
     "cell_type": "markdown",
     "metadata": {},
     "source": [
      "If you saw `Engine(sqlite:///:memory:)` then you have made a connection to an in-memory SQLite database. The SQLAlchemy documentation has a [guide to database URLs](http://docs.sqlalchemy.org/en/rel_0_9/core/engines.html#database-urls) that explains how to connect to different types of database, but for now our in-memory DB is good enough.\n",
      "\n",
      "The next component to explore is the way SQLAlchemy models are built. First, however, consider a SQL database structure, for example one storing a simple address book. It might contains entries for people and addresses. Since more than one person can share an address, a database that stores a many to one relationship between people and addresses can use two tables:\n",
      "\n",
      "    CREATE TABLE addresses (id INTEGER PRIMARY KEY,\n",
      "                            number INTEGER NOT NULL,\n",
      "                            street VARCHAR(100) NOT NULL,\n",
      "                            suburb VARCHAR(100) NOT NULL,\n",
      "                            postal_code INTEGER NOT NULL);\n",
      "\n",
      "    CREATE TABLE persons (id INTEGER PRIMARY KEY,\n",
      "                          firstname VARCHAR(40) NOT NULL,\n",
      "                          surname VARCHAR(60) NOT NULL,\n",
      "                          address_id INTEGER NOT NULL,\n",
      "                          FOREIGN KEY(address_id) REFERENCES addresses(id));\n",
      "\n",
      "These tables naturally map to classes. The rows in a table are each instances, for example:\n",
      "\n",
      "\n",
      "````\n",
      "    ID            First Name              Surname\n",
      "----------------------------------------------------------------------------\n",
      "    1             Peter                   van Heusden\n",
      "    2             Alan                    Christoffels\n",
      "````\n",
      "\n",
      "and the columns are attributes of each instance. So let's create some classes to represent our database structure.\n",
      "\n",
      "The classes with which SQLAlchemy models a database are all subclasses of a special class called the *declarative base*. Let's start with the Address class:"
     ]
    },
    {
     "cell_type": "code",
     "collapsed": false,
     "input": [
      "from sqlalchemy.ext.declarative import declarative_base\n",
      "from sqlalchemy import Integer, String, Column\n",
      "Base = declarative_base()\n",
      "\n",
      "class Address(Base):\n",
      "    __tablename__ = 'addresses'\n",
      "    \n",
      "    id = Column(Integer, primary_key=True)\n",
      "    number = Column(Integer, nullable=False)\n",
      "    street = Column(String(100), nullable=False)\n",
      "    suburb = Column(String(100), nullable=False)\n",
      "    postal_code = Column(Integer, nullable=False)\n",
      "    \n",
      "    def __repr__(self):\n",
      "        return \"<Address(number={}, street='{}', suburb='{}', postal_code={})>\".format(\n",
      "                    self.number, self.street, self.suburb, self.postal_code)\n",
      "\n",
      "    "
     ],
     "language": "python",
     "metadata": {},
     "outputs": [],
     "prompt_number": 4
    },
    {
     "cell_type": "markdown",
     "metadata": {},
     "source": [
      "Note a few things here: \n",
      "\n",
      "1. There is no `__init__` method. That gets inherited from the `Base` class.\n",
      "\n",
      "2. A `__repr__` method is provided to provide a string representation of the object (aka. instance). The difference between the use of the `__repr__` method and the `__str__` method is explained in [this StackOverflow answer](http://stackoverflow.com/questions/1436703/difference-between-str-and-repr-in-python).\n",
      "\n",
      "3. The `__tablename__` attribute tells SQLAlchemy what table to store objects of this type in.\n",
      "\n",
      "Now let's use our new class."
     ]
    },
    {
     "cell_type": "code",
     "collapsed": false,
     "input": [
      "address1 = Address(number=42, street=\"Robert Sobukwe Road\", \n",
      "                   suburb=\"Bellville\", postal_code=7535)\n",
      "print address1\n",
      "print address1.street\n",
      "print type(address1.street)\n",
      "print address1.id"
     ],
     "language": "python",
     "metadata": {},
     "outputs": [
      {
       "output_type": "stream",
       "stream": "stdout",
       "text": [
        "<Address(number=42, street='Robert Sobukwe Road', suburb='Bellville', postal_code=7535)>\n",
        "Robert Sobukwe Road\n",
        "<type 'str'>\n",
        "None\n"
       ]
      }
     ],
     "prompt_number": 5
    },
    {
     "cell_type": "markdown",
     "metadata": {},
     "source": [
      "The `Address` class is a model that describes an address and its attributes in a way that can be mapped to a table, but it is not yet connected to the database. Now we create the other part of our address book, the `Person` class. This uses some extra functions to create a foreign key relationship between `Person` and `Address`."
     ]
    },
    {
     "cell_type": "code",
     "collapsed": false,
     "input": [
      "from sqlalchemy import ForeignKey\n",
      "from sqlalchemy.orm import relationship, backref\n",
      "\n",
      "class Person(Base):\n",
      "    __tablename__ = 'persons'\n",
      "    \n",
      "    id = Column(Integer, primary_key=True)\n",
      "    firstname = Column(String(40), nullable=False)\n",
      "    lastname = Column(String(60), nullable=False)\n",
      "    address_id = Column(Integer, ForeignKey('addresses.id'), \n",
      "                        nullable=False)\n",
      "    address = relationship('Address', \n",
      "                           backref=backref('inhabitants', order_by=id))\n",
      "    \n",
      "    def __repr__(self):\n",
      "        return \"<Person(firstname='{}', lastname='{}', address='{}')>\".format(\n",
      "                 self.firstname, self.lastname, self.address)"
     ],
     "language": "python",
     "metadata": {},
     "outputs": [],
     "prompt_number": 6
    },
    {
     "cell_type": "markdown",
     "metadata": {},
     "source": [
      "The `ForeignKey` constraint ensures that a person must be associated with an address before they can be stored in the phone book and the `relationship` function allows the relationship between the `addresses` and `persons` tables is reflected in a relationship between objects of the `Address` and `Person` class."
     ]
    },
    {
     "cell_type": "code",
     "collapsed": false,
     "input": [
      "SANBI = Address(number=42, street='Robert Sobukwe Road', \n",
      "                suburb='Bellville', postal_code=7535)\n",
      "person1 = Person(firstname='Peter', lastname='van Heusden', \n",
      "                 address=SANBI)\n",
      "person2 = Person(firstname='Alan', lastname='Christoffels', \n",
      "                 address=SANBI)\n",
      "address2 = Address(number=64, street='Anton Fransch Street', \n",
      "                   suburb='Makhaya', postal_code='5335')\n",
      "person3 = Person(firstname='Titus', lastname='Brown', address=address2)\n",
      "print \"inhabitants of SANBI:\", SANBI.inhabitants"
     ],
     "language": "python",
     "metadata": {},
     "outputs": [
      {
       "output_type": "stream",
       "stream": "stdout",
       "text": [
        "inhabitants of SANBI: [<Person(firstname='Peter', lastname='van Heusden', address='<Address(number=42, street='Robert Sobukwe Road', suburb='Bellville', postal_code=7535)>')>, <Person(firstname='Alan', lastname='Christoffels', address='<Address(number=42, street='Robert Sobukwe Road', suburb='Bellville', postal_code=7535)>')>]\n"
       ]
      }
     ],
     "prompt_number": 15
    },
    {
     "cell_type": "markdown",
     "metadata": {},
     "source": [
      "None of these classes or objects are connected to database storage yet. To make the connections, first we need to create the tables in the database, using the database engine. To refresh, we need an engine to connect to the database. Then we use this together with our `Base` class to create the tables we need. With `echo=True` specified we will get a lot of feedback on what is happening in the database."
     ]
    },
    {
     "cell_type": "code",
     "collapsed": false,
     "input": [
      "engine = create_engine('sqlite:///:memory:', echo=True)\n",
      "Base.metadata.create_all(engine)"
     ],
     "language": "python",
     "metadata": {},
     "outputs": [
      {
       "output_type": "stream",
       "stream": "stdout",
       "text": [
        "2015-04-01 10:04:16,979 INFO sqlalchemy.engine.base.Engine SELECT CAST('test plain returns' AS VARCHAR(60)) AS anon_1\n"
       ]
      },
      {
       "output_type": "stream",
       "stream": "stderr",
       "text": [
        "INFO:sqlalchemy.engine.base.Engine:SELECT CAST('test plain returns' AS VARCHAR(60)) AS anon_1\n"
       ]
      },
      {
       "output_type": "stream",
       "stream": "stdout",
       "text": [
        "2015-04-01 10:04:16,982 INFO sqlalchemy.engine.base.Engine ()\n"
       ]
      },
      {
       "output_type": "stream",
       "stream": "stderr",
       "text": [
        "INFO:sqlalchemy.engine.base.Engine:()\n"
       ]
      },
      {
       "output_type": "stream",
       "stream": "stdout",
       "text": [
        "2015-04-01 10:04:16,983 INFO sqlalchemy.engine.base.Engine SELECT CAST('test unicode returns' AS VARCHAR(60)) AS anon_1\n"
       ]
      },
      {
       "output_type": "stream",
       "stream": "stderr",
       "text": [
        "INFO:sqlalchemy.engine.base.Engine:SELECT CAST('test unicode returns' AS VARCHAR(60)) AS anon_1\n"
       ]
      },
      {
       "output_type": "stream",
       "stream": "stdout",
       "text": [
        "2015-04-01 10:04:16,985 INFO sqlalchemy.engine.base.Engine ()\n"
       ]
      },
      {
       "output_type": "stream",
       "stream": "stderr",
       "text": [
        "INFO:sqlalchemy.engine.base.Engine:()\n"
       ]
      },
      {
       "output_type": "stream",
       "stream": "stdout",
       "text": [
        "2015-04-01 10:04:16,987 INFO sqlalchemy.engine.base.Engine PRAGMA table_info(\"addresses\")\n"
       ]
      },
      {
       "output_type": "stream",
       "stream": "stderr",
       "text": [
        "INFO:sqlalchemy.engine.base.Engine:PRAGMA table_info(\"addresses\")\n"
       ]
      },
      {
       "output_type": "stream",
       "stream": "stdout",
       "text": [
        "2015-04-01 10:04:16,988 INFO sqlalchemy.engine.base.Engine ()\n"
       ]
      },
      {
       "output_type": "stream",
       "stream": "stderr",
       "text": [
        "INFO:sqlalchemy.engine.base.Engine:()\n"
       ]
      },
      {
       "output_type": "stream",
       "stream": "stdout",
       "text": [
        "2015-04-01 10:04:16,990 INFO sqlalchemy.engine.base.Engine PRAGMA table_info(\"persons\")\n"
       ]
      },
      {
       "output_type": "stream",
       "stream": "stderr",
       "text": [
        "INFO:sqlalchemy.engine.base.Engine:PRAGMA table_info(\"persons\")\n"
       ]
      },
      {
       "output_type": "stream",
       "stream": "stdout",
       "text": [
        "2015-04-01 10:04:16,991 INFO sqlalchemy.engine.base.Engine ()\n"
       ]
      },
      {
       "output_type": "stream",
       "stream": "stderr",
       "text": [
        "INFO:sqlalchemy.engine.base.Engine:()\n"
       ]
      },
      {
       "output_type": "stream",
       "stream": "stdout",
       "text": [
        "2015-04-01 10:04:16,993 INFO sqlalchemy.engine.base.Engine \n",
        "CREATE TABLE addresses (\n",
        "\tid INTEGER NOT NULL, \n",
        "\tnumber INTEGER NOT NULL, \n",
        "\tstreet VARCHAR(100) NOT NULL, \n",
        "\tsuburb VARCHAR(100) NOT NULL, \n",
        "\tpostal_code INTEGER NOT NULL, \n",
        "\tPRIMARY KEY (id)\n",
        ")\n",
        "\n",
        "\n"
       ]
      },
      {
       "output_type": "stream",
       "stream": "stderr",
       "text": [
        "INFO:sqlalchemy.engine.base.Engine:\n",
        "CREATE TABLE addresses (\n",
        "\tid INTEGER NOT NULL, \n",
        "\tnumber INTEGER NOT NULL, \n",
        "\tstreet VARCHAR(100) NOT NULL, \n",
        "\tsuburb VARCHAR(100) NOT NULL, \n",
        "\tpostal_code INTEGER NOT NULL, \n",
        "\tPRIMARY KEY (id)\n",
        ")\n",
        "\n",
        "\n"
       ]
      },
      {
       "output_type": "stream",
       "stream": "stdout",
       "text": [
        "2015-04-01 10:04:16,994 INFO sqlalchemy.engine.base.Engine ()\n"
       ]
      },
      {
       "output_type": "stream",
       "stream": "stderr",
       "text": [
        "INFO:sqlalchemy.engine.base.Engine:()\n"
       ]
      },
      {
       "output_type": "stream",
       "stream": "stdout",
       "text": [
        "2015-04-01 10:04:16,995 INFO sqlalchemy.engine.base.Engine COMMIT\n"
       ]
      },
      {
       "output_type": "stream",
       "stream": "stderr",
       "text": [
        "INFO:sqlalchemy.engine.base.Engine:COMMIT\n"
       ]
      },
      {
       "output_type": "stream",
       "stream": "stdout",
       "text": [
        "2015-04-01 10:04:16,997 INFO sqlalchemy.engine.base.Engine \n",
        "CREATE TABLE persons (\n",
        "\tid INTEGER NOT NULL, \n",
        "\tfirstname VARCHAR(40) NOT NULL, \n",
        "\tlastname VARCHAR(60) NOT NULL, \n",
        "\taddress_id INTEGER NOT NULL, \n",
        "\tPRIMARY KEY (id), \n",
        "\tFOREIGN KEY(address_id) REFERENCES addresses (id)\n",
        ")\n",
        "\n",
        "\n"
       ]
      },
      {
       "output_type": "stream",
       "stream": "stderr",
       "text": [
        "INFO:sqlalchemy.engine.base.Engine:\n",
        "CREATE TABLE persons (\n",
        "\tid INTEGER NOT NULL, \n",
        "\tfirstname VARCHAR(40) NOT NULL, \n",
        "\tlastname VARCHAR(60) NOT NULL, \n",
        "\taddress_id INTEGER NOT NULL, \n",
        "\tPRIMARY KEY (id), \n",
        "\tFOREIGN KEY(address_id) REFERENCES addresses (id)\n",
        ")\n",
        "\n",
        "\n"
       ]
      },
      {
       "output_type": "stream",
       "stream": "stdout",
       "text": [
        "2015-04-01 10:04:16,998 INFO sqlalchemy.engine.base.Engine ()\n"
       ]
      },
      {
       "output_type": "stream",
       "stream": "stderr",
       "text": [
        "INFO:sqlalchemy.engine.base.Engine:()\n"
       ]
      },
      {
       "output_type": "stream",
       "stream": "stdout",
       "text": [
        "2015-04-01 10:04:17,000 INFO sqlalchemy.engine.base.Engine COMMIT\n"
       ]
      },
      {
       "output_type": "stream",
       "stream": "stderr",
       "text": [
        "INFO:sqlalchemy.engine.base.Engine:COMMIT\n"
       ]
      }
     ],
     "prompt_number": 16
    },
    {
     "cell_type": "markdown",
     "metadata": {},
     "source": [
      "While the engine provides the mechanism for connecting to our database, to interact with the database we use a session. The `sessionmaker` function takes an *engine* and creates a new class (in our example called `Session`). The `Session` class can then create database sessions on request."
     ]
    },
    {
     "cell_type": "code",
     "collapsed": false,
     "input": [
      "from sqlalchemy.orm import sessionmaker\n",
      "Session = sessionmaker(bind=engine)"
     ],
     "language": "python",
     "metadata": {},
     "outputs": [],
     "prompt_number": 17
    },
    {
     "cell_type": "code",
     "collapsed": false,
     "input": [
      "session = Session()\n",
      "print session"
     ],
     "language": "python",
     "metadata": {},
     "outputs": [
      {
       "output_type": "stream",
       "stream": "stdout",
       "text": [
        "<sqlalchemy.orm.session.Session object at 0x7fa35a6b9390>\n"
       ]
      }
     ],
     "prompt_number": 18
    },
    {
     "cell_type": "markdown",
     "metadata": {},
     "source": [
      "Using the our newly created session we can now add objects to the database. This doesn't actually *do* anything yet, but it sets things up for a future transaction. A [transaction](http://en.wikipedia.org/wiki/Database_transaction) is a unit of work in a database management system. For example, a new person and their associated address can be added to the session in a single transaction so that either all or none of the data is added to the database. This ensures that the database moves from one consistent state to another consistent state and is never inconsistent."
     ]
    },
    {
     "cell_type": "code",
     "collapsed": false,
     "input": [
      "session.add(SANBI)\n",
      "session.add(person1)\n",
      "session.add(person2)\n",
      "session.add(person3)\n",
      "session.add(address2)"
     ],
     "language": "python",
     "metadata": {},
     "outputs": [],
     "prompt_number": 19
    },
    {
     "cell_type": "markdown",
     "metadata": {},
     "source": [
      "The `commit()` operation commits a transaction to the database. Note that in the generated SQL there is a `BEGIN` statement, a series of `INSERT` statements and finally a `COMMIT` statement. The `BEGIN` and `COMMIT` statements denote the beginning and the end of the transaction. Only when you issue the `commit()` are changes actually made to the database."
     ]
    },
    {
     "cell_type": "code",
     "collapsed": false,
     "input": [
      "session.commit()"
     ],
     "language": "python",
     "metadata": {},
     "outputs": [
      {
       "output_type": "stream",
       "stream": "stdout",
       "text": [
        "2015-04-01 10:10:50,032 INFO sqlalchemy.engine.base.Engine BEGIN (implicit)\n"
       ]
      },
      {
       "output_type": "stream",
       "stream": "stderr",
       "text": [
        "INFO:sqlalchemy.engine.base.Engine:BEGIN (implicit)\n"
       ]
      },
      {
       "output_type": "stream",
       "stream": "stdout",
       "text": [
        "2015-04-01 10:10:50,035 INFO sqlalchemy.engine.base.Engine INSERT INTO addresses (number, street, suburb, postal_code) VALUES (?, ?, ?, ?)\n"
       ]
      },
      {
       "output_type": "stream",
       "stream": "stderr",
       "text": [
        "INFO:sqlalchemy.engine.base.Engine:INSERT INTO addresses (number, street, suburb, postal_code) VALUES (?, ?, ?, ?)\n"
       ]
      },
      {
       "output_type": "stream",
       "stream": "stdout",
       "text": [
        "2015-04-01 10:10:50,037 INFO sqlalchemy.engine.base.Engine (42, 'Robert Sobukwe Road', 'Bellville', 7535)\n"
       ]
      },
      {
       "output_type": "stream",
       "stream": "stderr",
       "text": [
        "INFO:sqlalchemy.engine.base.Engine:(42, 'Robert Sobukwe Road', 'Bellville', 7535)\n"
       ]
      },
      {
       "output_type": "stream",
       "stream": "stdout",
       "text": [
        "2015-04-01 10:10:50,038 INFO sqlalchemy.engine.base.Engine INSERT INTO addresses (number, street, suburb, postal_code) VALUES (?, ?, ?, ?)\n"
       ]
      },
      {
       "output_type": "stream",
       "stream": "stderr",
       "text": [
        "INFO:sqlalchemy.engine.base.Engine:INSERT INTO addresses (number, street, suburb, postal_code) VALUES (?, ?, ?, ?)\n"
       ]
      },
      {
       "output_type": "stream",
       "stream": "stdout",
       "text": [
        "2015-04-01 10:10:50,039 INFO sqlalchemy.engine.base.Engine (64, 'Anton Fransch Street', 'Makhaya', '5335')\n"
       ]
      },
      {
       "output_type": "stream",
       "stream": "stderr",
       "text": [
        "INFO:sqlalchemy.engine.base.Engine:(64, 'Anton Fransch Street', 'Makhaya', '5335')\n"
       ]
      },
      {
       "output_type": "stream",
       "stream": "stdout",
       "text": [
        "2015-04-01 10:10:50,043 INFO sqlalchemy.engine.base.Engine INSERT INTO persons (firstname, lastname, address_id) VALUES (?, ?, ?)\n"
       ]
      },
      {
       "output_type": "stream",
       "stream": "stderr",
       "text": [
        "INFO:sqlalchemy.engine.base.Engine:INSERT INTO persons (firstname, lastname, address_id) VALUES (?, ?, ?)\n"
       ]
      },
      {
       "output_type": "stream",
       "stream": "stdout",
       "text": [
        "2015-04-01 10:10:50,046 INFO sqlalchemy.engine.base.Engine ('Peter', 'van Heusden', 1)\n"
       ]
      },
      {
       "output_type": "stream",
       "stream": "stderr",
       "text": [
        "INFO:sqlalchemy.engine.base.Engine:('Peter', 'van Heusden', 1)\n"
       ]
      },
      {
       "output_type": "stream",
       "stream": "stdout",
       "text": [
        "2015-04-01 10:10:50,049 INFO sqlalchemy.engine.base.Engine INSERT INTO persons (firstname, lastname, address_id) VALUES (?, ?, ?)\n"
       ]
      },
      {
       "output_type": "stream",
       "stream": "stderr",
       "text": [
        "INFO:sqlalchemy.engine.base.Engine:INSERT INTO persons (firstname, lastname, address_id) VALUES (?, ?, ?)\n"
       ]
      },
      {
       "output_type": "stream",
       "stream": "stdout",
       "text": [
        "2015-04-01 10:10:50,050 INFO sqlalchemy.engine.base.Engine ('Alan', 'Christoffels', 1)\n"
       ]
      },
      {
       "output_type": "stream",
       "stream": "stderr",
       "text": [
        "INFO:sqlalchemy.engine.base.Engine:('Alan', 'Christoffels', 1)\n"
       ]
      },
      {
       "output_type": "stream",
       "stream": "stdout",
       "text": [
        "2015-04-01 10:10:50,051 INFO sqlalchemy.engine.base.Engine INSERT INTO persons (firstname, lastname, address_id) VALUES (?, ?, ?)\n"
       ]
      },
      {
       "output_type": "stream",
       "stream": "stderr",
       "text": [
        "INFO:sqlalchemy.engine.base.Engine:INSERT INTO persons (firstname, lastname, address_id) VALUES (?, ?, ?)\n"
       ]
      },
      {
       "output_type": "stream",
       "stream": "stdout",
       "text": [
        "2015-04-01 10:10:50,052 INFO sqlalchemy.engine.base.Engine ('Titus', 'Brown', 2)\n"
       ]
      },
      {
       "output_type": "stream",
       "stream": "stderr",
       "text": [
        "INFO:sqlalchemy.engine.base.Engine:('Titus', 'Brown', 2)\n"
       ]
      },
      {
       "output_type": "stream",
       "stream": "stdout",
       "text": [
        "2015-04-01 10:10:50,054 INFO sqlalchemy.engine.base.Engine COMMIT\n"
       ]
      },
      {
       "output_type": "stream",
       "stream": "stderr",
       "text": [
        "INFO:sqlalchemy.engine.base.Engine:COMMIT\n"
       ]
      }
     ],
     "prompt_number": 20
    },
    {
     "cell_type": "markdown",
     "metadata": {},
     "source": [
      "Also note that the `id` field of the objects is now filled in. This field is computed at `INSERT` time - it is a so-called *autoincrement* column in the database."
     ]
    },
    {
     "cell_type": "code",
     "collapsed": false,
     "input": [
      "print \"show SANBI id:\", SANBI.id"
     ],
     "language": "python",
     "metadata": {},
     "outputs": [
      {
       "output_type": "stream",
       "stream": "stdout",
       "text": [
        "show SANBI id: 1\n"
       ]
      }
     ],
     "prompt_number": 22
    },
    {
     "cell_type": "markdown",
     "metadata": {},
     "source": [
      "Below we start a transaction by creating an object in the `Address` class and add that to our session with `session.add()`. We decide to abandon the transaction and instead of issuing a `commit()` we issue a `rollback()`. This effectively clears the current transaction."
     ]
    },
    {
     "cell_type": "code",
     "collapsed": false,
     "input": [
      "address3 = Address(number='64', street='Owen Wilson Road', \n",
      "                   suburb='Bellville', postal_code=7535)"
     ],
     "language": "python",
     "metadata": {},
     "outputs": [],
     "prompt_number": 23
    },
    {
     "cell_type": "code",
     "collapsed": false,
     "input": [
      "session.add(address3)"
     ],
     "language": "python",
     "metadata": {},
     "outputs": [],
     "prompt_number": 24
    },
    {
     "cell_type": "code",
     "collapsed": false,
     "input": [
      "session.rollback()"
     ],
     "language": "python",
     "metadata": {},
     "outputs": [
      {
       "output_type": "stream",
       "stream": "stdout",
       "text": [
        "2015-04-01 10:16:11,138 INFO sqlalchemy.engine.base.Engine ROLLBACK\n"
       ]
      },
      {
       "output_type": "stream",
       "stream": "stderr",
       "text": [
        "INFO:sqlalchemy.engine.base.Engine:ROLLBACK\n"
       ]
      }
     ],
     "prompt_number": 25
    },
    {
     "cell_type": "markdown",
     "metadata": {},
     "source": [
      "The example below creates an invalid `Address`. It is missing the `suburb` attribute (recall that this was defined with `nullable=False` in the class definition). No errors occur until we try to `commit()` this transaction to the database."
     ]
    },
    {
     "cell_type": "code",
     "collapsed": false,
     "input": [
      "address4 = Address(number=53, street='Albertyn Road',\n",
      "                   postal_code=7535)"
     ],
     "language": "python",
     "metadata": {},
     "outputs": [],
     "prompt_number": 26
    },
    {
     "cell_type": "code",
     "collapsed": false,
     "input": [
      "session.add(address4)"
     ],
     "language": "python",
     "metadata": {},
     "outputs": [],
     "prompt_number": 27
    },
    {
     "cell_type": "code",
     "collapsed": false,
     "input": [
      "session.commit()"
     ],
     "language": "python",
     "metadata": {},
     "outputs": [
      {
       "output_type": "stream",
       "stream": "stdout",
       "text": [
        "2015-04-01 10:17:11,638 INFO sqlalchemy.engine.base.Engine BEGIN (implicit)\n"
       ]
      },
      {
       "output_type": "stream",
       "stream": "stderr",
       "text": [
        "INFO:sqlalchemy.engine.base.Engine:BEGIN (implicit)\n"
       ]
      },
      {
       "output_type": "stream",
       "stream": "stdout",
       "text": [
        "2015-04-01 10:17:11,639 INFO sqlalchemy.engine.base.Engine INSERT INTO addresses (number, street, suburb, postal_code) VALUES (?, ?, ?, ?)\n"
       ]
      },
      {
       "output_type": "stream",
       "stream": "stderr",
       "text": [
        "INFO:sqlalchemy.engine.base.Engine:INSERT INTO addresses (number, street, suburb, postal_code) VALUES (?, ?, ?, ?)\n"
       ]
      },
      {
       "output_type": "stream",
       "stream": "stdout",
       "text": [
        "2015-04-01 10:17:11,640 INFO sqlalchemy.engine.base.Engine (53, 'Albertyn Road', None, 7535)\n"
       ]
      },
      {
       "output_type": "stream",
       "stream": "stderr",
       "text": [
        "INFO:sqlalchemy.engine.base.Engine:(53, 'Albertyn Road', None, 7535)\n"
       ]
      },
      {
       "output_type": "stream",
       "stream": "stdout",
       "text": [
        "2015-04-01 10:17:11,641 INFO sqlalchemy.engine.base.Engine ROLLBACK\n"
       ]
      },
      {
       "output_type": "stream",
       "stream": "stderr",
       "text": [
        "INFO:sqlalchemy.engine.base.Engine:ROLLBACK\n"
       ]
      },
      {
       "ename": "IntegrityError",
       "evalue": "(IntegrityError) NOT NULL constraint failed: addresses.suburb u'INSERT INTO addresses (number, street, suburb, postal_code) VALUES (?, ?, ?, ?)' (53, 'Albertyn Road', None, 7535)",
       "output_type": "pyerr",
       "traceback": [
        "\u001b[1;31m---------------------------------------------------------------------------\u001b[0m\n\u001b[1;31mIntegrityError\u001b[0m                            Traceback (most recent call last)",
        "\u001b[1;32m<ipython-input-28-980f55471f82>\u001b[0m in \u001b[0;36m<module>\u001b[1;34m()\u001b[0m\n\u001b[1;32m----> 1\u001b[1;33m \u001b[0msession\u001b[0m\u001b[1;33m.\u001b[0m\u001b[0mcommit\u001b[0m\u001b[1;33m(\u001b[0m\u001b[1;33m)\u001b[0m\u001b[1;33m\u001b[0m\u001b[0m\n\u001b[0m",
        "\u001b[1;32m/home/pvh/anaconda/lib/python2.7/site-packages/sqlalchemy/orm/session.pyc\u001b[0m in \u001b[0;36mcommit\u001b[1;34m(self)\u001b[0m\n\u001b[0;32m    786\u001b[0m                 \u001b[1;32mraise\u001b[0m \u001b[0msa_exc\u001b[0m\u001b[1;33m.\u001b[0m\u001b[0mInvalidRequestError\u001b[0m\u001b[1;33m(\u001b[0m\u001b[1;34m\"No transaction is begun.\"\u001b[0m\u001b[1;33m)\u001b[0m\u001b[1;33m\u001b[0m\u001b[0m\n\u001b[0;32m    787\u001b[0m \u001b[1;33m\u001b[0m\u001b[0m\n\u001b[1;32m--> 788\u001b[1;33m         \u001b[0mself\u001b[0m\u001b[1;33m.\u001b[0m\u001b[0mtransaction\u001b[0m\u001b[1;33m.\u001b[0m\u001b[0mcommit\u001b[0m\u001b[1;33m(\u001b[0m\u001b[1;33m)\u001b[0m\u001b[1;33m\u001b[0m\u001b[0m\n\u001b[0m\u001b[0;32m    789\u001b[0m \u001b[1;33m\u001b[0m\u001b[0m\n\u001b[0;32m    790\u001b[0m     \u001b[1;32mdef\u001b[0m \u001b[0mprepare\u001b[0m\u001b[1;33m(\u001b[0m\u001b[0mself\u001b[0m\u001b[1;33m)\u001b[0m\u001b[1;33m:\u001b[0m\u001b[1;33m\u001b[0m\u001b[0m\n",
        "\u001b[1;32m/home/pvh/anaconda/lib/python2.7/site-packages/sqlalchemy/orm/session.pyc\u001b[0m in \u001b[0;36mcommit\u001b[1;34m(self)\u001b[0m\n\u001b[0;32m    382\u001b[0m         \u001b[0mself\u001b[0m\u001b[1;33m.\u001b[0m\u001b[0m_assert_active\u001b[0m\u001b[1;33m(\u001b[0m\u001b[0mprepared_ok\u001b[0m\u001b[1;33m=\u001b[0m\u001b[0mTrue\u001b[0m\u001b[1;33m)\u001b[0m\u001b[1;33m\u001b[0m\u001b[0m\n\u001b[0;32m    383\u001b[0m         \u001b[1;32mif\u001b[0m \u001b[0mself\u001b[0m\u001b[1;33m.\u001b[0m\u001b[0m_state\u001b[0m \u001b[1;32mis\u001b[0m \u001b[1;32mnot\u001b[0m \u001b[0mPREPARED\u001b[0m\u001b[1;33m:\u001b[0m\u001b[1;33m\u001b[0m\u001b[0m\n\u001b[1;32m--> 384\u001b[1;33m             \u001b[0mself\u001b[0m\u001b[1;33m.\u001b[0m\u001b[0m_prepare_impl\u001b[0m\u001b[1;33m(\u001b[0m\u001b[1;33m)\u001b[0m\u001b[1;33m\u001b[0m\u001b[0m\n\u001b[0m\u001b[0;32m    385\u001b[0m \u001b[1;33m\u001b[0m\u001b[0m\n\u001b[0;32m    386\u001b[0m         \u001b[1;32mif\u001b[0m \u001b[0mself\u001b[0m\u001b[1;33m.\u001b[0m\u001b[0m_parent\u001b[0m \u001b[1;32mis\u001b[0m \u001b[0mNone\u001b[0m \u001b[1;32mor\u001b[0m \u001b[0mself\u001b[0m\u001b[1;33m.\u001b[0m\u001b[0mnested\u001b[0m\u001b[1;33m:\u001b[0m\u001b[1;33m\u001b[0m\u001b[0m\n",
        "\u001b[1;32m/home/pvh/anaconda/lib/python2.7/site-packages/sqlalchemy/orm/session.pyc\u001b[0m in \u001b[0;36m_prepare_impl\u001b[1;34m(self)\u001b[0m\n\u001b[0;32m    362\u001b[0m                 \u001b[1;32mif\u001b[0m \u001b[0mself\u001b[0m\u001b[1;33m.\u001b[0m\u001b[0msession\u001b[0m\u001b[1;33m.\u001b[0m\u001b[0m_is_clean\u001b[0m\u001b[1;33m(\u001b[0m\u001b[1;33m)\u001b[0m\u001b[1;33m:\u001b[0m\u001b[1;33m\u001b[0m\u001b[0m\n\u001b[0;32m    363\u001b[0m                     \u001b[1;32mbreak\u001b[0m\u001b[1;33m\u001b[0m\u001b[0m\n\u001b[1;32m--> 364\u001b[1;33m                 \u001b[0mself\u001b[0m\u001b[1;33m.\u001b[0m\u001b[0msession\u001b[0m\u001b[1;33m.\u001b[0m\u001b[0mflush\u001b[0m\u001b[1;33m(\u001b[0m\u001b[1;33m)\u001b[0m\u001b[1;33m\u001b[0m\u001b[0m\n\u001b[0m\u001b[0;32m    365\u001b[0m             \u001b[1;32melse\u001b[0m\u001b[1;33m:\u001b[0m\u001b[1;33m\u001b[0m\u001b[0m\n\u001b[0;32m    366\u001b[0m                 raise exc.FlushError(\n",
        "\u001b[1;32m/home/pvh/anaconda/lib/python2.7/site-packages/sqlalchemy/orm/session.pyc\u001b[0m in \u001b[0;36mflush\u001b[1;34m(self, objects)\u001b[0m\n\u001b[0;32m   1983\u001b[0m         \u001b[1;32mtry\u001b[0m\u001b[1;33m:\u001b[0m\u001b[1;33m\u001b[0m\u001b[0m\n\u001b[0;32m   1984\u001b[0m             \u001b[0mself\u001b[0m\u001b[1;33m.\u001b[0m\u001b[0m_flushing\u001b[0m \u001b[1;33m=\u001b[0m \u001b[0mTrue\u001b[0m\u001b[1;33m\u001b[0m\u001b[0m\n\u001b[1;32m-> 1985\u001b[1;33m             \u001b[0mself\u001b[0m\u001b[1;33m.\u001b[0m\u001b[0m_flush\u001b[0m\u001b[1;33m(\u001b[0m\u001b[0mobjects\u001b[0m\u001b[1;33m)\u001b[0m\u001b[1;33m\u001b[0m\u001b[0m\n\u001b[0m\u001b[0;32m   1986\u001b[0m         \u001b[1;32mfinally\u001b[0m\u001b[1;33m:\u001b[0m\u001b[1;33m\u001b[0m\u001b[0m\n\u001b[0;32m   1987\u001b[0m             \u001b[0mself\u001b[0m\u001b[1;33m.\u001b[0m\u001b[0m_flushing\u001b[0m \u001b[1;33m=\u001b[0m \u001b[0mFalse\u001b[0m\u001b[1;33m\u001b[0m\u001b[0m\n",
        "\u001b[1;32m/home/pvh/anaconda/lib/python2.7/site-packages/sqlalchemy/orm/session.pyc\u001b[0m in \u001b[0;36m_flush\u001b[1;34m(self, objects)\u001b[0m\n\u001b[0;32m   2101\u001b[0m         \u001b[1;32mexcept\u001b[0m\u001b[1;33m:\u001b[0m\u001b[1;33m\u001b[0m\u001b[0m\n\u001b[0;32m   2102\u001b[0m             \u001b[1;32mwith\u001b[0m \u001b[0mutil\u001b[0m\u001b[1;33m.\u001b[0m\u001b[0msafe_reraise\u001b[0m\u001b[1;33m(\u001b[0m\u001b[1;33m)\u001b[0m\u001b[1;33m:\u001b[0m\u001b[1;33m\u001b[0m\u001b[0m\n\u001b[1;32m-> 2103\u001b[1;33m                 \u001b[0mtransaction\u001b[0m\u001b[1;33m.\u001b[0m\u001b[0mrollback\u001b[0m\u001b[1;33m(\u001b[0m\u001b[0m_capture_exception\u001b[0m\u001b[1;33m=\u001b[0m\u001b[0mTrue\u001b[0m\u001b[1;33m)\u001b[0m\u001b[1;33m\u001b[0m\u001b[0m\n\u001b[0m\u001b[0;32m   2104\u001b[0m \u001b[1;33m\u001b[0m\u001b[0m\n\u001b[0;32m   2105\u001b[0m     def is_modified(self, instance, include_collections=True,\n",
        "\u001b[1;32m/home/pvh/anaconda/lib/python2.7/site-packages/sqlalchemy/util/langhelpers.pyc\u001b[0m in \u001b[0;36m__exit__\u001b[1;34m(self, type_, value, traceback)\u001b[0m\n\u001b[0;32m     58\u001b[0m             \u001b[0mexc_type\u001b[0m\u001b[1;33m,\u001b[0m \u001b[0mexc_value\u001b[0m\u001b[1;33m,\u001b[0m \u001b[0mexc_tb\u001b[0m \u001b[1;33m=\u001b[0m \u001b[0mself\u001b[0m\u001b[1;33m.\u001b[0m\u001b[0m_exc_info\u001b[0m\u001b[1;33m\u001b[0m\u001b[0m\n\u001b[0;32m     59\u001b[0m             \u001b[0mself\u001b[0m\u001b[1;33m.\u001b[0m\u001b[0m_exc_info\u001b[0m \u001b[1;33m=\u001b[0m \u001b[0mNone\u001b[0m   \u001b[1;31m# remove potential circular references\u001b[0m\u001b[1;33m\u001b[0m\u001b[0m\n\u001b[1;32m---> 60\u001b[1;33m             \u001b[0mcompat\u001b[0m\u001b[1;33m.\u001b[0m\u001b[0mreraise\u001b[0m\u001b[1;33m(\u001b[0m\u001b[0mexc_type\u001b[0m\u001b[1;33m,\u001b[0m \u001b[0mexc_value\u001b[0m\u001b[1;33m,\u001b[0m \u001b[0mexc_tb\u001b[0m\u001b[1;33m)\u001b[0m\u001b[1;33m\u001b[0m\u001b[0m\n\u001b[0m\u001b[0;32m     61\u001b[0m         \u001b[1;32melse\u001b[0m\u001b[1;33m:\u001b[0m\u001b[1;33m\u001b[0m\u001b[0m\n\u001b[0;32m     62\u001b[0m             \u001b[0mself\u001b[0m\u001b[1;33m.\u001b[0m\u001b[0m_exc_info\u001b[0m \u001b[1;33m=\u001b[0m \u001b[0mNone\u001b[0m   \u001b[1;31m# remove potential circular references\u001b[0m\u001b[1;33m\u001b[0m\u001b[0m\n",
        "\u001b[1;32m/home/pvh/anaconda/lib/python2.7/site-packages/sqlalchemy/orm/session.pyc\u001b[0m in \u001b[0;36m_flush\u001b[1;34m(self, objects)\u001b[0m\n\u001b[0;32m   2065\u001b[0m             \u001b[0mself\u001b[0m\u001b[1;33m.\u001b[0m\u001b[0m_warn_on_events\u001b[0m \u001b[1;33m=\u001b[0m \u001b[0mTrue\u001b[0m\u001b[1;33m\u001b[0m\u001b[0m\n\u001b[0;32m   2066\u001b[0m             \u001b[1;32mtry\u001b[0m\u001b[1;33m:\u001b[0m\u001b[1;33m\u001b[0m\u001b[0m\n\u001b[1;32m-> 2067\u001b[1;33m                 \u001b[0mflush_context\u001b[0m\u001b[1;33m.\u001b[0m\u001b[0mexecute\u001b[0m\u001b[1;33m(\u001b[0m\u001b[1;33m)\u001b[0m\u001b[1;33m\u001b[0m\u001b[0m\n\u001b[0m\u001b[0;32m   2068\u001b[0m             \u001b[1;32mfinally\u001b[0m\u001b[1;33m:\u001b[0m\u001b[1;33m\u001b[0m\u001b[0m\n\u001b[0;32m   2069\u001b[0m                 \u001b[0mself\u001b[0m\u001b[1;33m.\u001b[0m\u001b[0m_warn_on_events\u001b[0m \u001b[1;33m=\u001b[0m \u001b[0mFalse\u001b[0m\u001b[1;33m\u001b[0m\u001b[0m\n",
        "\u001b[1;32m/home/pvh/anaconda/lib/python2.7/site-packages/sqlalchemy/orm/unitofwork.pyc\u001b[0m in \u001b[0;36mexecute\u001b[1;34m(self)\u001b[0m\n\u001b[0;32m    370\u001b[0m                     \u001b[0mself\u001b[0m\u001b[1;33m.\u001b[0m\u001b[0mdependencies\u001b[0m\u001b[1;33m,\u001b[0m\u001b[1;33m\u001b[0m\u001b[0m\n\u001b[0;32m    371\u001b[0m                     postsort_actions):\n\u001b[1;32m--> 372\u001b[1;33m                 \u001b[0mrec\u001b[0m\u001b[1;33m.\u001b[0m\u001b[0mexecute\u001b[0m\u001b[1;33m(\u001b[0m\u001b[0mself\u001b[0m\u001b[1;33m)\u001b[0m\u001b[1;33m\u001b[0m\u001b[0m\n\u001b[0m\u001b[0;32m    373\u001b[0m \u001b[1;33m\u001b[0m\u001b[0m\n\u001b[0;32m    374\u001b[0m     \u001b[1;32mdef\u001b[0m \u001b[0mfinalize_flush_changes\u001b[0m\u001b[1;33m(\u001b[0m\u001b[0mself\u001b[0m\u001b[1;33m)\u001b[0m\u001b[1;33m:\u001b[0m\u001b[1;33m\u001b[0m\u001b[0m\n",
        "\u001b[1;32m/home/pvh/anaconda/lib/python2.7/site-packages/sqlalchemy/orm/unitofwork.pyc\u001b[0m in \u001b[0;36mexecute\u001b[1;34m(self, uow)\u001b[0m\n\u001b[0;32m    524\u001b[0m                              uow.states_for_mapper_hierarchy(\n\u001b[0;32m    525\u001b[0m                                  self.mapper, False, False),\n\u001b[1;32m--> 526\u001b[1;33m                              \u001b[0muow\u001b[0m\u001b[1;33m\u001b[0m\u001b[0m\n\u001b[0m\u001b[0;32m    527\u001b[0m                              )\n\u001b[0;32m    528\u001b[0m \u001b[1;33m\u001b[0m\u001b[0m\n",
        "\u001b[1;32m/home/pvh/anaconda/lib/python2.7/site-packages/sqlalchemy/orm/persistence.pyc\u001b[0m in \u001b[0;36msave_obj\u001b[1;34m(base_mapper, states, uowtransaction, single)\u001b[0m\n\u001b[0;32m     63\u001b[0m             _emit_insert_statements(base_mapper, uowtransaction,\n\u001b[0;32m     64\u001b[0m                                     \u001b[0mcached_connections\u001b[0m\u001b[1;33m,\u001b[0m\u001b[1;33m\u001b[0m\u001b[0m\n\u001b[1;32m---> 65\u001b[1;33m                                     mapper, table, insert)\n\u001b[0m\u001b[0;32m     66\u001b[0m \u001b[1;33m\u001b[0m\u001b[0m\n\u001b[0;32m     67\u001b[0m     _finalize_insert_update_commands(base_mapper, uowtransaction,\n",
        "\u001b[1;32m/home/pvh/anaconda/lib/python2.7/site-packages/sqlalchemy/orm/persistence.pyc\u001b[0m in \u001b[0;36m_emit_insert_statements\u001b[1;34m(base_mapper, uowtransaction, cached_connections, mapper, table, insert)\u001b[0m\n\u001b[0;32m    600\u001b[0m                 \u001b[1;32melse\u001b[0m\u001b[1;33m:\u001b[0m\u001b[1;33m\u001b[0m\u001b[0m\n\u001b[0;32m    601\u001b[0m                     \u001b[0mresult\u001b[0m \u001b[1;33m=\u001b[0m \u001b[0mcached_connections\u001b[0m\u001b[1;33m[\u001b[0m\u001b[0mconnection\u001b[0m\u001b[1;33m]\u001b[0m\u001b[1;33m.\u001b[0m\u001b[0;31m\\\u001b[0m\u001b[1;33m\u001b[0m\u001b[0m\n\u001b[1;32m--> 602\u001b[1;33m                         \u001b[0mexecute\u001b[0m\u001b[1;33m(\u001b[0m\u001b[0mstatement\u001b[0m\u001b[1;33m,\u001b[0m \u001b[0mparams\u001b[0m\u001b[1;33m)\u001b[0m\u001b[1;33m\u001b[0m\u001b[0m\n\u001b[0m\u001b[0;32m    603\u001b[0m \u001b[1;33m\u001b[0m\u001b[0m\n\u001b[0;32m    604\u001b[0m                 \u001b[0mprimary_key\u001b[0m \u001b[1;33m=\u001b[0m \u001b[0mresult\u001b[0m\u001b[1;33m.\u001b[0m\u001b[0mcontext\u001b[0m\u001b[1;33m.\u001b[0m\u001b[0minserted_primary_key\u001b[0m\u001b[1;33m\u001b[0m\u001b[0m\n",
        "\u001b[1;32m/home/pvh/anaconda/lib/python2.7/site-packages/sqlalchemy/engine/base.pyc\u001b[0m in \u001b[0;36mexecute\u001b[1;34m(self, object, *multiparams, **params)\u001b[0m\n\u001b[0;32m    839\u001b[0m                 type(object))\n\u001b[0;32m    840\u001b[0m         \u001b[1;32melse\u001b[0m\u001b[1;33m:\u001b[0m\u001b[1;33m\u001b[0m\u001b[0m\n\u001b[1;32m--> 841\u001b[1;33m             \u001b[1;32mreturn\u001b[0m \u001b[0mmeth\u001b[0m\u001b[1;33m(\u001b[0m\u001b[0mself\u001b[0m\u001b[1;33m,\u001b[0m \u001b[0mmultiparams\u001b[0m\u001b[1;33m,\u001b[0m \u001b[0mparams\u001b[0m\u001b[1;33m)\u001b[0m\u001b[1;33m\u001b[0m\u001b[0m\n\u001b[0m\u001b[0;32m    842\u001b[0m \u001b[1;33m\u001b[0m\u001b[0m\n\u001b[0;32m    843\u001b[0m     \u001b[1;32mdef\u001b[0m \u001b[0m_execute_function\u001b[0m\u001b[1;33m(\u001b[0m\u001b[0mself\u001b[0m\u001b[1;33m,\u001b[0m \u001b[0mfunc\u001b[0m\u001b[1;33m,\u001b[0m \u001b[0mmultiparams\u001b[0m\u001b[1;33m,\u001b[0m \u001b[0mparams\u001b[0m\u001b[1;33m)\u001b[0m\u001b[1;33m:\u001b[0m\u001b[1;33m\u001b[0m\u001b[0m\n",
        "\u001b[1;32m/home/pvh/anaconda/lib/python2.7/site-packages/sqlalchemy/sql/elements.pyc\u001b[0m in \u001b[0;36m_execute_on_connection\u001b[1;34m(self, connection, multiparams, params)\u001b[0m\n\u001b[0;32m    320\u001b[0m \u001b[1;33m\u001b[0m\u001b[0m\n\u001b[0;32m    321\u001b[0m     \u001b[1;32mdef\u001b[0m \u001b[0m_execute_on_connection\u001b[0m\u001b[1;33m(\u001b[0m\u001b[0mself\u001b[0m\u001b[1;33m,\u001b[0m \u001b[0mconnection\u001b[0m\u001b[1;33m,\u001b[0m \u001b[0mmultiparams\u001b[0m\u001b[1;33m,\u001b[0m \u001b[0mparams\u001b[0m\u001b[1;33m)\u001b[0m\u001b[1;33m:\u001b[0m\u001b[1;33m\u001b[0m\u001b[0m\n\u001b[1;32m--> 322\u001b[1;33m         \u001b[1;32mreturn\u001b[0m \u001b[0mconnection\u001b[0m\u001b[1;33m.\u001b[0m\u001b[0m_execute_clauseelement\u001b[0m\u001b[1;33m(\u001b[0m\u001b[0mself\u001b[0m\u001b[1;33m,\u001b[0m \u001b[0mmultiparams\u001b[0m\u001b[1;33m,\u001b[0m \u001b[0mparams\u001b[0m\u001b[1;33m)\u001b[0m\u001b[1;33m\u001b[0m\u001b[0m\n\u001b[0m\u001b[0;32m    323\u001b[0m \u001b[1;33m\u001b[0m\u001b[0m\n\u001b[0;32m    324\u001b[0m     \u001b[1;32mdef\u001b[0m \u001b[0munique_params\u001b[0m\u001b[1;33m(\u001b[0m\u001b[0mself\u001b[0m\u001b[1;33m,\u001b[0m \u001b[1;33m*\u001b[0m\u001b[0moptionaldict\u001b[0m\u001b[1;33m,\u001b[0m \u001b[1;33m**\u001b[0m\u001b[0mkwargs\u001b[0m\u001b[1;33m)\u001b[0m\u001b[1;33m:\u001b[0m\u001b[1;33m\u001b[0m\u001b[0m\n",
        "\u001b[1;32m/home/pvh/anaconda/lib/python2.7/site-packages/sqlalchemy/engine/base.pyc\u001b[0m in \u001b[0;36m_execute_clauseelement\u001b[1;34m(self, elem, multiparams, params)\u001b[0m\n\u001b[0;32m    936\u001b[0m             \u001b[0mcompiled_sql\u001b[0m\u001b[1;33m,\u001b[0m\u001b[1;33m\u001b[0m\u001b[0m\n\u001b[0;32m    937\u001b[0m             \u001b[0mdistilled_params\u001b[0m\u001b[1;33m,\u001b[0m\u001b[1;33m\u001b[0m\u001b[0m\n\u001b[1;32m--> 938\u001b[1;33m             \u001b[0mcompiled_sql\u001b[0m\u001b[1;33m,\u001b[0m \u001b[0mdistilled_params\u001b[0m\u001b[1;33m\u001b[0m\u001b[0m\n\u001b[0m\u001b[0;32m    939\u001b[0m         )\n\u001b[0;32m    940\u001b[0m         \u001b[1;32mif\u001b[0m \u001b[0mself\u001b[0m\u001b[1;33m.\u001b[0m\u001b[0m_has_events\u001b[0m \u001b[1;32mor\u001b[0m \u001b[0mself\u001b[0m\u001b[1;33m.\u001b[0m\u001b[0mengine\u001b[0m\u001b[1;33m.\u001b[0m\u001b[0m_has_events\u001b[0m\u001b[1;33m:\u001b[0m\u001b[1;33m\u001b[0m\u001b[0m\n",
        "\u001b[1;32m/home/pvh/anaconda/lib/python2.7/site-packages/sqlalchemy/engine/base.pyc\u001b[0m in \u001b[0;36m_execute_context\u001b[1;34m(self, dialect, constructor, statement, parameters, *args)\u001b[0m\n\u001b[0;32m   1068\u001b[0m                 \u001b[0mparameters\u001b[0m\u001b[1;33m,\u001b[0m\u001b[1;33m\u001b[0m\u001b[0m\n\u001b[0;32m   1069\u001b[0m                 \u001b[0mcursor\u001b[0m\u001b[1;33m,\u001b[0m\u001b[1;33m\u001b[0m\u001b[0m\n\u001b[1;32m-> 1070\u001b[1;33m                 context)\n\u001b[0m\u001b[0;32m   1071\u001b[0m \u001b[1;33m\u001b[0m\u001b[0m\n\u001b[0;32m   1072\u001b[0m         \u001b[1;32mif\u001b[0m \u001b[0mself\u001b[0m\u001b[1;33m.\u001b[0m\u001b[0m_has_events\u001b[0m \u001b[1;32mor\u001b[0m \u001b[0mself\u001b[0m\u001b[1;33m.\u001b[0m\u001b[0mengine\u001b[0m\u001b[1;33m.\u001b[0m\u001b[0m_has_events\u001b[0m\u001b[1;33m:\u001b[0m\u001b[1;33m\u001b[0m\u001b[0m\n",
        "\u001b[1;32m/home/pvh/anaconda/lib/python2.7/site-packages/sqlalchemy/engine/base.pyc\u001b[0m in \u001b[0;36m_handle_dbapi_exception\u001b[1;34m(self, e, statement, parameters, cursor, context)\u001b[0m\n\u001b[0;32m   1269\u001b[0m                 util.raise_from_cause(\n\u001b[0;32m   1270\u001b[0m                     \u001b[0msqlalchemy_exception\u001b[0m\u001b[1;33m,\u001b[0m\u001b[1;33m\u001b[0m\u001b[0m\n\u001b[1;32m-> 1271\u001b[1;33m                     \u001b[0mexc_info\u001b[0m\u001b[1;33m\u001b[0m\u001b[0m\n\u001b[0m\u001b[0;32m   1272\u001b[0m                 )\n\u001b[0;32m   1273\u001b[0m             \u001b[1;32melse\u001b[0m\u001b[1;33m:\u001b[0m\u001b[1;33m\u001b[0m\u001b[0m\n",
        "\u001b[1;32m/home/pvh/anaconda/lib/python2.7/site-packages/sqlalchemy/util/compat.pyc\u001b[0m in \u001b[0;36mraise_from_cause\u001b[1;34m(exception, exc_info)\u001b[0m\n\u001b[0;32m    197\u001b[0m             \u001b[0mexc_info\u001b[0m \u001b[1;33m=\u001b[0m \u001b[0msys\u001b[0m\u001b[1;33m.\u001b[0m\u001b[0mexc_info\u001b[0m\u001b[1;33m(\u001b[0m\u001b[1;33m)\u001b[0m\u001b[1;33m\u001b[0m\u001b[0m\n\u001b[0;32m    198\u001b[0m         \u001b[0mexc_type\u001b[0m\u001b[1;33m,\u001b[0m \u001b[0mexc_value\u001b[0m\u001b[1;33m,\u001b[0m \u001b[0mexc_tb\u001b[0m \u001b[1;33m=\u001b[0m \u001b[0mexc_info\u001b[0m\u001b[1;33m\u001b[0m\u001b[0m\n\u001b[1;32m--> 199\u001b[1;33m         \u001b[0mreraise\u001b[0m\u001b[1;33m(\u001b[0m\u001b[0mtype\u001b[0m\u001b[1;33m(\u001b[0m\u001b[0mexception\u001b[0m\u001b[1;33m)\u001b[0m\u001b[1;33m,\u001b[0m \u001b[0mexception\u001b[0m\u001b[1;33m,\u001b[0m \u001b[0mtb\u001b[0m\u001b[1;33m=\u001b[0m\u001b[0mexc_tb\u001b[0m\u001b[1;33m)\u001b[0m\u001b[1;33m\u001b[0m\u001b[0m\n\u001b[0m\u001b[0;32m    200\u001b[0m \u001b[1;33m\u001b[0m\u001b[0m\n\u001b[0;32m    201\u001b[0m \u001b[1;32mif\u001b[0m \u001b[0mpy3k\u001b[0m\u001b[1;33m:\u001b[0m\u001b[1;33m\u001b[0m\u001b[0m\n",
        "\u001b[1;32m/home/pvh/anaconda/lib/python2.7/site-packages/sqlalchemy/engine/base.pyc\u001b[0m in \u001b[0;36m_execute_context\u001b[1;34m(self, dialect, constructor, statement, parameters, *args)\u001b[0m\n\u001b[0;32m   1061\u001b[0m                         \u001b[0mstatement\u001b[0m\u001b[1;33m,\u001b[0m\u001b[1;33m\u001b[0m\u001b[0m\n\u001b[0;32m   1062\u001b[0m                         \u001b[0mparameters\u001b[0m\u001b[1;33m,\u001b[0m\u001b[1;33m\u001b[0m\u001b[0m\n\u001b[1;32m-> 1063\u001b[1;33m                         context)\n\u001b[0m\u001b[0;32m   1064\u001b[0m         \u001b[1;32mexcept\u001b[0m \u001b[0mException\u001b[0m \u001b[1;32mas\u001b[0m \u001b[0me\u001b[0m\u001b[1;33m:\u001b[0m\u001b[1;33m\u001b[0m\u001b[0m\n\u001b[0;32m   1065\u001b[0m             self._handle_dbapi_exception(\n",
        "\u001b[1;32m/home/pvh/anaconda/lib/python2.7/site-packages/sqlalchemy/engine/default.pyc\u001b[0m in \u001b[0;36mdo_execute\u001b[1;34m(self, cursor, statement, parameters, context)\u001b[0m\n\u001b[0;32m    440\u001b[0m \u001b[1;33m\u001b[0m\u001b[0m\n\u001b[0;32m    441\u001b[0m     \u001b[1;32mdef\u001b[0m \u001b[0mdo_execute\u001b[0m\u001b[1;33m(\u001b[0m\u001b[0mself\u001b[0m\u001b[1;33m,\u001b[0m \u001b[0mcursor\u001b[0m\u001b[1;33m,\u001b[0m \u001b[0mstatement\u001b[0m\u001b[1;33m,\u001b[0m \u001b[0mparameters\u001b[0m\u001b[1;33m,\u001b[0m \u001b[0mcontext\u001b[0m\u001b[1;33m=\u001b[0m\u001b[0mNone\u001b[0m\u001b[1;33m)\u001b[0m\u001b[1;33m:\u001b[0m\u001b[1;33m\u001b[0m\u001b[0m\n\u001b[1;32m--> 442\u001b[1;33m         \u001b[0mcursor\u001b[0m\u001b[1;33m.\u001b[0m\u001b[0mexecute\u001b[0m\u001b[1;33m(\u001b[0m\u001b[0mstatement\u001b[0m\u001b[1;33m,\u001b[0m \u001b[0mparameters\u001b[0m\u001b[1;33m)\u001b[0m\u001b[1;33m\u001b[0m\u001b[0m\n\u001b[0m\u001b[0;32m    443\u001b[0m \u001b[1;33m\u001b[0m\u001b[0m\n\u001b[0;32m    444\u001b[0m     \u001b[1;32mdef\u001b[0m \u001b[0mdo_execute_no_params\u001b[0m\u001b[1;33m(\u001b[0m\u001b[0mself\u001b[0m\u001b[1;33m,\u001b[0m \u001b[0mcursor\u001b[0m\u001b[1;33m,\u001b[0m \u001b[0mstatement\u001b[0m\u001b[1;33m,\u001b[0m \u001b[0mcontext\u001b[0m\u001b[1;33m=\u001b[0m\u001b[0mNone\u001b[0m\u001b[1;33m)\u001b[0m\u001b[1;33m:\u001b[0m\u001b[1;33m\u001b[0m\u001b[0m\n",
        "\u001b[1;31mIntegrityError\u001b[0m: (IntegrityError) NOT NULL constraint failed: addresses.suburb u'INSERT INTO addresses (number, street, suburb, postal_code) VALUES (?, ?, ?, ?)' (53, 'Albertyn Road', None, 7535)"
       ]
      }
     ],
     "prompt_number": 28
    },
    {
     "cell_type": "markdown",
     "metadata": {},
     "source": [
      "Our session now contains invalid data (it has an `IntegrityError`). We need to abandon this transaction with `session.rollback()` before we can use the session object again."
     ]
    },
    {
     "cell_type": "code",
     "collapsed": false,
     "input": [
      "session.rollback()"
     ],
     "language": "python",
     "metadata": {},
     "outputs": [],
     "prompt_number": 30
    },
    {
     "cell_type": "markdown",
     "metadata": {},
     "source": [
      "#### Querying in SQLAlchemy\n",
      "\n",
      "The `session` object is also to query the database. The query is analogous to the `SELECT` status in SQL and must specify what class of object we want returned (or, as we'll see below, what columns we are interested in). Used by itself `query()` returns an iterator which we can use in a `for` loop to loop through our results."
     ]
    },
    {
     "cell_type": "code",
     "collapsed": false,
     "input": [
      "for person in session.query(Person):\n",
      "    print \"PERSON:\", person.firstname, person.lastname"
     ],
     "language": "python",
     "metadata": {},
     "outputs": [
      {
       "output_type": "stream",
       "stream": "stdout",
       "text": [
        "2015-04-01 10:21:59,712 INFO sqlalchemy.engine.base.Engine SELECT persons.id AS persons_id, persons.firstname AS persons_firstname, persons.lastname AS persons_lastname, persons.address_id AS persons_address_id \n",
        "FROM persons\n"
       ]
      },
      {
       "output_type": "stream",
       "stream": "stderr",
       "text": [
        "INFO:sqlalchemy.engine.base.Engine:SELECT persons.id AS persons_id, persons.firstname AS persons_firstname, persons.lastname AS persons_lastname, persons.address_id AS persons_address_id \n",
        "FROM persons\n"
       ]
      },
      {
       "output_type": "stream",
       "stream": "stdout",
       "text": [
        "2015-04-01 10:21:59,713 INFO sqlalchemy.engine.base.Engine ()\n"
       ]
      },
      {
       "output_type": "stream",
       "stream": "stderr",
       "text": [
        "INFO:sqlalchemy.engine.base.Engine:()\n"
       ]
      },
      {
       "output_type": "stream",
       "stream": "stdout",
       "text": [
        "PERSON: Peter van Heusden\n",
        "PERSON: Alan Christoffels\n",
        "PERSON: Titus Brown\n"
       ]
      }
     ],
     "prompt_number": 33
    },
    {
     "cell_type": "markdown",
     "metadata": {},
     "source": [
      "As with `SELECT` statements, we can use `order_by` to define the order in which data is returned from our query."
     ]
    },
    {
     "cell_type": "code",
     "collapsed": false,
     "input": [
      "for person in session.query(Person).order_by(Person.lastname):\n",
      "    print \"PERSON:\",person.firstname, person.lastname"
     ],
     "language": "python",
     "metadata": {},
     "outputs": [
      {
       "output_type": "stream",
       "stream": "stdout",
       "text": [
        "2015-04-01 10:23:48,338 INFO sqlalchemy.engine.base.Engine SELECT persons.id AS persons_id, persons.firstname AS persons_firstname, persons.lastname AS persons_lastname, persons.address_id AS persons_address_id \n",
        "FROM persons ORDER BY persons.lastname\n"
       ]
      },
      {
       "output_type": "stream",
       "stream": "stderr",
       "text": [
        "INFO:sqlalchemy.engine.base.Engine:SELECT persons.id AS persons_id, persons.firstname AS persons_firstname, persons.lastname AS persons_lastname, persons.address_id AS persons_address_id \n",
        "FROM persons ORDER BY persons.lastname\n"
       ]
      },
      {
       "output_type": "stream",
       "stream": "stdout",
       "text": [
        "2015-04-01 10:23:48,340 INFO sqlalchemy.engine.base.Engine ()\n"
       ]
      },
      {
       "output_type": "stream",
       "stream": "stderr",
       "text": [
        "INFO:sqlalchemy.engine.base.Engine:()\n"
       ]
      },
      {
       "output_type": "stream",
       "stream": "stdout",
       "text": [
        "PERSON: Titus Brown\n",
        "PERSON: Alan Christoffels\n",
        "PERSON: Peter van Heusden\n"
       ]
      }
     ],
     "prompt_number": 35
    },
    {
     "cell_type": "markdown",
     "metadata": {},
     "source": [
      "Instead of getting an iterator back we can use `.all()` to get a list of all results."
     ]
    },
    {
     "cell_type": "code",
     "collapsed": false,
     "input": [
      "persons = session.query(Person).all()"
     ],
     "language": "python",
     "metadata": {},
     "outputs": [
      {
       "output_type": "stream",
       "stream": "stdout",
       "text": [
        "2015-04-01 10:24:45,656 INFO sqlalchemy.engine.base.Engine SELECT persons.id AS persons_id, persons.firstname AS persons_firstname, persons.lastname AS persons_lastname, persons.address_id AS persons_address_id \n",
        "FROM persons\n"
       ]
      },
      {
       "output_type": "stream",
       "stream": "stderr",
       "text": [
        "INFO:sqlalchemy.engine.base.Engine:SELECT persons.id AS persons_id, persons.firstname AS persons_firstname, persons.lastname AS persons_lastname, persons.address_id AS persons_address_id \n",
        "FROM persons\n"
       ]
      },
      {
       "output_type": "stream",
       "stream": "stdout",
       "text": [
        "2015-04-01 10:24:45,659 INFO sqlalchemy.engine.base.Engine ()\n"
       ]
      },
      {
       "output_type": "stream",
       "stream": "stderr",
       "text": [
        "INFO:sqlalchemy.engine.base.Engine:()\n"
       ]
      }
     ],
     "prompt_number": 36
    },
    {
     "cell_type": "code",
     "collapsed": false,
     "input": [
      "print persons"
     ],
     "language": "python",
     "metadata": {},
     "outputs": [
      {
       "output_type": "stream",
       "stream": "stdout",
       "text": [
        "[<Person(firstname='Peter', lastname='van Heusden', address='<Address(number=42, street='Robert Sobukwe Road', suburb='Bellville', postal_code=7535)>')>, <Person(firstname='Alan', lastname='Christoffels', address='<Address(number=42, street='Robert Sobukwe Road', suburb='Bellville', postal_code=7535)>')>, <Person(firstname='Titus', lastname='Brown', address='<Address(number=64, street='Anton Fransch Street', suburb='Makhaya', postal_code=5335)>')>]\n"
       ]
      }
     ],
     "prompt_number": 37
    },
    {
     "cell_type": "markdown",
     "metadata": {},
     "source": [
      "And instead of asking for a complete object, we can specify columns we are interested in. The result then becomes a tuple of values (the values in the columns of interest) instead of an object."
     ]
    },
    {
     "cell_type": "code",
     "collapsed": false,
     "input": [
      "for surname in session.query(Person.lastname).order_by(Person.lastname):\n",
      "    print \"LAST NAME:\", surname"
     ],
     "language": "python",
     "metadata": {},
     "outputs": [
      {
       "output_type": "stream",
       "stream": "stdout",
       "text": [
        "2015-04-01 10:25:34,848 INFO sqlalchemy.engine.base.Engine SELECT persons.lastname AS persons_lastname \n",
        "FROM persons ORDER BY persons.lastname\n"
       ]
      },
      {
       "output_type": "stream",
       "stream": "stderr",
       "text": [
        "INFO:sqlalchemy.engine.base.Engine:SELECT persons.lastname AS persons_lastname \n",
        "FROM persons ORDER BY persons.lastname\n"
       ]
      },
      {
       "output_type": "stream",
       "stream": "stdout",
       "text": [
        "2015-04-01 10:25:34,850 INFO sqlalchemy.engine.base.Engine ()\n"
       ]
      },
      {
       "output_type": "stream",
       "stream": "stderr",
       "text": [
        "INFO:sqlalchemy.engine.base.Engine:()\n"
       ]
      },
      {
       "output_type": "stream",
       "stream": "stdout",
       "text": [
        "LAST NAME: (u'Brown',)\n",
        "LAST NAME: (u'Christoffels',)\n",
        "LAST NAME: (u'van Heusden',)\n"
       ]
      }
     ],
     "prompt_number": 38
    },
    {
     "cell_type": "markdown",
     "metadata": {},
     "source": [
      "The `filter_by()` method allows simple filter operations on query results. In the example below we use an established `Address` object to limit the list of `Person` objects returned from the database."
     ]
    },
    {
     "cell_type": "code",
     "collapsed": false,
     "input": [
      "SANBI_people = session.query(Person).filter_by(address=SANBI).all()\n",
      "for person in SANBI_people:\n",
      "    print \"PERSON:\", person.firstname, person.lastname"
     ],
     "language": "python",
     "metadata": {},
     "outputs": [
      {
       "output_type": "stream",
       "stream": "stdout",
       "text": [
        "2015-04-01 10:30:55,521 INFO sqlalchemy.engine.base.Engine BEGIN (implicit)\n"
       ]
      },
      {
       "output_type": "stream",
       "stream": "stderr",
       "text": [
        "INFO:sqlalchemy.engine.base.Engine:BEGIN (implicit)\n"
       ]
      },
      {
       "output_type": "stream",
       "stream": "stdout",
       "text": [
        "2015-04-01 10:30:55,524 INFO sqlalchemy.engine.base.Engine SELECT addresses.id AS addresses_id, addresses.number AS addresses_number, addresses.street AS addresses_street, addresses.suburb AS addresses_suburb, addresses.postal_code AS addresses_postal_code \n",
        "FROM addresses \n",
        "WHERE addresses.id = ?\n"
       ]
      },
      {
       "output_type": "stream",
       "stream": "stderr",
       "text": [
        "INFO:sqlalchemy.engine.base.Engine:SELECT addresses.id AS addresses_id, addresses.number AS addresses_number, addresses.street AS addresses_street, addresses.suburb AS addresses_suburb, addresses.postal_code AS addresses_postal_code \n",
        "FROM addresses \n",
        "WHERE addresses.id = ?\n"
       ]
      },
      {
       "output_type": "stream",
       "stream": "stdout",
       "text": [
        "2015-04-01 10:30:55,525 INFO sqlalchemy.engine.base.Engine (1,)\n"
       ]
      },
      {
       "output_type": "stream",
       "stream": "stderr",
       "text": [
        "INFO:sqlalchemy.engine.base.Engine:(1,)\n"
       ]
      },
      {
       "output_type": "stream",
       "stream": "stdout",
       "text": [
        "2015-04-01 10:30:55,528 INFO sqlalchemy.engine.base.Engine SELECT persons.id AS persons_id, persons.firstname AS persons_firstname, persons.lastname AS persons_lastname, persons.address_id AS persons_address_id \n",
        "FROM persons \n",
        "WHERE ? = persons.address_id\n"
       ]
      },
      {
       "output_type": "stream",
       "stream": "stderr",
       "text": [
        "INFO:sqlalchemy.engine.base.Engine:SELECT persons.id AS persons_id, persons.firstname AS persons_firstname, persons.lastname AS persons_lastname, persons.address_id AS persons_address_id \n",
        "FROM persons \n",
        "WHERE ? = persons.address_id\n"
       ]
      },
      {
       "output_type": "stream",
       "stream": "stdout",
       "text": [
        "2015-04-01 10:30:55,529 INFO sqlalchemy.engine.base.Engine (1,)\n"
       ]
      },
      {
       "output_type": "stream",
       "stream": "stderr",
       "text": [
        "INFO:sqlalchemy.engine.base.Engine:(1,)\n"
       ]
      },
      {
       "output_type": "stream",
       "stream": "stdout",
       "text": [
        "PERSON: Peter van Heusden\n",
        "PERSON: Alan Christoffels\n"
       ]
      }
     ],
     "prompt_number": 49
    },
    {
     "cell_type": "markdown",
     "metadata": {},
     "source": [
      "The `filter_by()` methods can be chained, resulting in an `AND` logic. The example below also illustrates the use of `one()`. If a query returns a single value then `one()` returns the result as a single object (instead of a list). If the query does **not** result in a single object, however, `one()` will raise an exception: effectively `one()` imposes a constract that there **must** be a single result."
     ]
    },
    {
     "cell_type": "code",
     "collapsed": false,
     "input": [
      "director = session.query(Person).filter_by(address=SANBI\n",
      "                                           ).filter_by(\n",
      "                                            lastname='Christoffels').one()"
     ],
     "language": "python",
     "metadata": {},
     "outputs": [
      {
       "output_type": "stream",
       "stream": "stdout",
       "text": [
        "2015-04-01 10:32:39,142 INFO sqlalchemy.engine.base.Engine SELECT persons.id AS persons_id, persons.firstname AS persons_firstname, persons.lastname AS persons_lastname, persons.address_id AS persons_address_id \n",
        "FROM persons \n",
        "WHERE ? = persons.address_id AND persons.lastname = ?\n"
       ]
      },
      {
       "output_type": "stream",
       "stream": "stderr",
       "text": [
        "INFO:sqlalchemy.engine.base.Engine:SELECT persons.id AS persons_id, persons.firstname AS persons_firstname, persons.lastname AS persons_lastname, persons.address_id AS persons_address_id \n",
        "FROM persons \n",
        "WHERE ? = persons.address_id AND persons.lastname = ?\n"
       ]
      },
      {
       "output_type": "stream",
       "stream": "stdout",
       "text": [
        "2015-04-01 10:32:39,144 INFO sqlalchemy.engine.base.Engine (1, 'Christoffels')\n"
       ]
      },
      {
       "output_type": "stream",
       "stream": "stderr",
       "text": [
        "INFO:sqlalchemy.engine.base.Engine:(1, 'Christoffels')\n"
       ]
      }
     ],
     "prompt_number": 50
    },
    {
     "cell_type": "markdown",
     "metadata": {},
     "source": [
      "The `filter()` method is more flexible filtering method which effectively allows a `WHERE` clause to be composed. The argument for `filter()` is a Boolean expression. For more information, see the [SQLAlchemy tutorial](http://docs.sqlalchemy.org/en/rel_0_9/orm/tutorial.html#querying)."
     ]
    },
    {
     "cell_type": "code",
     "collapsed": false,
     "input": [
      "for person in session.query(Person).filter(\n",
      "                Person.lastname < \"van Heusden\"):\n",
      "    print \"PERSON\", person.firstname, person.lastname"
     ],
     "language": "python",
     "metadata": {},
     "outputs": [
      {
       "output_type": "stream",
       "stream": "stdout",
       "text": [
        "2015-04-01 10:38:24,451 INFO sqlalchemy.engine.base.Engine SELECT persons.id AS persons_id, persons.firstname AS persons_firstname, persons.lastname AS persons_lastname, persons.address_id AS persons_address_id \n",
        "FROM persons \n",
        "WHERE persons.lastname < ?\n"
       ]
      },
      {
       "output_type": "stream",
       "stream": "stderr",
       "text": [
        "INFO:sqlalchemy.engine.base.Engine:SELECT persons.id AS persons_id, persons.firstname AS persons_firstname, persons.lastname AS persons_lastname, persons.address_id AS persons_address_id \n",
        "FROM persons \n",
        "WHERE persons.lastname < ?\n"
       ]
      },
      {
       "output_type": "stream",
       "stream": "stdout",
       "text": [
        "2015-04-01 10:38:24,452 INFO sqlalchemy.engine.base.Engine ('van Heusden',)\n"
       ]
      },
      {
       "output_type": "stream",
       "stream": "stderr",
       "text": [
        "INFO:sqlalchemy.engine.base.Engine:('van Heusden',)\n"
       ]
      },
      {
       "output_type": "stream",
       "stream": "stdout",
       "text": [
        "PERSON Alan Christoffels\n",
        "PERSON Titus Brown\n"
       ]
      }
     ],
     "prompt_number": 51
    },
    {
     "cell_type": "code",
     "collapsed": false,
     "input": [
      "from sqlalchemy import and_\n",
      "\n",
      "director = session.query(Person).filter(and_(\n",
      "                        Person.address == SANBI, \n",
      "                        Person.lastname == \"Christoffels\")).one()\n",
      "print director.firstname"
     ],
     "language": "python",
     "metadata": {},
     "outputs": [
      {
       "output_type": "stream",
       "stream": "stdout",
       "text": [
        "2015-04-01 20:09:10,131 INFO sqlalchemy.engine.base.Engine SELECT persons.id AS persons_id, persons.firstname AS persons_firstname, persons.lastname AS persons_lastname, persons.address_id AS persons_address_id \n",
        "FROM persons \n",
        "WHERE ? = persons.address_id AND persons.lastname = ?\n"
       ]
      },
      {
       "output_type": "stream",
       "stream": "stderr",
       "text": [
        "INFO:sqlalchemy.engine.base.Engine:SELECT persons.id AS persons_id, persons.firstname AS persons_firstname, persons.lastname AS persons_lastname, persons.address_id AS persons_address_id \n",
        "FROM persons \n",
        "WHERE ? = persons.address_id AND persons.lastname = ?\n"
       ]
      },
      {
       "output_type": "stream",
       "stream": "stdout",
       "text": [
        "2015-04-01 20:09:10,410 INFO sqlalchemy.engine.base.Engine (1, 'Christoffels')\n"
       ]
      },
      {
       "output_type": "stream",
       "stream": "stderr",
       "text": [
        "INFO:sqlalchemy.engine.base.Engine:(1, 'Christoffels')\n"
       ]
      },
      {
       "output_type": "stream",
       "stream": "stdout",
       "text": [
        "Alan\n"
       ]
      }
     ],
     "prompt_number": 60
    },
    {
     "cell_type": "markdown",
     "metadata": {},
     "source": [
      "The `text()` function even allows literal text to be included in the SQL expression."
     ]
    },
    {
     "cell_type": "code",
     "collapsed": false,
     "input": [
      "from sqlalchemy import text\n",
      "person = session.query(Person).filter(text('id < 2')).all()"
     ],
     "language": "python",
     "metadata": {},
     "outputs": [
      {
       "output_type": "stream",
       "stream": "stdout",
       "text": [
        "2015-04-01 10:42:13,913 INFO sqlalchemy.engine.base.Engine SELECT persons.id AS persons_id, persons.firstname AS persons_firstname, persons.lastname AS persons_lastname, persons.address_id AS persons_address_id \n",
        "FROM persons \n",
        "WHERE id < 2\n"
       ]
      },
      {
       "output_type": "stream",
       "stream": "stderr",
       "text": [
        "INFO:sqlalchemy.engine.base.Engine:SELECT persons.id AS persons_id, persons.firstname AS persons_firstname, persons.lastname AS persons_lastname, persons.address_id AS persons_address_id \n",
        "FROM persons \n",
        "WHERE id < 2\n"
       ]
      },
      {
       "output_type": "stream",
       "stream": "stdout",
       "text": [
        "2015-04-01 10:42:13,914 INFO sqlalchemy.engine.base.Engine ()\n"
       ]
      },
      {
       "output_type": "stream",
       "stream": "stderr",
       "text": [
        "INFO:sqlalchemy.engine.base.Engine:()\n"
       ]
      }
     ],
     "prompt_number": 54
    },
    {
     "cell_type": "markdown",
     "metadata": {},
     "source": [
      "SQLAlchemy queries can also execute SQL joins. SQL joins are well illustrated on Jeff Atwood's [coding horror blog](http://blog.codinghorror.com/a-visual-explanation-of-sql-joins/). Thus the following example produces the inner join between the `persons` and `addresses` table."
     ]
    },
    {
     "cell_type": "code",
     "collapsed": false,
     "input": [
      "details = session.query(Person.lastname, \n",
      "                        Address.suburb).filter(\n",
      "                          Person.address_id == Address.id).all()\n",
      "for detail in details:\n",
      "    print detail"
     ],
     "language": "python",
     "metadata": {},
     "outputs": [
      {
       "output_type": "stream",
       "stream": "stdout",
       "text": [
        "2015-04-01 10:45:01,186 INFO sqlalchemy.engine.base.Engine SELECT persons.lastname AS persons_lastname, addresses.suburb AS addresses_suburb \n",
        "FROM persons, addresses \n",
        "WHERE persons.address_id = addresses.id\n"
       ]
      },
      {
       "output_type": "stream",
       "stream": "stderr",
       "text": [
        "INFO:sqlalchemy.engine.base.Engine:SELECT persons.lastname AS persons_lastname, addresses.suburb AS addresses_suburb \n",
        "FROM persons, addresses \n",
        "WHERE persons.address_id = addresses.id\n"
       ]
      },
      {
       "output_type": "stream",
       "stream": "stdout",
       "text": [
        "2015-04-01 10:45:01,187 INFO sqlalchemy.engine.base.Engine ()\n"
       ]
      },
      {
       "output_type": "stream",
       "stream": "stderr",
       "text": [
        "INFO:sqlalchemy.engine.base.Engine:()\n"
       ]
      },
      {
       "output_type": "stream",
       "stream": "stdout",
       "text": [
        "(u'van Heusden', u'Bellville')\n",
        "(u'Christoffels', u'Bellville')\n",
        "(u'Brown', u'Makhaya')\n"
       ]
      }
     ],
     "prompt_number": 57
    },
    {
     "cell_type": "markdown",
     "metadata": {},
     "source": [
      "A final note: `relationship` definitions in SQLAlchemy models allow SQLAlchemy to executed queries on demand to extract related objects. The different options for when related objects are retrieved from the database are explained in the documentation on [relationship loading techniques](http://docs.sqlalchemy.org/en/latest/orm/loading_relationships.html)."
     ]
    },
    {
     "cell_type": "code",
     "collapsed": false,
     "input": [
      "location = session.query(Address).filter(\n",
      "    Address.street.like('%Sobukwe%')).one()\n",
      "for person in location.inhabitants:\n",
      "    print \"PERSON:\",person.firstname, person.lastname"
     ],
     "language": "python",
     "metadata": {},
     "outputs": [
      {
       "output_type": "stream",
       "stream": "stdout",
       "text": [
        "2015-04-01 10:48:28,797 INFO sqlalchemy.engine.base.Engine SELECT addresses.id AS addresses_id, addresses.number AS addresses_number, addresses.street AS addresses_street, addresses.suburb AS addresses_suburb, addresses.postal_code AS addresses_postal_code \n",
        "FROM addresses \n",
        "WHERE addresses.street LIKE ?\n"
       ]
      },
      {
       "output_type": "stream",
       "stream": "stderr",
       "text": [
        "INFO:sqlalchemy.engine.base.Engine:SELECT addresses.id AS addresses_id, addresses.number AS addresses_number, addresses.street AS addresses_street, addresses.suburb AS addresses_suburb, addresses.postal_code AS addresses_postal_code \n",
        "FROM addresses \n",
        "WHERE addresses.street LIKE ?\n"
       ]
      },
      {
       "output_type": "stream",
       "stream": "stdout",
       "text": [
        "2015-04-01 10:48:28,798 INFO sqlalchemy.engine.base.Engine ('%Sobukwe%',)\n"
       ]
      },
      {
       "output_type": "stream",
       "stream": "stderr",
       "text": [
        "INFO:sqlalchemy.engine.base.Engine:('%Sobukwe%',)\n"
       ]
      },
      {
       "output_type": "stream",
       "stream": "stdout",
       "text": [
        "2015-04-01 10:48:28,865 INFO sqlalchemy.engine.base.Engine SELECT persons.id AS persons_id, persons.firstname AS persons_firstname, persons.lastname AS persons_lastname, persons.address_id AS persons_address_id \n",
        "FROM persons \n",
        "WHERE ? = persons.address_id ORDER BY persons.id\n"
       ]
      },
      {
       "output_type": "stream",
       "stream": "stderr",
       "text": [
        "INFO:sqlalchemy.engine.base.Engine:SELECT persons.id AS persons_id, persons.firstname AS persons_firstname, persons.lastname AS persons_lastname, persons.address_id AS persons_address_id \n",
        "FROM persons \n",
        "WHERE ? = persons.address_id ORDER BY persons.id\n"
       ]
      },
      {
       "output_type": "stream",
       "stream": "stdout",
       "text": [
        "2015-04-01 10:48:28,866 INFO sqlalchemy.engine.base.Engine (1,)\n"
       ]
      },
      {
       "output_type": "stream",
       "stream": "stderr",
       "text": [
        "INFO:sqlalchemy.engine.base.Engine:(1,)\n"
       ]
      },
      {
       "output_type": "stream",
       "stream": "stdout",
       "text": [
        "PERSON: Peter van Heusden\n",
        "PERSON: Alan Christoffels\n"
       ]
      }
     ],
     "prompt_number": 59
    },
    {
     "cell_type": "markdown",
     "metadata": {},
     "source": [
      "#### That's all folks\n",
      "\n",
      "Enjoy using SQLAlchemy and don't forget to [Google](https://com.google/)."
     ]
    }
   ],
   "metadata": {}
  }
 ]
}