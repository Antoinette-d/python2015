{
 "metadata": {
  "name": "",
  "signature": "sha256:a6232a9a9661ac92ec998eda237cc1ee2f37dfc63f17d5891f13f23df19db7c8"
 },
 "nbformat": 3,
 "nbformat_minor": 0,
 "worksheets": [
  {
   "cells": [
    {
     "cell_type": "code",
     "collapsed": false,
     "input": [
      "class Chair(object):\n",
      "\n",
      "    def __init__(self, occupant=None, colour='unknown'):\n",
      "        self.occupant = occupant\n",
      "        self.colour = colour\n",
      "        \n",
      "    def is_occupied(self):\n",
      "        if self.occupant == None:\n",
      "            return False\n",
      "        else:\n",
      "            return True\n",
      "        \n",
      "    def sit_in(self, person):\n",
      "        if self.is_occupied():\n",
      "            raise ValueError(\"Chair occupied by {}\".format(\n",
      "                                self.occupant))\n",
      "        else:\n",
      "            self.occupant = person\n",
      "    \n",
      "    def get_up(self):\n",
      "        self.occupant = None"
     ],
     "language": "python",
     "metadata": {},
     "outputs": [],
     "prompt_number": 19
    },
    {
     "cell_type": "code",
     "collapsed": false,
     "input": [
      "chair1 = Chair()\n",
      "chair1.sit_in('Yves')\n",
      "print chair1.occupant\n",
      "chair1.sit_in('Megan')"
     ],
     "language": "python",
     "metadata": {},
     "outputs": [
      {
       "output_type": "stream",
       "stream": "stdout",
       "text": [
        "Yves\n"
       ]
      },
      {
       "ename": "ValueError",
       "evalue": "Chair occupied by Yves",
       "output_type": "pyerr",
       "traceback": [
        "\u001b[1;31m---------------------------------------------------------------------------\u001b[0m\n\u001b[1;31mValueError\u001b[0m                                Traceback (most recent call last)",
        "\u001b[1;32m<ipython-input-20-38b923b4ce47>\u001b[0m in \u001b[0;36m<module>\u001b[1;34m()\u001b[0m\n\u001b[0;32m      2\u001b[0m \u001b[0mchair1\u001b[0m\u001b[1;33m.\u001b[0m\u001b[0msit_in\u001b[0m\u001b[1;33m(\u001b[0m\u001b[1;34m'Yves'\u001b[0m\u001b[1;33m)\u001b[0m\u001b[1;33m\u001b[0m\u001b[0m\n\u001b[0;32m      3\u001b[0m \u001b[1;32mprint\u001b[0m \u001b[0mchair1\u001b[0m\u001b[1;33m.\u001b[0m\u001b[0moccupant\u001b[0m\u001b[1;33m\u001b[0m\u001b[0m\n\u001b[1;32m----> 4\u001b[1;33m \u001b[0mchair1\u001b[0m\u001b[1;33m.\u001b[0m\u001b[0msit_in\u001b[0m\u001b[1;33m(\u001b[0m\u001b[1;34m'Megan'\u001b[0m\u001b[1;33m)\u001b[0m\u001b[1;33m\u001b[0m\u001b[0m\n\u001b[0m",
        "\u001b[1;32m<ipython-input-19-68ef520e308f>\u001b[0m in \u001b[0;36msit_in\u001b[1;34m(self, person)\u001b[0m\n\u001b[0;32m     14\u001b[0m         \u001b[1;32mif\u001b[0m \u001b[0mself\u001b[0m\u001b[1;33m.\u001b[0m\u001b[0mis_occupied\u001b[0m\u001b[1;33m(\u001b[0m\u001b[1;33m)\u001b[0m\u001b[1;33m:\u001b[0m\u001b[1;33m\u001b[0m\u001b[0m\n\u001b[0;32m     15\u001b[0m             raise ValueError(\"Chair occupied by {}\".format(\n\u001b[1;32m---> 16\u001b[1;33m                                 self.occupant))\n\u001b[0m\u001b[0;32m     17\u001b[0m         \u001b[1;32melse\u001b[0m\u001b[1;33m:\u001b[0m\u001b[1;33m\u001b[0m\u001b[0m\n\u001b[0;32m     18\u001b[0m             \u001b[0mself\u001b[0m\u001b[1;33m.\u001b[0m\u001b[0moccupant\u001b[0m \u001b[1;33m=\u001b[0m \u001b[0mperson\u001b[0m\u001b[1;33m\u001b[0m\u001b[0m\n",
        "\u001b[1;31mValueError\u001b[0m: Chair occupied by Yves"
       ]
      }
     ],
     "prompt_number": 20
    },
    {
     "cell_type": "code",
     "collapsed": false,
     "input": [
      "class Bed(object):\n",
      "    \n",
      "    def __init__(self):\n",
      "        self.occupants = []\n",
      "        self.size = 1\n",
      "    \n",
      "    def set_size(self, size):\n",
      "        self.size = size\n",
      "    \n",
      "    def get_size(self):\n",
      "        if self.size == 1:\n",
      "            return 'single'\n",
      "        elif self.size == 2:\n",
      "            return 'double'\n",
      "        elif self.size == 3:\n",
      "            return 'king'\n",
      "        \n",
      "    def get_in(self, person):\n",
      "        if len(self.occupants) == self.size:\n",
      "            return ValueError(\"Bed full!\")\n",
      "        else:\n",
      "            self.occupants.append(person)\n",
      "    \n",
      "    def has_space(self):\n",
      "        if len(self.occupants) < self.size:\n",
      "            return True\n",
      "        else:\n",
      "            return False\n",
      "    \n",
      "    def leave(self, person):\n",
      "        if person in self.occupants:\n",
      "            del self.occupants[self.occupants.index(person)]"
     ],
     "language": "python",
     "metadata": {},
     "outputs": [],
     "prompt_number": 23
    },
    {
     "cell_type": "code",
     "collapsed": false,
     "input": [
      "bed1 = Bed()\n",
      "bed1.get_size()\n",
      "bed1.set_size(2)\n",
      "bed1.get_in('Peter')\n",
      "bed1.get_in('Andrew')\n",
      "print bed1.occupants\n",
      "print bed1.has_space()"
     ],
     "language": "python",
     "metadata": {},
     "outputs": [
      {
       "output_type": "stream",
       "stream": "stdout",
       "text": [
        "['Peter', 'Andrew']\n",
        "False\n"
       ]
      }
     ],
     "prompt_number": 28
    },
    {
     "cell_type": "code",
     "collapsed": false,
     "input": [
      "class BlastHit(object):\n",
      "    \n",
      "    def __init__(self, fields):\n",
      "        if type(fields) != list and len(fields) != 12:\n",
      "            raise ValueError(\"BLAST hit requires a list of 12 fields\")\n",
      "        self.query_id = fields[0]\n",
      "        self.subject_id = fields[1]\n",
      "        self.perc_identity = float(fields[2])\n",
      "        self.aln_length = int(fields[3])\n",
      "        self.mismatches = int(fields[4])\n",
      "        self.gap_opens = int(fields[5])\n",
      "        self.q_start = int(fields[6])\n",
      "        self.q_end = int(fields[7])\n",
      "        self.s_start = int(fields[8])\n",
      "        self.s_end = int(fields[9])\n",
      "        self.e_val = float(fields[10])\n",
      "        self.bit_score = float(fields[11])"
     ],
     "language": "python",
     "metadata": {},
     "outputs": [],
     "prompt_number": 55
    },
    {
     "cell_type": "markdown",
     "metadata": {},
     "source": [
      "Classes have a *signature* which is their collection of methods, i.e. their behaviour. Special method names allow us to give a class a certain behaviour, e.g. acting like a collection. See the [documentation on emulating containter types](https://docs.python.org/2/reference/datamodel.html#object.__getitem__)."
     ]
    },
    {
     "cell_type": "code",
     "collapsed": false,
     "input": [
      "class BlastHits(object):\n",
      "    \n",
      "    def __init__(self):\n",
      "        self.hits = []\n",
      "    \n",
      "    def add_hit(self, hit):\n",
      "        if type(hit) != BlastHit:\n",
      "            raise ValueError(\"Can only add a BlastHit type\")\n",
      "        else:\n",
      "            self.hits.append(hit)\n",
      "    \n",
      "    def __getitem__(self, i):\n",
      "        return self.hits[i]\n",
      "    \n",
      "    def __len__(self):\n",
      "        return len(self.hits)"
     ],
     "language": "python",
     "metadata": {},
     "outputs": [],
     "prompt_number": 66
    },
    {
     "cell_type": "code",
     "collapsed": false,
     "input": [
      "import sys\n",
      "import subprocess\n",
      "import shlex\n",
      "import os\n",
      "import tempfile\n",
      "\n",
      "class BlastRunner(object):\n",
      "    \n",
      "    def __init__(self, query_filename, dbname):\n",
      "        self.query_filename = query_filename\n",
      "        self.dbname = dbname\n",
      "        self.blast_cmd = 'unknown'\n",
      "\n",
      "    def parse_results(self, tempfile):\n",
      "        input_file = open(tempfile)\n",
      "        hits = BlastHits()\n",
      "        with input_file:\n",
      "            # Fields: query id, subject id, % identity, alignment length, mismatches, \n",
      "            # gap opens, q. start, q. end, s. start, s. end, evalue, bit score\n",
      "            for line in input_file:\n",
      "                line = line.rstrip()\n",
      "                fields = line.split('\\t')\n",
      "                blast_hit = BlastHit(fields)\n",
      "                hits.add_hit(blast_hit)\n",
      "        return hits        \n",
      "\n",
      "    def run(self):\n",
      "        if self.blast_cmd == 'unknown':\n",
      "            raise ValueError(\"Unknown BLAST type\")\n",
      "        tmpfile = tempfile.NamedTemporaryFile(delete=False)\n",
      "        cmd_str = '{} -query {} -db {} -outfmt 6 -out {}'.format(\n",
      "                    self.blast_cmd, self.query_filename, \n",
      "                    self.dbname, tmpfile.name)\n",
      "        cmd = shlex.split(cmd_str)\n",
      "        code = subprocess.call(cmd)\n",
      "        hits = self.parse_results(tmpfile.name)\n",
      "        os.remove(tmpfile.name)\n",
      "        return hits\n",
      "    \n",
      "class NuclBlastRunner(BlastRunner):\n",
      "    \n",
      "    def __init__(self, query_filename, dbname):\n",
      "        self.query_filename = query_filename\n",
      "        self.dbname = dbname\n",
      "        self.blast_cmd = 'blastn'\n",
      "\n",
      "class ProtBlastRunner(BlastRunner):\n",
      "    \n",
      "    def __init__(self, query_filename, dbname):\n",
      "        self.query_filename = query_filename\n",
      "        self.dbname = dbname\n",
      "        self.blast_cmd = 'blastp'\n",
      "\n"
     ],
     "language": "python",
     "metadata": {},
     "outputs": [],
     "prompt_number": 112
    },
    {
     "cell_type": "code",
     "collapsed": false,
     "input": [
      "runner = NuclBlastRunner('query.fasta', 'blastdb')\n",
      "hits = runner.run()"
     ],
     "language": "python",
     "metadata": {},
     "outputs": [],
     "prompt_number": 115
    },
    {
     "cell_type": "code",
     "collapsed": false,
     "input": [
      "print hits"
     ],
     "language": "python",
     "metadata": {},
     "outputs": [
      {
       "output_type": "stream",
       "stream": "stdout",
       "text": [
        "<__main__.BlastHits object at 0x7f4d3c0d4d50>\n"
       ]
      }
     ],
     "prompt_number": 106
    },
    {
     "cell_type": "code",
     "collapsed": false,
     "input": [
      "class RollableChair(Chair):\n",
      "    \n",
      "    def __init__(self, occupant=None, colour='unknown', location='here'):\n",
      "        super(RollableChair, self).__init__(occupant, colour)\n",
      "        self.location = location\n",
      "        \n",
      "    def roll(self, destination):\n",
      "        self.location = destination"
     ],
     "language": "python",
     "metadata": {},
     "outputs": [],
     "prompt_number": 120
    },
    {
     "cell_type": "code",
     "collapsed": false,
     "input": [
      "chair3 = RollableChair()\n",
      "chair3.roll(\"Peter's office\")\n",
      "chair3.sit_in(\"Long\")"
     ],
     "language": "python",
     "metadata": {},
     "outputs": [],
     "prompt_number": 123
    },
    {
     "cell_type": "markdown",
     "metadata": {},
     "source": [
      "Illustration of *class variables* (aka. *class attributes*) that are distinct from the attributes of objects."
     ]
    },
    {
     "cell_type": "code",
     "collapsed": false,
     "input": [
      "class DNA(object):\n",
      "    bases = set('ACTG')\n",
      "    \n",
      "    def __init__(self, sequence):\n",
      "       self.sequence = sequence\n",
      "    \n",
      "    def is_dna(self):\n",
      "        for char in self.sequence:\n",
      "            if char not in self.__class__.bases:\n",
      "                return False\n",
      "        return True\n",
      "    \n",
      "    def change(self, bases):\n",
      "        self.bases = set(bases)"
     ],
     "language": "python",
     "metadata": {},
     "outputs": [],
     "prompt_number": 142
    },
    {
     "cell_type": "code",
     "collapsed": false,
     "input": [
      "dna1 = DNA('ACTG')"
     ],
     "language": "python",
     "metadata": {},
     "outputs": [],
     "prompt_number": 143
    },
    {
     "cell_type": "code",
     "collapsed": false,
     "input": [
      "print dna1.is_dna()\n",
      "dna1.change('ACTGN')\n",
      "print dna1.bases\n",
      "print dna1.__class__.bases\n",
      "print DNA.bases"
     ],
     "language": "python",
     "metadata": {},
     "outputs": [
      {
       "output_type": "stream",
       "stream": "stdout",
       "text": [
        "True\n",
        "set(['A', 'C', 'T', 'G', 'N'])\n",
        "set(['A', 'C', 'T', 'G'])\n",
        "set(['A', 'C', 'T', 'G'])\n"
       ]
      }
     ],
     "prompt_number": 145
    },
    {
     "cell_type": "markdown",
     "metadata": {},
     "source": [
      "By convention if we want to make an attribute (or a method) private, we prefix its named with an undercore (`_`). There is nothing *stopping* a programmer from directly accessing the attributes in the example below but they should not."
     ]
    },
    {
     "cell_type": "code",
     "collapsed": false,
     "input": [
      "class Bird(object):\n",
      "    \n",
      "    def __init__(self, species):\n",
      "        self._species = species\n",
      "    \n",
      "    def get_species(self):\n",
      "        return species\n",
      "\n",
      "    def set_species(self, species):\n",
      "        self._species = species"
     ],
     "language": "python",
     "metadata": {},
     "outputs": [],
     "prompt_number": 146
    },
    {
     "cell_type": "markdown",
     "metadata": {},
     "source": [
      "**(1)** Create a class `Table` that has the attributes `num_legs` and `colour` and a method `paint` to change the `colour`. "
     ]
    },
    {
     "cell_type": "code",
     "collapsed": false,
     "input": [
      "class Table(object):\n",
      "    \n",
      "    def __init__(self, num_legs, colour):\n",
      "        self.colour = colour\n",
      "        self.num_legs = num_legs\n",
      "    \n",
      "    def paint(self, colour):\n",
      "        self.colour = colour\n",
      "    \n",
      "    def get_colour():\n",
      "        return self.colour\n",
      "    \n",
      "    def __str__(self):\n",
      "        return \"{} table with {} legs\".format(self.colour, \n",
      "                                              self.num_legs)\n",
      "    \n",
      "    def __int__(self):\n",
      "        return self.num_legs"
     ],
     "language": "python",
     "metadata": {},
     "outputs": [],
     "prompt_number": 153
    },
    {
     "cell_type": "code",
     "collapsed": false,
     "input": [
      "table1 = Table(4, 'red')\n",
      "print \"table1:\", table1\n",
      "table1.paint('white')\n",
      "print \"table1:\", table1\n",
      "int(table1)\n"
     ],
     "language": "python",
     "metadata": {},
     "outputs": [
      {
       "output_type": "stream",
       "stream": "stdout",
       "text": [
        "table1: red table with 4 legs\n",
        "table1: white table with 4 legs\n"
       ]
      },
      {
       "metadata": {},
       "output_type": "pyout",
       "prompt_number": 154,
       "text": [
        "4"
       ]
      }
     ],
     "prompt_number": 154
    },
    {
     "cell_type": "code",
     "collapsed": false,
     "input": [],
     "language": "python",
     "metadata": {},
     "outputs": []
    }
   ],
   "metadata": {}
  }
 ]
}