{
 "metadata": {
  "name": "",
  "signature": "sha256:e3c67566d3ef4acd63e52e300ee54afc8fd1ffa872256ba40776281f3ca2de59"
 },
 "nbformat": 3,
 "nbformat_minor": 0,
 "worksheets": [
  {
   "cells": [
    {
     "cell_type": "code",
     "collapsed": false,
     "input": [
      "def Chair(object):\n",
      "\n",
      "    def __init__(self, occupant=None, colour='unknown'):\n",
      "        self.occupant = occupant\n",
      "        self.colour = colour\n",
      "        \n",
      "    def is_occupied(self):\n",
      "        if self.occupant == None:\n",
      "            return False\n",
      "        else:\n",
      "            return True\n",
      "        \n",
      "    def sit_in(self, occupant):\n",
      "        if self.is_occupied():\n",
      "            raise ValueError(\"Chair occupied by {}\".occupant)"
     ],
     "language": "python",
     "metadata": {},
     "outputs": []
    },
    {
     "cell_type": "code",
     "collapsed": false,
     "input": [],
     "language": "python",
     "metadata": {},
     "outputs": []
    }
   ],
   "metadata": {}
  }
 ]
}