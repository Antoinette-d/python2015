{
 "metadata": {
  "name": "",
  "signature": "sha256:13bc48eecde2fc244b2debef4272bb4c1843a2fac664f33b7a41cea9195cb988"
 },
 "nbformat": 3,
 "nbformat_minor": 0,
 "worksheets": [
  {
   "cells": [
    {
     "cell_type": "markdown",
     "metadata": {},
     "source": [
      "[BioPython](http://biopython.org/wiki/Main_Page) is a set of Python libraries for use in bioinformatics. The project has an excellent [tutorial](http://biopython.org/DIST/docs/tutorial/Tutorial.html).\n",
      "\n",
      "You can install BioPython into anaconda with the command:\n",
      "\n",
      "        conda install biopython\n",
      "\n",
      "One of the most commonly used parts of BioPython is the Bio.SeqIO module, used for reading and writing sequences. This has its own little [documentation page](http://biopython.org/wiki/SeqIO)."
     ]
    },
    {
     "cell_type": "code",
     "collapsed": false,
     "input": [
      "import Bio.SeqIO"
     ],
     "language": "python",
     "metadata": {},
     "outputs": [],
     "prompt_number": 1
    },
    {
     "cell_type": "markdown",
     "metadata": {},
     "source": [
      "Let's get some data to work with:\n",
      "\n",
      "        cd ~/Documents/python\n",
      "        mkdir data\n",
      "        cd data\n",
      "        wget -c 'http://j.mp/tbfasta'\n",
      "        wget -c 'http://j.mp/tbgbk'\n",
      "        wget -c 'http://j.mp/tbgff'\n",
      "\n",
      "This fetches `NC_000962.fna`, `NC_000962.gbk` and `NC_000962.gff` which we can use in addition to the existing `python.fasta` (retrieved from ftp://ftp.sanbi.ac.za/python.fasta)."
     ]
    },
    {
     "cell_type": "code",
     "collapsed": false,
     "input": [
      "import Bio.SeqIO\n",
      "\n",
      "filename = 'python.fasta'\n",
      "for seq in Bio.SeqIO.parse(filename, 'fasta'):\n",
      "    print seq.id"
     ],
     "language": "python",
     "metadata": {},
     "outputs": [
      {
       "output_type": "stream",
       "stream": "stdout",
       "text": [
        "gi|2765658|emb|Z78533.1|CIZ78533\n",
        "gi|2765657|emb|Z78532.1|CCZ78532\n",
        "gi|2765656|emb|Z78531.1|CFZ78531\n",
        "gi|2765655|emb|Z78530.1|CMZ78530\n",
        "gi|2765654|emb|Z78529.1|CLZ78529\n",
        "gi|2765652|emb|Z78527.1|CYZ78527\n",
        "gi|2765651|emb|Z78526.1|CGZ78526\n",
        "gi|2765650|emb|Z78525.1|CAZ78525\n",
        "gi|2765649|emb|Z78524.1|CFZ78524\n",
        "gi|2765648|emb|Z78523.1|CHZ78523\n",
        "gi|2765647|emb|Z78522.1|CMZ78522\n",
        "gi|2765646|emb|Z78521.1|CCZ78521\n",
        "gi|2765645|emb|Z78520.1|CSZ78520\n",
        "gi|2765644|emb|Z78519.1|CPZ78519\n",
        "gi|2765643|emb|Z78518.1|CRZ78518\n",
        "gi|2765642|emb|Z78517.1|CFZ78517\n",
        "gi|2765641|emb|Z78516.1|CPZ78516\n",
        "gi|2765640|emb|Z78515.1|MXZ78515\n",
        "gi|2765639|emb|Z78514.1|PSZ78514\n",
        "gi|2765638|emb|Z78513.1|PBZ78513\n",
        "gi|2765637|emb|Z78512.1|PWZ78512\n",
        "gi|2765636|emb|Z78511.1|PEZ78511\n",
        "gi|2765635|emb|Z78510.1|PCZ78510\n",
        "gi|2765634|emb|Z78509.1|PPZ78509\n",
        "gi|2765633|emb|Z78508.1|PLZ78508\n",
        "gi|2765632|emb|Z78507.1|PLZ78507\n",
        "gi|2765631|emb|Z78506.1|PLZ78506\n",
        "gi|2765630|emb|Z78505.1|PSZ78505\n",
        "gi|2765629|emb|Z78504.1|PKZ78504\n",
        "gi|2765628|emb|Z78503.1|PCZ78503\n",
        "gi|2765627|emb|Z78502.1|PBZ78502\n",
        "gi|2765626|emb|Z78501.1|PCZ78501\n",
        "gi|2765625|emb|Z78500.1|PWZ78500\n",
        "gi|2765624|emb|Z78499.1|PMZ78499\n",
        "gi|2765623|emb|Z78498.1|PMZ78498\n",
        "gi|2765622|emb|Z78497.1|PDZ78497\n",
        "gi|2765621|emb|Z78496.1|PAZ78496\n",
        "gi|2765620|emb|Z78495.1|PEZ78495\n",
        "gi|2765619|emb|Z78494.1|PNZ78494\n",
        "gi|2765618|emb|Z78493.1|PGZ78493\n",
        "gi|2765617|emb|Z78492.1|PBZ78492\n",
        "gi|2765616|emb|Z78491.1|PCZ78491\n",
        "gi|2765615|emb|Z78490.1|PFZ78490\n",
        "gi|2765614|emb|Z78489.1|PDZ78489\n",
        "gi|2765613|emb|Z78488.1|PTZ78488\n",
        "gi|2765612|emb|Z78487.1|PHZ78487\n",
        "gi|2765611|emb|Z78486.1|PBZ78486\n",
        "gi|2765610|emb|Z78485.1|PHZ78485\n",
        "gi|2765609|emb|Z78484.1|PCZ78484\n",
        "gi|2765608|emb|Z78483.1|PVZ78483\n",
        "gi|2765607|emb|Z78482.1|PEZ78482\n",
        "gi|2765606|emb|Z78481.1|PIZ78481\n",
        "gi|2765605|emb|Z78480.1|PGZ78480\n",
        "gi|2765604|emb|Z78479.1|PPZ78479\n",
        "gi|2765603|emb|Z78478.1|PVZ78478\n",
        "gi|2765602|emb|Z78477.1|PVZ78477\n",
        "gi|2765601|emb|Z78476.1|PGZ78476\n",
        "gi|2765600|emb|Z78475.1|PSZ78475\n",
        "gi|2765599|emb|Z78474.1|PKZ78474\n",
        "gi|2765598|emb|Z78473.1|PSZ78473\n",
        "gi|2765597|emb|Z78472.1|PLZ78472\n",
        "gi|2765596|emb|Z78471.1|PDZ78471\n",
        "gi|2765595|emb|Z78470.1|PPZ78470\n",
        "gi|2765594|emb|Z78469.1|PHZ78469\n",
        "gi|2765593|emb|Z78468.1|PAZ78468\n",
        "gi|2765592|emb|Z78467.1|PSZ78467\n",
        "gi|2765591|emb|Z78466.1|PPZ78466\n",
        "gi|2765590|emb|Z78465.1|PRZ78465\n",
        "gi|2765589|emb|Z78464.1|PGZ78464\n",
        "gi|2765588|emb|Z78463.1|PGZ78463\n",
        "gi|2765587|emb|Z78462.1|PSZ78462\n",
        "gi|2765586|emb|Z78461.1|PWZ78461\n",
        "gi|2765585|emb|Z78460.1|PCZ78460\n",
        "gi|2765584|emb|Z78459.1|PDZ78459\n",
        "gi|2765583|emb|Z78458.1|PHZ78458\n",
        "gi|2765582|emb|Z78457.1|PCZ78457\n",
        "gi|2765581|emb|Z78456.1|PTZ78456\n",
        "gi|2765580|emb|Z78455.1|PJZ78455\n",
        "gi|2765579|emb|Z78454.1|PFZ78454\n",
        "gi|2765578|emb|Z78453.1|PSZ78453\n",
        "gi|2765577|emb|Z78452.1|PBZ78452\n",
        "gi|2765576|emb|Z78451.1|PHZ78451\n",
        "gi|2765575|emb|Z78450.1|PPZ78450\n",
        "gi|2765574|emb|Z78449.1|PMZ78449\n",
        "gi|2765573|emb|Z78448.1|PAZ78448\n",
        "gi|2765572|emb|Z78447.1|PVZ78447\n",
        "gi|2765571|emb|Z78446.1|PAZ78446\n",
        "gi|2765570|emb|Z78445.1|PUZ78445\n",
        "gi|2765569|emb|Z78444.1|PAZ78444\n",
        "gi|2765568|emb|Z78443.1|PLZ78443\n",
        "gi|2765567|emb|Z78442.1|PBZ78442\n",
        "gi|2765566|emb|Z78441.1|PSZ78441\n",
        "gi|2765565|emb|Z78440.1|PPZ78440\n",
        "gi|2765564|emb|Z78439.1|PBZ78439\n"
       ]
      }
     ],
     "prompt_number": 2
    },
    {
     "cell_type": "code",
     "collapsed": false,
     "input": [
      "filename = 'python.fasta'\n",
      "parser = Bio.SeqIO.parse(filename, 'fasta')\n",
      "print parser\n",
      "sequence = parser.next()\n",
      "print type(sequence)\n",
      "print type(sequence.seq)\n",
      "#print sequence.seq\n",
      "nuc_sequence = sequence.seq\n",
      "first_100_bases = nuc_sequence[:100]\n",
      "print \"first 100 bases:\", first_100_bases\n",
      "print nuc_sequence.alphabet\n",
      "print sequence.id"
     ],
     "language": "python",
     "metadata": {},
     "outputs": [
      {
       "output_type": "stream",
       "stream": "stdout",
       "text": [
        "<generator object parse at 0x7f0036aa5cd0>\n",
        "<class 'Bio.SeqRecord.SeqRecord'>\n",
        "<class 'Bio.Seq.Seq'>\n",
        "first 100 bases: CGTAACAAGGTTTCCGTAGGTGAACCTGCGGAAGGATCATTGATGAGACCGTGGAATAAACGATCGAGTGAATCCGGAGGACCGGTGTACTCAGCTCACC\n",
        "SingleLetterAlphabet()\n",
        "gi|2765658|emb|Z78533.1|CIZ78533\n"
       ]
      }
     ],
     "prompt_number": 32
    },
    {
     "cell_type": "code",
     "collapsed": false,
     "input": [
      "print \"100 bases:\\t\\t\", first_100_bases\n",
      "print \"100 bases (compl)\\t\", first_100_bases.complement()\n",
      "print \"100 bases (r_compl)\\t\", first_100_bases.reverse_complement()\n",
      "print \"100 bases (as RNA):\\t\", first_100_bases.transcribe()\n",
      "codons = first_100_bases[:90]\n",
      "print \"first 90 bases as AAs:\", codons.translate()\n",
      "print \"first 90 bases as AAs:\", codons.translate(table=\"Vertebrate Mitochondrial\")"
     ],
     "language": "python",
     "metadata": {},
     "outputs": [
      {
       "output_type": "stream",
       "stream": "stdout",
       "text": [
        "100 bases:\t\tCGTAACAAGGTTTCCGTAGGTGAACCTGCGGAAGGATCATTGATGAGACCGTGGAATAAACGATCGAGTGAATCCGGAGGACCGGTGTACTCAGCTCACC\n",
        "100 bases (compl)\tGCATTGTTCCAAAGGCATCCACTTGGACGCCTTCCTAGTAACTACTCTGGCACCTTATTTGCTAGCTCACTTAGGCCTCCTGGCCACATGAGTCGAGTGG\n",
        "100 bases (r_compl)\tGGTGAGCTGAGTACACCGGTCCTCCGGATTCACTCGATCGTTTATTCCACGGTCTCATCAATGATCCTTCCGCAGGTTCACCTACGGAAACCTTGTTACG\n",
        "100 bases (as RNA):\tCGUAACAAGGUUUCCGUAGGUGAACCUGCGGAAGGAUCAUUGAUGAGACCGUGGAAUAAACGAUCGAGUGAAUCCGGAGGACCGGUGUACUCAGCUCACC\n",
        "first 90 bases as AAs: RNKVSVGEPAEGSLMRPWNKRSSESGGPVY\n",
        "first 90 bases as AAs: RNKVSVGEPAEGSLM*PWNKRSSESGGPVY\n"
       ]
      }
     ],
     "prompt_number": 33
    },
    {
     "cell_type": "code",
     "collapsed": false,
     "input": [
      "first_90 = nuc_sequence[:90]\n",
      "print first_90.alphabet\n",
      "rna_90 = first_90.transcribe()\n",
      "print rna_90.alphabet\n",
      "aa_30 = rna_90.translate()\n",
      "print aa_30.alphabet"
     ],
     "language": "python",
     "metadata": {},
     "outputs": [
      {
       "output_type": "stream",
       "stream": "stdout",
       "text": [
        "SingleLetterAlphabet()\n",
        "RNAAlphabet()\n",
        "ExtendedIUPACProtein()\n"
       ]
      }
     ],
     "prompt_number": 36
    },
    {
     "cell_type": "code",
     "collapsed": false,
     "input": [
      "filename = 'python.fasta'\n",
      "parser = Bio.SeqIO.parse(filename, 'fasta')\n",
      "sequence = parser.next()\n",
      "# SeqRecord attributes\n",
      "print \"sequence id:\", sequence.id\n",
      "print \"sequence display id:\", sequence.name\n",
      "print \"sequence description:\", sequence.description\n"
     ],
     "language": "python",
     "metadata": {},
     "outputs": [
      {
       "output_type": "stream",
       "stream": "stdout",
       "text": [
        "sequence id: gi|2765658|emb|Z78533.1|CIZ78533\n",
        "sequence display id: gi|2765658|emb|Z78533.1|CIZ78533\n",
        "sequence description: gi|2765658|emb|Z78533.1|CIZ78533 C.irapeanum 5.8S rRNA gene and ITS1 and ITS2 DNA\n"
       ]
      }
     ],
     "prompt_number": 37
    },
    {
     "cell_type": "code",
     "collapsed": false,
     "input": [
      "filename = 'data/NC_000962.gbk'\n",
      "sequence = Bio.SeqIO.read(filename, 'genbank')\n",
      "print \"sequence id:\", sequence.id\n",
      "print \"sequence display id:\", sequence.name\n",
      "print \"sequence description:\", sequence.description\n",
      "print \"sequence annotations:\", type(sequence.annotations)\n",
      "for annotation_key in sequence.annotations:\n",
      "    print annotation_key\n",
      "print \"taxonomy:\", sequence.annotations['taxonomy']\n",
      "print \"references:\", sequence.annotations['references']\n",
      "print \"organism:\", sequence.annotations['organism']"
     ],
     "language": "python",
     "metadata": {},
     "outputs": [
      {
       "output_type": "stream",
       "stream": "stdout",
       "text": [
        "sequence id: NC_000962.3\n",
        "sequence display id: NC_000962\n",
        "sequence description: Mycobacterium tuberculosis H37Rv, complete genome.\n",
        "sequence annotations: <type 'dict'>\n",
        "comment\n",
        "sequence_version\n",
        "source\n",
        "taxonomy\n",
        "keywords\n",
        "references\n",
        "accessions\n",
        "data_file_division\n",
        "date\n",
        "contig\n",
        "organism\n",
        "gi\n",
        "taxonomy: ['Bacteria', 'Actinobacteria', 'Actinobacteridae', 'Actinomycetales', 'Corynebacterineae', 'Mycobacteriaceae', 'Mycobacterium', 'Mycobacterium tuberculosis complex']\n",
        "references: [Reference(title='TubercuList--10 years after', ...), Reference(title='Re-annotation of the genome sequence of Mycobacterium tuberculosis H37Rv', ...), Reference(title='Deciphering the biology of Mycobacterium tuberculosis from the complete genome sequence', ...), Reference(title='Direct Submission', ...), Reference(title='Direct Submission', ...)]\n",
        "organism: Mycobacterium tuberculosis H37Rv\n"
       ]
      }
     ],
     "prompt_number": 45
    },
    {
     "cell_type": "code",
     "collapsed": false,
     "input": [
      "filename = 'python.fasta'\n",
      "# .read() doesn't work with files containing more than 1 record\n",
      "sequence = Bio.SeqIO.read(filename, 'fasta')"
     ],
     "language": "python",
     "metadata": {},
     "outputs": [
      {
       "ename": "ValueError",
       "evalue": "More than one record found in handle",
       "output_type": "pyerr",
       "traceback": [
        "\u001b[1;31m---------------------------------------------------------------------------\u001b[0m\n\u001b[1;31mValueError\u001b[0m                                Traceback (most recent call last)",
        "\u001b[1;32m<ipython-input-39-5c6adcb3e2f3>\u001b[0m in \u001b[0;36m<module>\u001b[1;34m()\u001b[0m\n\u001b[0;32m      1\u001b[0m \u001b[0mfilename\u001b[0m \u001b[1;33m=\u001b[0m \u001b[1;34m'python.fasta'\u001b[0m\u001b[1;33m\u001b[0m\u001b[0m\n\u001b[1;32m----> 2\u001b[1;33m \u001b[0msequence\u001b[0m \u001b[1;33m=\u001b[0m \u001b[0mBio\u001b[0m\u001b[1;33m.\u001b[0m\u001b[0mSeqIO\u001b[0m\u001b[1;33m.\u001b[0m\u001b[0mread\u001b[0m\u001b[1;33m(\u001b[0m\u001b[0mfilename\u001b[0m\u001b[1;33m,\u001b[0m \u001b[1;34m'fasta'\u001b[0m\u001b[1;33m)\u001b[0m\u001b[1;33m\u001b[0m\u001b[0m\n\u001b[0m",
        "\u001b[1;32m/home/pvh/anaconda/lib/python2.7/site-packages/Bio/SeqIO/__init__.pyc\u001b[0m in \u001b[0;36mread\u001b[1;34m(handle, format, alphabet)\u001b[0m\n\u001b[0;32m    663\u001b[0m         \u001b[0msecond\u001b[0m \u001b[1;33m=\u001b[0m \u001b[0mNone\u001b[0m\u001b[1;33m\u001b[0m\u001b[0m\n\u001b[0;32m    664\u001b[0m     \u001b[1;32mif\u001b[0m \u001b[0msecond\u001b[0m \u001b[1;32mis\u001b[0m \u001b[1;32mnot\u001b[0m \u001b[0mNone\u001b[0m\u001b[1;33m:\u001b[0m\u001b[1;33m\u001b[0m\u001b[0m\n\u001b[1;32m--> 665\u001b[1;33m         \u001b[1;32mraise\u001b[0m \u001b[0mValueError\u001b[0m\u001b[1;33m(\u001b[0m\u001b[1;34m\"More than one record found in handle\"\u001b[0m\u001b[1;33m)\u001b[0m\u001b[1;33m\u001b[0m\u001b[0m\n\u001b[0m\u001b[0;32m    666\u001b[0m     \u001b[1;32mreturn\u001b[0m \u001b[0mfirst\u001b[0m\u001b[1;33m\u001b[0m\u001b[0m\n\u001b[0;32m    667\u001b[0m \u001b[1;33m\u001b[0m\u001b[0m\n",
        "\u001b[1;31mValueError\u001b[0m: More than one record found in handle"
       ]
      }
     ],
     "prompt_number": 39
    },
    {
     "cell_type": "code",
     "collapsed": false,
     "input": [
      "filename = 'data/NC_000962.gbk'\n",
      "sequence = Bio.SeqIO.read(filename, 'genbank')\n",
      "first_feature = sequence.features[0]\n",
      "print first_feature\n",
      "first_feature_location = first_feature.location\n",
      "print \"start:\",first_feature_location.start\n",
      "print \"end:\", first_feature_location.end\n",
      "print \"strand:\", first_feature_location.strand"
     ],
     "language": "python",
     "metadata": {},
     "outputs": [
      {
       "output_type": "stream",
       "stream": "stdout",
       "text": [
        "type: source\n",
        "location: [0:4411532](+)\n",
        "qualifiers:\n",
        "    Key: db_xref, Value: ['taxon:83332']\n",
        "    Key: mol_type, Value: ['genomic DNA']\n",
        "    Key: organism, Value: ['Mycobacterium tuberculosis H37Rv']\n",
        "    Key: strain, Value: ['H37Rv']\n",
        "\n",
        "start: 0\n",
        "end: 4411532\n",
        "strand: 1\n"
       ]
      }
     ],
     "prompt_number": 52
    },
    {
     "cell_type": "code",
     "collapsed": false,
     "input": [
      "filename = 'data/NC_000962.gbk'\n",
      "sequence = Bio.SeqIO.read(filename, 'genbank')\n",
      "gene_feature = None\n",
      "for feature in sequence.features:\n",
      "    if feature.type == 'gene':\n",
      "        gene_feature = feature\n",
      "        break\n",
      "print gene_feature.location.start\n",
      "print gene_feature.location.end\n",
      "print gene_feature\n",
      "start = gene_feature.location.start\n",
      "end = gene_feature.location.end\n",
      "# get just the raw sequence\n",
      "gene_nucleotides = sequence.seq[start:end]\n",
      "# get part of the sequence record\n",
      "gene_sequence = sequence[start:end]\n",
      "print len(gene_sequence)\n",
      "print type(gene_sequence)\n",
      "print gene_sequence"
     ],
     "language": "python",
     "metadata": {},
     "outputs": [
      {
       "output_type": "stream",
       "stream": "stdout",
       "text": [
        "0\n",
        "1524\n",
        "type: gene\n",
        "location: [0:1524](+)\n",
        "qualifiers:\n",
        "    Key: db_xref, Value: ['GeneID:885041']\n",
        "    Key: experiment, Value: ['DESCRIPTION:Mutation analysis, gene expression[PMID: 10375628]']\n",
        "    Key: gene, Value: ['dnaA']\n",
        "    Key: locus_tag, Value: ['Rv0001']\n",
        "\n",
        "1524"
       ]
      },
      {
       "output_type": "stream",
       "stream": "stdout",
       "text": [
        "\n",
        "<class 'Bio.SeqRecord.SeqRecord'>\n",
        "ID: NC_000962.3\n",
        "Name: NC_000962\n",
        "Description: Mycobacterium tuberculosis H37Rv, complete genome.\n",
        "Number of features: 10\n",
        "Seq('TTGACCGATGACCCCGGTTCAGGCTTCACCACAGTGTGGAACGCGGTCGTCTCC...TAG', IUPACAmbiguousDNA())\n"
       ]
      }
     ],
     "prompt_number": 55
    },
    {
     "cell_type": "code",
     "collapsed": false,
     "input": [
      "aa_seq = gene_sequence.seq.translate()\n",
      "print aa_seq"
     ],
     "language": "python",
     "metadata": {},
     "outputs": [
      {
       "output_type": "stream",
       "stream": "stdout",
       "text": [
        "LTDDPGSGFTTVWNAVVSELNGDPKVDDGPSSDANLSAPLTPQQRAWLNLVQPLTIVEGFALLSVPSSFVQNEIERHLRAPITDALSRRLGHQIQLGVRIAPPATDEADDTTVPPSENPATTSPDTTTDNDEIDDSAAARGDNQHSWPSYFTERPHNTDSATAGVTSLNRRYTFDTFVIGASNRFAHAAALAIAEAPARAYNPLFIWGESGLGKTHLLHAAGNYAQRLFPGMRVKYVSTEEFTNDFINSLRDDRKVAFKRSYRDVDVLLVDDIQFIEGKEGIQEEFFHTFNTLHNANKQIVISSDRPPKQLATLEDRLRTRFEWGLITDVQPPELETRIAILRKKAQMERLAVPDDVLELIASSIERNIRELEGALIRVTAFASLNKTPIDKALAEIVLRDLIADANTMQISAATIMAATAEYFDTTVEELRGPGKTRALAQSRQIAMYLCRELTDLSLPKIGQAFGRDHTTVMYAQRKILSEMAERREVFDHVKELTTRIRQRSKR*\n"
       ]
      }
     ],
     "prompt_number": 58
    },
    {
     "cell_type": "code",
     "collapsed": false,
     "input": [
      "print \"original sequence feature count:\", len(sequence.features)\n",
      "print \"dnaA region feature count:\", len(gene_sequence.features)"
     ],
     "language": "python",
     "metadata": {},
     "outputs": [
      {
       "output_type": "stream",
       "stream": "stdout",
       "text": [
        "original sequence feature count: 19344\n",
        "dnaA region feature count: 10\n"
       ]
      }
     ],
     "prompt_number": 61
    },
    {
     "cell_type": "code",
     "collapsed": false,
     "input": [],
     "language": "python",
     "metadata": {},
     "outputs": []
    }
   ],
   "metadata": {}
  }
 ]
}