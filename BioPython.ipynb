{
 "metadata": {
  "name": "",
  "signature": "sha256:fee642ce28e99026a080dab94603f91aa5159ba45155f2d735e2160948d37375"
 },
 "nbformat": 3,
 "nbformat_minor": 0,
 "worksheets": [
  {
   "cells": [
    {
     "cell_type": "markdown",
     "metadata": {},
     "source": [
      "[BioPython](http://biopython.org/wiki/Main_Page) is a set of Python libraries for use in bioinformatics. The project has an excellent [tutorial](http://biopython.org/DIST/docs/tutorial/Tutorial.html).\n",
      "\n",
      "You can install BioPython into anaconda with the command:\n",
      "\n",
      "        conda install biopython\n",
      "\n",
      "One of the most commonly used parts of BioPython is the Bio.SeqIO module, used for reading and writing sequences. This has its own little [documentation page](http://biopython.org/wiki/SeqIO)."
     ]
    },
    {
     "cell_type": "code",
     "collapsed": false,
     "input": [
      "import Bio.SeqIO"
     ],
     "language": "python",
     "metadata": {},
     "outputs": [],
     "prompt_number": 1
    },
    {
     "cell_type": "markdown",
     "metadata": {},
     "source": [
      "Let's get some data to work with:\n",
      "\n",
      "        cd ~/Documents/python\n",
      "        mkdir data\n",
      "        cd data\n",
      "        wget -c 'http://j.mp/tbfasta'\n",
      "        wget -c 'http://j.mp/tbgbk'\n",
      "        wget -c 'http://j.mp/tbgff'\n",
      "\n",
      "This fetches `NC_000962.fna`, `NC_000962.gbk` and `NC_000962.gff` which we can use in addition to the existing `python.fasta` (retrieved from ftp://ftp.sanbi.ac.za/python.fasta)."
     ]
    },
    {
     "cell_type": "code",
     "collapsed": false,
     "input": [],
     "language": "python",
     "metadata": {},
     "outputs": []
    }
   ],
   "metadata": {}
  }
 ]
}