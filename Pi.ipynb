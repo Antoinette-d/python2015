{
 "metadata": {
  "name": "",
  "signature": "sha256:6ed4991faeb21f8b7630730a412f7b6d67c46f2dfc8608e30609735cb905b35b"
 },
 "nbformat": 3,
 "nbformat_minor": 0,
 "worksheets": [
  {
   "cells": [
    {
     "cell_type": "code",
     "collapsed": false,
     "input": [
      "import math\n",
      "import decimal\n",
      "import multiprocessing\n",
      "\n",
      "d = decimal.Decimal\n",
      "\n",
      "# calculate one term of the Chudnovsky series\n",
      "def k_func(k):\n",
      "    k = d(k)\n",
      "    return ((d(-1)**k)*math.factorial(d(6)*k)*(d(545140134)*k + d(13591409))/\n",
      "     (math.factorial(d(3)*k)*(math.factorial(k)**d(3))*(d(640320)**(d(3)*k+(d(3/2.0))))))\n",
      "\n",
      "# compute Pi using the Chudnovsky algorithm\n",
      "def calc_pi(n):\n",
      "    sum = d(0)\n",
      "    for k in range(n):\n",
      "        sum += k_func(k)\n",
      "    one_over_pi = d(12)*sum\n",
      "    return d(1)/one_over_pi\n",
      "\n",
      "# compute k0..kn-1 in parallel\n",
      "def calc_pi_mp(n, num_procs=4):\n",
      "    pool = multiprocessing.Pool(num_procs)\n",
      "    one_over_pi = d(12)*sum(pool.map(k_func, range(n)))\n",
      "    return d(1)/one_over_pi\n",
      "\n",
      "function_terms = 20\n",
      "decimal.getcontext().prec = function_terms*14+1\n",
      "pi = calc_pi(function_terms)\n",
      "print str(pi)\n",
      "print \"as a float\", float(pi)\n",
      "print\n",
      "# do the same thing, now in parallel\n",
      "print str(calc_pi(function_terms))\n",
      "\n",
      "# see also:\n",
      "# http://www.craig-wood.com/nick/pub/pymath/pi_chudnovsky.py\n",
      "# for a faster (integer-math only) implementation"
     ],
     "language": "python",
     "metadata": {},
     "outputs": [
      {
       "output_type": "stream",
       "stream": "stdout",
       "text": [
        "3.1415926535897932384626433832795028841971693993751058209749445923078164062862089986280348253421170679821480865132823066470938446095505822317253594081284811174502841027019385211055596446229489549303819644288109756659334461284756482337867831652712019091456485669234603486104543266483\n",
        "as a float 3.14159265359\n",
        "\n",
        "3.1415926535897932384626433832795028841971693993751058209749445923078164062862089986280348253421170679821480865132823066470938446095505822317253594081284811174502841027019385211055596446229489549303819644288109756659334461284756482337867831652712019091456485669234603486104543266483"
       ]
      },
      {
       "output_type": "stream",
       "stream": "stdout",
       "text": [
        "\n"
       ]
      }
     ],
     "prompt_number": 5
    },
    {
     "cell_type": "code",
     "collapsed": false,
     "input": [],
     "language": "python",
     "metadata": {},
     "outputs": []
    }
   ],
   "metadata": {}
  }
 ]
}