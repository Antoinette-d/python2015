{
 "metadata": {
  "name": "",
  "signature": "sha256:ac2157bdd4d7eeaf5a9c3690087648ddf8c3e11ea5a6a522ec9b69e5cc016a6e"
 },
 "nbformat": 3,
 "nbformat_minor": 0,
 "worksheets": [
  {
   "cells": [
    {
     "cell_type": "code",
     "collapsed": false,
     "input": [
      "import math\n",
      "import decimal\n",
      "import multiprocessing\n",
      "\n",
      "d = decimal.Decimal\n",
      "\n",
      "# calculate one term of the Chudnovsky series\n",
      "def k_func(k):\n",
      "    k = d(k)\n",
      "    return ((d(-1)**k)*math.factorial(d(6)*k)*(d(545140134)*k + d(13591409))/\n",
      "     (math.factorial(d(3)*k)*(math.factorial(k)**d(3))*(d(640320)**(d(3)*k+(d(3/2.0))))))\n",
      "\n",
      "# compute Pi using the Chudnovsky algorithm\n",
      "def calc_pi(n):\n",
      "    sum = d(0)\n",
      "    for k in range(n):\n",
      "        sum += k_func(k)\n",
      "    one_over_pi = d(12)*sum\n",
      "    return d(1)/one_over_pi\n",
      "\n",
      "# compute k0..kn-1 in parallel\n",
      "def calc_pi_mp(n, num_procs=4):\n",
      "    pool = multiprocessing.Pool(num_procs)\n",
      "    one_over_pi = d(12)*sum(pool.map(k_func, range(n)))\n",
      "    return d(1)/one_over_pi\n",
      "\n",
      "precision = 100\n",
      "function_terms = 8\n",
      "decimal.getcontext().prec = function_terms*14+1\n",
      "print str(calc_pi(function_terms))\n",
      "# do the same thing, now in parallel\n",
      "print str(calc_pi(function_terms))\n",
      "\n",
      "# see also:\n",
      "# http://www.craig-wood.com/nick/pub/pymath/pi_chudnovsky.py\n",
      "# for a faster (integer-math only) implementation"
     ],
     "language": "python",
     "metadata": {},
     "outputs": [
      {
       "output_type": "stream",
       "stream": "stdout",
       "text": [
        "3.1415926535897932384626433832795028841971693993751058209749445923078164062862089986280348253421170679821480865132\n",
        "3.1415926535897932384626433832795028841971693993751058209749445923078164062862089986280348253421170679821480865132\n"
       ]
      }
     ],
     "prompt_number": 1
    },
    {
     "cell_type": "code",
     "collapsed": false,
     "input": [],
     "language": "python",
     "metadata": {},
     "outputs": []
    }
   ],
   "metadata": {}
  }
 ]
}